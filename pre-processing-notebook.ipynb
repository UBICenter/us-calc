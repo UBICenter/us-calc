{
 "cells": [
  {
   "cell_type": "code",
   "execution_count": 5,
   "metadata": {},
   "outputs": [],
   "source": [
    "\r\n",
    "# if kernel crashes, make sure pywin32 and pipywin32 are installed. \r\n",
    "# Followed instructions here: https://github.com/jupyter/notebook/issues/4909 \r\n",
    "import win32api\r\n",
    "import pandas as pd\r\n",
    "import numpy as np\r\n",
    "import plotly.graph_objects as go\r\n",
    "import plotly.express as px\r\n",
    "import dash\r\n",
    "import dash_core_components as dcc\r\n",
    "import dash_html_components as html\r\n",
    "from dash.dependencies import Input, Output\r\n",
    "import dash_bootstrap_components as dbc\r\n",
    "import microdf as mdf\r\n",
    "import os\r\n",
    "import us\r\n",
    "\r\n"
   ]
  },
  {
   "cell_type": "code",
   "execution_count": 6,
   "metadata": {},
   "outputs": [
    {
     "data": {
      "text/html": "<div>\n<style scoped>\n    .dataframe tbody tr th:only-of-type {\n        vertical-align: middle;\n    }\n\n    .dataframe tbody tr th {\n        vertical-align: top;\n    }\n\n    .dataframe thead th {\n        text-align: right;\n    }\n</style>\n<table border=\"1\" class=\"dataframe\">\n  <thead>\n    <tr style=\"text-align: right;\">\n      <th></th>\n      <th>0</th>\n      <th>1</th>\n      <th>2</th>\n      <th>3</th>\n      <th>4</th>\n    </tr>\n  </thead>\n  <tbody>\n    <tr>\n      <th>year</th>\n      <td>2018</td>\n      <td>2018</td>\n      <td>2018</td>\n      <td>2018</td>\n      <td>2018</td>\n    </tr>\n    <tr>\n      <th>asecwt</th>\n      <td>438.673333</td>\n      <td>274.763333</td>\n      <td>274.763333</td>\n      <td>243.89</td>\n      <td>368.823333</td>\n    </tr>\n    <tr>\n      <th>age</th>\n      <td>73</td>\n      <td>48</td>\n      <td>55</td>\n      <td>12</td>\n      <td>6</td>\n    </tr>\n    <tr>\n      <th>race</th>\n      <td>100</td>\n      <td>100</td>\n      <td>100</td>\n      <td>100</td>\n      <td>200</td>\n    </tr>\n    <tr>\n      <th>citizen</th>\n      <td>1</td>\n      <td>1</td>\n      <td>1</td>\n      <td>1</td>\n      <td>1</td>\n    </tr>\n    <tr>\n      <th>hispan</th>\n      <td>0</td>\n      <td>0</td>\n      <td>0</td>\n      <td>0</td>\n      <td>0</td>\n    </tr>\n    <tr>\n      <th>diffany</th>\n      <td>2</td>\n      <td>1</td>\n      <td>1</td>\n      <td>0</td>\n      <td>0</td>\n    </tr>\n    <tr>\n      <th>incss</th>\n      <td>6000</td>\n      <td>0</td>\n      <td>0</td>\n      <td>0</td>\n      <td>0</td>\n    </tr>\n    <tr>\n      <th>incssi</th>\n      <td>0</td>\n      <td>0</td>\n      <td>0</td>\n      <td>0</td>\n      <td>0</td>\n    </tr>\n    <tr>\n      <th>incunemp</th>\n      <td>0</td>\n      <td>0</td>\n      <td>0</td>\n      <td>0</td>\n      <td>0</td>\n    </tr>\n    <tr>\n      <th>ctccrd</th>\n      <td>0</td>\n      <td>2400</td>\n      <td>0</td>\n      <td>0</td>\n      <td>0</td>\n    </tr>\n    <tr>\n      <th>actccrd</th>\n      <td>0</td>\n      <td>0</td>\n      <td>0</td>\n      <td>0</td>\n      <td>0</td>\n    </tr>\n    <tr>\n      <th>adjginc</th>\n      <td>9402</td>\n      <td>121785</td>\n      <td>0</td>\n      <td>0</td>\n      <td>0</td>\n    </tr>\n    <tr>\n      <th>eitcred</th>\n      <td>0</td>\n      <td>0</td>\n      <td>0</td>\n      <td>0</td>\n      <td>0</td>\n    </tr>\n    <tr>\n      <th>fedtaxac</th>\n      <td>0</td>\n      <td>11046</td>\n      <td>0</td>\n      <td>0</td>\n      <td>0</td>\n    </tr>\n    <tr>\n      <th>fica</th>\n      <td>0</td>\n      <td>92</td>\n      <td>4284</td>\n      <td>0</td>\n      <td>0</td>\n    </tr>\n    <tr>\n      <th>stataxac</th>\n      <td>0</td>\n      <td>4091</td>\n      <td>0</td>\n      <td>0</td>\n      <td>0</td>\n    </tr>\n    <tr>\n      <th>taxinc</th>\n      <td>0</td>\n      <td>88835</td>\n      <td>0</td>\n      <td>0</td>\n      <td>0</td>\n    </tr>\n    <tr>\n      <th>spmwt</th>\n      <td>1316.02</td>\n      <td>824.29</td>\n      <td>824.29</td>\n      <td>824.29</td>\n      <td>824.29</td>\n    </tr>\n    <tr>\n      <th>spmheat</th>\n      <td>0.0</td>\n      <td>0.0</td>\n      <td>0.0</td>\n      <td>0.0</td>\n      <td>0.0</td>\n    </tr>\n    <tr>\n      <th>spmsnap</th>\n      <td>0</td>\n      <td>0</td>\n      <td>0</td>\n      <td>0</td>\n      <td>0</td>\n    </tr>\n    <tr>\n      <th>spmtotres</th>\n      <td>47514.0</td>\n      <td>105232.008</td>\n      <td>105232.008</td>\n      <td>105232.008</td>\n      <td>105232.008</td>\n    </tr>\n    <tr>\n      <th>spmnpers</th>\n      <td>1</td>\n      <td>5</td>\n      <td>5</td>\n      <td>5</td>\n      <td>5</td>\n    </tr>\n    <tr>\n      <th>spmthresh</th>\n      <td>11004.31484</td>\n      <td>26449.08415</td>\n      <td>26449.08415</td>\n      <td>26449.08415</td>\n      <td>26449.08415</td>\n    </tr>\n    <tr>\n      <th>spmfamunit</th>\n      <td>2001</td>\n      <td>4001</td>\n      <td>4001</td>\n      <td>4001</td>\n      <td>4001</td>\n    </tr>\n    <tr>\n      <th>adult</th>\n      <td>True</td>\n      <td>True</td>\n      <td>True</td>\n      <td>False</td>\n      <td>False</td>\n    </tr>\n    <tr>\n      <th>child</th>\n      <td>False</td>\n      <td>False</td>\n      <td>False</td>\n      <td>True</td>\n      <td>True</td>\n    </tr>\n    <tr>\n      <th>black</th>\n      <td>False</td>\n      <td>False</td>\n      <td>False</td>\n      <td>False</td>\n      <td>True</td>\n    </tr>\n    <tr>\n      <th>white_non_hispanic</th>\n      <td>True</td>\n      <td>True</td>\n      <td>True</td>\n      <td>True</td>\n      <td>False</td>\n    </tr>\n    <tr>\n      <th>hispanic</th>\n      <td>True</td>\n      <td>True</td>\n      <td>True</td>\n      <td>True</td>\n      <td>True</td>\n    </tr>\n    <tr>\n      <th>pwd</th>\n      <td>True</td>\n      <td>False</td>\n      <td>False</td>\n      <td>False</td>\n      <td>False</td>\n    </tr>\n    <tr>\n      <th>non_citizen</th>\n      <td>False</td>\n      <td>False</td>\n      <td>False</td>\n      <td>False</td>\n      <td>False</td>\n    </tr>\n    <tr>\n      <th>non_citizen_child</th>\n      <td>False</td>\n      <td>False</td>\n      <td>False</td>\n      <td>False</td>\n      <td>False</td>\n    </tr>\n    <tr>\n      <th>non_citizen_adult</th>\n      <td>False</td>\n      <td>False</td>\n      <td>False</td>\n      <td>False</td>\n      <td>False</td>\n    </tr>\n    <tr>\n      <th>state</th>\n      <td>Maine</td>\n      <td>Maine</td>\n      <td>Maine</td>\n      <td>Maine</td>\n      <td>Maine</td>\n    </tr>\n    <tr>\n      <th>ctc</th>\n      <td>0</td>\n      <td>2400</td>\n      <td>0</td>\n      <td>0</td>\n      <td>0</td>\n    </tr>\n    <tr>\n      <th>person</th>\n      <td>1</td>\n      <td>1</td>\n      <td>1</td>\n      <td>1</td>\n      <td>1</td>\n    </tr>\n    <tr>\n      <th>numper</th>\n      <td>1</td>\n      <td>5</td>\n      <td>5</td>\n      <td>5</td>\n      <td>5</td>\n    </tr>\n    <tr>\n      <th>weighted_state_tax</th>\n      <td>0.0</td>\n      <td>1124056.796667</td>\n      <td>0.0</td>\n      <td>0.0</td>\n      <td>0.0</td>\n    </tr>\n    <tr>\n      <th>weighted_agi</th>\n      <td>4124406.68</td>\n      <td>33462052.55</td>\n      <td>0.0</td>\n      <td>0.0</td>\n      <td>0.0</td>\n    </tr>\n    <tr>\n      <th>state_tax_revenue</th>\n      <td>1526793245.48</td>\n      <td>1526793245.48</td>\n      <td>1526793245.48</td>\n      <td>1526793245.48</td>\n      <td>1526793245.48</td>\n    </tr>\n    <tr>\n      <th>state_taxable_income</th>\n      <td>40179001414.286758</td>\n      <td>40179001414.286758</td>\n      <td>40179001414.286758</td>\n      <td>40179001414.286758</td>\n      <td>40179001414.286758</td>\n    </tr>\n  </tbody>\n</table>\n</div>",
      "text/plain": "                                       0                   1  \\\nyear                                2018                2018   \nasecwt                        438.673333          274.763333   \nage                                   73                  48   \nrace                                 100                 100   \ncitizen                                1                   1   \nhispan                                 0                   0   \ndiffany                                2                   1   \nincss                               6000                   0   \nincssi                                 0                   0   \nincunemp                               0                   0   \nctccrd                                 0                2400   \nactccrd                                0                   0   \nadjginc                             9402              121785   \neitcred                                0                   0   \nfedtaxac                               0               11046   \nfica                                   0                  92   \nstataxac                               0                4091   \ntaxinc                                 0               88835   \nspmwt                            1316.02              824.29   \nspmheat                              0.0                 0.0   \nspmsnap                                0                   0   \nspmtotres                        47514.0          105232.008   \nspmnpers                               1                   5   \nspmthresh                    11004.31484         26449.08415   \nspmfamunit                          2001                4001   \nadult                               True                True   \nchild                              False               False   \nblack                              False               False   \nwhite_non_hispanic                  True                True   \nhispanic                            True                True   \npwd                                 True               False   \nnon_citizen                        False               False   \nnon_citizen_child                  False               False   \nnon_citizen_adult                  False               False   \nstate                              Maine               Maine   \nctc                                    0                2400   \nperson                                 1                   1   \nnumper                                 1                   5   \nweighted_state_tax                   0.0      1124056.796667   \nweighted_agi                  4124406.68         33462052.55   \nstate_tax_revenue          1526793245.48       1526793245.48   \nstate_taxable_income  40179001414.286758  40179001414.286758   \n\n                                       2                   3  \\\nyear                                2018                2018   \nasecwt                        274.763333              243.89   \nage                                   55                  12   \nrace                                 100                 100   \ncitizen                                1                   1   \nhispan                                 0                   0   \ndiffany                                1                   0   \nincss                                  0                   0   \nincssi                                 0                   0   \nincunemp                               0                   0   \nctccrd                                 0                   0   \nactccrd                                0                   0   \nadjginc                                0                   0   \neitcred                                0                   0   \nfedtaxac                               0                   0   \nfica                                4284                   0   \nstataxac                               0                   0   \ntaxinc                                 0                   0   \nspmwt                             824.29              824.29   \nspmheat                              0.0                 0.0   \nspmsnap                                0                   0   \nspmtotres                     105232.008          105232.008   \nspmnpers                               5                   5   \nspmthresh                    26449.08415         26449.08415   \nspmfamunit                          4001                4001   \nadult                               True               False   \nchild                              False                True   \nblack                              False               False   \nwhite_non_hispanic                  True                True   \nhispanic                            True                True   \npwd                                False               False   \nnon_citizen                        False               False   \nnon_citizen_child                  False               False   \nnon_citizen_adult                  False               False   \nstate                              Maine               Maine   \nctc                                    0                   0   \nperson                                 1                   1   \nnumper                                 5                   5   \nweighted_state_tax                   0.0                 0.0   \nweighted_agi                         0.0                 0.0   \nstate_tax_revenue          1526793245.48       1526793245.48   \nstate_taxable_income  40179001414.286758  40179001414.286758   \n\n                                       4  \nyear                                2018  \nasecwt                        368.823333  \nage                                    6  \nrace                                 200  \ncitizen                                1  \nhispan                                 0  \ndiffany                                0  \nincss                                  0  \nincssi                                 0  \nincunemp                               0  \nctccrd                                 0  \nactccrd                                0  \nadjginc                                0  \neitcred                                0  \nfedtaxac                               0  \nfica                                   0  \nstataxac                               0  \ntaxinc                                 0  \nspmwt                             824.29  \nspmheat                              0.0  \nspmsnap                                0  \nspmtotres                     105232.008  \nspmnpers                               5  \nspmthresh                    26449.08415  \nspmfamunit                          4001  \nadult                              False  \nchild                               True  \nblack                               True  \nwhite_non_hispanic                 False  \nhispanic                            True  \npwd                                False  \nnon_citizen                        False  \nnon_citizen_child                  False  \nnon_citizen_adult                  False  \nstate                              Maine  \nctc                                    0  \nperson                                 1  \nnumper                                 5  \nweighted_state_tax                   0.0  \nweighted_agi                         0.0  \nstate_tax_revenue          1526793245.48  \nstate_taxable_income  40179001414.286758  "
     },
     "execution_count": 6,
     "metadata": {},
     "output_type": "execute_result"
    }
   ],
   "source": [
    "# Import data from Ipums\r\n",
    "person_raw = pd.read_csv(\"cps_00041.csv.gz\")\r\n",
    "\r\n",
    "# Create copy and lower column names\r\n",
    "person = person_raw.copy(deep=True)\r\n",
    "person.columns = person.columns.str.lower()\r\n",
    "person.asecwt /= 3\r\n",
    "\r\n",
    "# Create booleans for demographics\r\n",
    "person[\"adult\"] = person.age > 17\r\n",
    "person[\"child\"] = person.age < 18\r\n",
    "\r\n",
    "person[\"black\"] = person.race == 200\r\n",
    "person[\"white_non_hispanic\"] = (person.race == 100) & (person.hispan == 0)\r\n",
    "person[\"hispanic\"] = (person.hispan > 1) & person.hispan < 700\r\n",
    "person[\"pwd\"] = person.diffany == 2\r\n",
    "person[\"non_citizen\"] = person.citizen == 5\r\n",
    "person[\"non_citizen_child\"] = (person.citizen == 5) & (person.age < 18)\r\n",
    "person[\"non_citizen_adult\"] = (person.citizen == 5) & (person.age > 17)\r\n",
    "\r\n",
    "# Remove NIUs\r\n",
    "person[\"taxinc\"].replace({9999999: 0}, inplace=True)\r\n",
    "person[\"adjginc\"].replace({99999999: 0}, inplace=True)\r\n",
    "person[\"incss\"].replace({999999: 0}, inplace=True)\r\n",
    "person[\"incssi\"].replace({999999: 0}, inplace=True)\r\n",
    "person[\"incunemp\"].replace({99999: 0}, inplace=True)\r\n",
    "person[\"incunemp\"].replace({999999: 0}, inplace=True)\r\n",
    "person[\"ctccrd\"].replace({999999: 0}, inplace=True)\r\n",
    "person[\"actccrd\"].replace({99999: 0}, inplace=True)\r\n",
    "person[\"eitcred\"].replace({9999: 0}, inplace=True)\r\n",
    "person[\"fica\"].replace({99999: 0}, inplace=True)\r\n",
    "person[\"fedtaxac\"].replace({99999999: 0}, inplace=True)\r\n",
    "person[\"stataxac\"].replace({9999999: 0}, inplace=True)\r\n",
    "\r\n",
    "# Change fip codes to state names\r\n",
    "# Change fip codes to state names\r\n",
    "person[\"state\"] = (\r\n",
    "    person[\"statefip\"].astype(str)\r\n",
    "    # pad leading zero or wrong number of states\r\n",
    "    .apply(\"{:0>2}\".format)\r\n",
    "    # lookup full state name from fips code\r\n",
    "    .apply(lambda x: us.states.lookup(x))\r\n",
    "    # change us package formatting to string\r\n",
    "    .astype(str)\r\n",
    ")\r\n",
    "# drop original statefip column from dataframe\r\n",
    "person = person.drop(columns=[\"statefip\"])\r\n",
    "\r\n",
    "# Aggregate deductible and refundable child tax credits\r\n",
    "person[\"ctc\"] = person.ctccrd + person.actccrd\r\n",
    "\r\n",
    "# Calculate the number of people per smp unit\r\n",
    "person[\"person\"] = 1\r\n",
    "spm = person.groupby([\"spmfamunit\", \"year\"])[[\"person\"]].sum()\r\n",
    "spm.columns = [\"numper\"]\r\n",
    "person = person.merge(spm, left_on=[\"spmfamunit\", \"year\"], right_index=True)\r\n",
    "\r\n",
    "person[\"weighted_state_tax\"] = person.asecwt * person.stataxac\r\n",
    "person[\"weighted_agi\"] = person.asecwt * person.adjginc\r\n",
    "\r\n",
    "# Calculate the total taxable income and total people in each state\r\n",
    "state_groups_taxinc = person.groupby([\"state\"])[\r\n",
    "    [\"weighted_state_tax\", \"weighted_agi\"]\r\n",
    "].sum()\r\n",
    "state_groups_taxinc.columns = [\"state_tax_revenue\", \"state_taxable_income\"]\r\n",
    "person = person.merge(\r\n",
    "    state_groups_taxinc, left_on=[\"state\"], right_index=True\r\n",
    ")\r\n",
    "\r\n",
    "person.head().T"
   ]
  },
  {
   "cell_type": "code",
   "execution_count": 7,
   "metadata": {},
   "outputs": [
    {
     "data": {
      "text/html": "<div>\n<style scoped>\n    .dataframe tbody tr th:only-of-type {\n        vertical-align: middle;\n    }\n\n    .dataframe tbody tr th {\n        vertical-align: top;\n    }\n\n    .dataframe thead th {\n        text-align: right;\n    }\n</style>\n<table border=\"1\" class=\"dataframe\">\n  <thead>\n    <tr style=\"text-align: right;\">\n      <th></th>\n      <th>spmheat</th>\n      <th>spmsnap</th>\n      <th>spmfamunit</th>\n      <th>spmthresh</th>\n      <th>spmtotres</th>\n      <th>spmwt</th>\n      <th>year</th>\n      <th>state</th>\n      <th>state_tax_revenue</th>\n      <th>state_taxable_income</th>\n      <th>...</th>\n      <th>incssi</th>\n      <th>incunemp</th>\n      <th>eitcred</th>\n      <th>child</th>\n      <th>adult</th>\n      <th>non_citizen</th>\n      <th>non_citizen_child</th>\n      <th>non_citizen_adult</th>\n      <th>numper</th>\n      <th>stataxac</th>\n    </tr>\n  </thead>\n  <tbody>\n    <tr>\n      <th>0</th>\n      <td>0.0</td>\n      <td>0</td>\n      <td>1001</td>\n      <td>14700.00000</td>\n      <td>86459.000</td>\n      <td>517.633333</td>\n      <td>2020</td>\n      <td>Maine</td>\n      <td>1.526793e+09</td>\n      <td>4.017900e+10</td>\n      <td>...</td>\n      <td>0</td>\n      <td>0</td>\n      <td>0</td>\n      <td>0</td>\n      <td>2</td>\n      <td>0</td>\n      <td>0</td>\n      <td>0</td>\n      <td>2</td>\n      <td>-4624</td>\n    </tr>\n    <tr>\n      <th>1</th>\n      <td>0.0</td>\n      <td>0</td>\n      <td>2001</td>\n      <td>11004.31484</td>\n      <td>47514.000</td>\n      <td>438.673333</td>\n      <td>2018</td>\n      <td>Maine</td>\n      <td>1.526793e+09</td>\n      <td>4.017900e+10</td>\n      <td>...</td>\n      <td>0</td>\n      <td>0</td>\n      <td>0</td>\n      <td>0</td>\n      <td>1</td>\n      <td>0</td>\n      <td>0</td>\n      <td>0</td>\n      <td>1</td>\n      <td>0</td>\n    </tr>\n    <tr>\n      <th>2</th>\n      <td>0.0</td>\n      <td>0</td>\n      <td>2001</td>\n      <td>14700.00000</td>\n      <td>55275.000</td>\n      <td>330.163333</td>\n      <td>2020</td>\n      <td>Maine</td>\n      <td>1.526793e+09</td>\n      <td>4.017900e+10</td>\n      <td>...</td>\n      <td>0</td>\n      <td>0</td>\n      <td>0</td>\n      <td>0</td>\n      <td>2</td>\n      <td>0</td>\n      <td>0</td>\n      <td>0</td>\n      <td>2</td>\n      <td>0</td>\n    </tr>\n    <tr>\n      <th>3</th>\n      <td>0.0</td>\n      <td>0</td>\n      <td>3001</td>\n      <td>11920.00000</td>\n      <td>28653.000</td>\n      <td>501.756667</td>\n      <td>2020</td>\n      <td>Maine</td>\n      <td>1.526793e+09</td>\n      <td>4.017900e+10</td>\n      <td>...</td>\n      <td>0</td>\n      <td>0</td>\n      <td>0</td>\n      <td>0</td>\n      <td>1</td>\n      <td>0</td>\n      <td>0</td>\n      <td>0</td>\n      <td>1</td>\n      <td>-1152</td>\n    </tr>\n    <tr>\n      <th>4</th>\n      <td>0.0</td>\n      <td>0</td>\n      <td>4001</td>\n      <td>26449.08415</td>\n      <td>105232.008</td>\n      <td>274.763333</td>\n      <td>2018</td>\n      <td>Maine</td>\n      <td>1.526793e+09</td>\n      <td>4.017900e+10</td>\n      <td>...</td>\n      <td>0</td>\n      <td>0</td>\n      <td>0</td>\n      <td>3</td>\n      <td>2</td>\n      <td>0</td>\n      <td>0</td>\n      <td>0</td>\n      <td>5</td>\n      <td>-4091</td>\n    </tr>\n  </tbody>\n</table>\n<p>5 rows × 24 columns</p>\n</div>",
      "text/plain": "   spmheat  spmsnap  spmfamunit    spmthresh   spmtotres       spmwt  year  \\\n0      0.0        0        1001  14700.00000   86459.000  517.633333  2020   \n1      0.0        0        2001  11004.31484   47514.000  438.673333  2018   \n2      0.0        0        2001  14700.00000   55275.000  330.163333  2020   \n3      0.0        0        3001  11920.00000   28653.000  501.756667  2020   \n4      0.0        0        4001  26449.08415  105232.008  274.763333  2018   \n\n   state  state_tax_revenue  state_taxable_income  ...  incssi  incunemp  \\\n0  Maine       1.526793e+09          4.017900e+10  ...       0         0   \n1  Maine       1.526793e+09          4.017900e+10  ...       0         0   \n2  Maine       1.526793e+09          4.017900e+10  ...       0         0   \n3  Maine       1.526793e+09          4.017900e+10  ...       0         0   \n4  Maine       1.526793e+09          4.017900e+10  ...       0         0   \n\n   eitcred  child  adult  non_citizen  non_citizen_child  non_citizen_adult  \\\n0        0      0      2            0                  0                  0   \n1        0      0      1            0                  0                  0   \n2        0      0      2            0                  0                  0   \n3        0      0      1            0                  0                  0   \n4        0      3      2            0                  0                  0   \n\n   numper  stataxac  \n0       2     -4624  \n1       1         0  \n2       2         0  \n3       1     -1152  \n4       5     -4091  \n\n[5 rows x 24 columns]"
     },
     "execution_count": 7,
     "metadata": {},
     "output_type": "execute_result"
    }
   ],
   "source": [
    "# Create dataframe with aggregated spm unit data\r\n",
    "PERSON_COLUMNS = [\r\n",
    "    \"adjginc\",\r\n",
    "    \"fica\",\r\n",
    "    \"fedtaxac\",\r\n",
    "    \"ctc\",\r\n",
    "    \"incssi\",\r\n",
    "    \"incunemp\",\r\n",
    "    \"eitcred\",\r\n",
    "    \"child\",\r\n",
    "    \"adult\",\r\n",
    "    \"non_citizen\",\r\n",
    "    \"non_citizen_child\",\r\n",
    "    \"non_citizen_adult\",\r\n",
    "    \"person\",\r\n",
    "    \"stataxac\",\r\n",
    "]\r\n",
    "SPMU_COLUMNS = [\r\n",
    "    \"spmheat\",\r\n",
    "    \"spmsnap\",\r\n",
    "    \"spmfamunit\",\r\n",
    "    \"spmthresh\",\r\n",
    "    \"spmtotres\",\r\n",
    "    \"spmwt\",\r\n",
    "    \"year\",\r\n",
    "    \"state\",\r\n",
    "    \"state_tax_revenue\",\r\n",
    "    \"state_taxable_income\",\r\n",
    "]\r\n",
    "\r\n",
    "spmu = person.groupby(SPMU_COLUMNS, observed=False)[PERSON_COLUMNS].sum().reset_index()\r\n",
    "spmu[[\"fica\", \"fedtaxac\", \"stataxac\"]] *= -1\r\n",
    "spmu.rename(columns={\"person\": \"numper\"}, inplace=True)\r\n",
    "\r\n",
    "spmu.spmwt /= 3\r\n",
    "\r\n",
    "spmu.head()"
   ]
  },
  {
   "cell_type": "code",
   "execution_count": 8,
   "metadata": {},
   "outputs": [
    {
     "data": {
      "text/html": "<div>\n<style scoped>\n    .dataframe tbody tr th:only-of-type {\n        vertical-align: middle;\n    }\n\n    .dataframe tbody tr th {\n        vertical-align: top;\n    }\n\n    .dataframe thead th {\n        text-align: right;\n    }\n</style>\n<table border=\"1\" class=\"dataframe\">\n  <thead>\n    <tr style=\"text-align: right;\">\n      <th></th>\n      <th>count</th>\n      <th>mean</th>\n      <th>std</th>\n      <th>min</th>\n      <th>25%</th>\n      <th>50%</th>\n      <th>75%</th>\n      <th>max</th>\n    </tr>\n  </thead>\n  <tbody>\n    <tr>\n      <th>spmheat</th>\n      <td>205618.0</td>\n      <td>1.503946e+01</td>\n      <td>1.174539e+02</td>\n      <td>0.000000e+00</td>\n      <td>0.000000e+00</td>\n      <td>0.000000e+00</td>\n      <td>0.000000e+00</td>\n      <td>8.000000e+03</td>\n    </tr>\n    <tr>\n      <th>spmsnap</th>\n      <td>205618.0</td>\n      <td>2.303782e+02</td>\n      <td>1.036016e+03</td>\n      <td>0.000000e+00</td>\n      <td>0.000000e+00</td>\n      <td>0.000000e+00</td>\n      <td>0.000000e+00</td>\n      <td>3.000000e+04</td>\n    </tr>\n    <tr>\n      <th>spmfamunit</th>\n      <td>205618.0</td>\n      <td>4.730608e+07</td>\n      <td>2.695320e+07</td>\n      <td>1.001000e+03</td>\n      <td>2.393125e+07</td>\n      <td>4.742550e+07</td>\n      <td>7.104775e+07</td>\n      <td>9.463300e+07</td>\n    </tr>\n    <tr>\n      <th>spmthresh</th>\n      <td>205618.0</td>\n      <td>2.084751e+04</td>\n      <td>8.769906e+03</td>\n      <td>9.075782e+03</td>\n      <td>1.392000e+04</td>\n      <td>1.835654e+04</td>\n      <td>2.618000e+04</td>\n      <td>9.315053e+04</td>\n    </tr>\n    <tr>\n      <th>spmtotres</th>\n      <td>205618.0</td>\n      <td>6.334466e+04</td>\n      <td>6.793154e+04</td>\n      <td>-9.898173e+05</td>\n      <td>2.433325e+04</td>\n      <td>4.635250e+04</td>\n      <td>8.102476e+04</td>\n      <td>1.534490e+06</td>\n    </tr>\n    <tr>\n      <th>spmwt</th>\n      <td>205618.0</td>\n      <td>6.563984e+02</td>\n      <td>4.049073e+02</td>\n      <td>3.108000e+01</td>\n      <td>3.192058e+02</td>\n      <td>6.170533e+02</td>\n      <td>9.224800e+02</td>\n      <td>3.866477e+03</td>\n    </tr>\n    <tr>\n      <th>year</th>\n      <td>205618.0</td>\n      <td>2.018961e+03</td>\n      <td>8.066634e-01</td>\n      <td>2.018000e+03</td>\n      <td>2.018000e+03</td>\n      <td>2.019000e+03</td>\n      <td>2.020000e+03</td>\n      <td>2.020000e+03</td>\n    </tr>\n    <tr>\n      <th>state_tax_revenue</th>\n      <td>205618.0</td>\n      <td>1.200535e+10</td>\n      <td>1.790241e+10</td>\n      <td>0.000000e+00</td>\n      <td>1.365168e+09</td>\n      <td>4.514997e+09</td>\n      <td>1.284825e+10</td>\n      <td>6.109081e+10</td>\n    </tr>\n    <tr>\n      <th>state_taxable_income</th>\n      <td>205618.0</td>\n      <td>3.791404e+11</td>\n      <td>4.063929e+11</td>\n      <td>1.739814e+10</td>\n      <td>7.883665e+10</td>\n      <td>2.256971e+11</td>\n      <td>4.656021e+11</td>\n      <td>1.401512e+12</td>\n    </tr>\n    <tr>\n      <th>adjginc</th>\n      <td>205618.0</td>\n      <td>8.133351e+04</td>\n      <td>1.067784e+05</td>\n      <td>-9.999000e+03</td>\n      <td>1.985025e+04</td>\n      <td>5.552000e+04</td>\n      <td>1.081548e+05</td>\n      <td>2.979999e+06</td>\n    </tr>\n    <tr>\n      <th>fica</th>\n      <td>205618.0</td>\n      <td>-5.002822e+03</td>\n      <td>5.383852e+03</td>\n      <td>-7.672700e+04</td>\n      <td>-7.650000e+03</td>\n      <td>-3.672000e+03</td>\n      <td>-3.850000e+02</td>\n      <td>0.000000e+00</td>\n    </tr>\n    <tr>\n      <th>fedtaxac</th>\n      <td>205618.0</td>\n      <td>-9.468548e+03</td>\n      <td>2.675108e+04</td>\n      <td>-8.841590e+05</td>\n      <td>-1.027300e+04</td>\n      <td>-2.926000e+03</td>\n      <td>0.000000e+00</td>\n      <td>2.265400e+04</td>\n    </tr>\n    <tr>\n      <th>ctc</th>\n      <td>205618.0</td>\n      <td>8.184679e+02</td>\n      <td>1.599715e+03</td>\n      <td>0.000000e+00</td>\n      <td>0.000000e+00</td>\n      <td>0.000000e+00</td>\n      <td>1.000000e+03</td>\n      <td>1.850000e+04</td>\n    </tr>\n    <tr>\n      <th>incssi</th>\n      <td>205618.0</td>\n      <td>3.711491e+02</td>\n      <td>2.153951e+03</td>\n      <td>0.000000e+00</td>\n      <td>0.000000e+00</td>\n      <td>0.000000e+00</td>\n      <td>0.000000e+00</td>\n      <td>5.000000e+04</td>\n    </tr>\n    <tr>\n      <th>incunemp</th>\n      <td>205618.0</td>\n      <td>1.256840e+02</td>\n      <td>1.191139e+03</td>\n      <td>0.000000e+00</td>\n      <td>0.000000e+00</td>\n      <td>0.000000e+00</td>\n      <td>0.000000e+00</td>\n      <td>7.860000e+04</td>\n    </tr>\n    <tr>\n      <th>eitcred</th>\n      <td>205618.0</td>\n      <td>3.553457e+02</td>\n      <td>1.144287e+03</td>\n      <td>0.000000e+00</td>\n      <td>0.000000e+00</td>\n      <td>0.000000e+00</td>\n      <td>0.000000e+00</td>\n      <td>1.744600e+04</td>\n    </tr>\n    <tr>\n      <th>child</th>\n      <td>205618.0</td>\n      <td>6.583519e-01</td>\n      <td>1.074956e+00</td>\n      <td>0.000000e+00</td>\n      <td>0.000000e+00</td>\n      <td>0.000000e+00</td>\n      <td>1.000000e+00</td>\n      <td>1.000000e+01</td>\n    </tr>\n    <tr>\n      <th>adult</th>\n      <td>205618.0</td>\n      <td>1.861583e+00</td>\n      <td>8.545401e-01</td>\n      <td>0.000000e+00</td>\n      <td>1.000000e+00</td>\n      <td>2.000000e+00</td>\n      <td>2.000000e+00</td>\n      <td>1.100000e+01</td>\n    </tr>\n    <tr>\n      <th>non_citizen</th>\n      <td>205618.0</td>\n      <td>1.767501e-01</td>\n      <td>6.063346e-01</td>\n      <td>0.000000e+00</td>\n      <td>0.000000e+00</td>\n      <td>0.000000e+00</td>\n      <td>0.000000e+00</td>\n      <td>1.000000e+01</td>\n    </tr>\n    <tr>\n      <th>non_citizen_child</th>\n      <td>205618.0</td>\n      <td>1.573792e-02</td>\n      <td>1.700964e-01</td>\n      <td>0.000000e+00</td>\n      <td>0.000000e+00</td>\n      <td>0.000000e+00</td>\n      <td>0.000000e+00</td>\n      <td>7.000000e+00</td>\n    </tr>\n    <tr>\n      <th>non_citizen_adult</th>\n      <td>205618.0</td>\n      <td>1.610122e-01</td>\n      <td>5.308736e-01</td>\n      <td>0.000000e+00</td>\n      <td>0.000000e+00</td>\n      <td>0.000000e+00</td>\n      <td>0.000000e+00</td>\n      <td>8.000000e+00</td>\n    </tr>\n    <tr>\n      <th>numper</th>\n      <td>205618.0</td>\n      <td>2.519935e+00</td>\n      <td>1.499761e+00</td>\n      <td>1.000000e+00</td>\n      <td>1.000000e+00</td>\n      <td>2.000000e+00</td>\n      <td>3.000000e+00</td>\n      <td>1.500000e+01</td>\n    </tr>\n    <tr>\n      <th>stataxac</th>\n      <td>205618.0</td>\n      <td>-2.652318e+03</td>\n      <td>6.203340e+03</td>\n      <td>-2.744670e+05</td>\n      <td>-3.193000e+03</td>\n      <td>-5.360000e+02</td>\n      <td>0.000000e+00</td>\n      <td>5.335000e+03</td>\n    </tr>\n  </tbody>\n</table>\n</div>",
      "text/plain": "                         count          mean           std           min  \\\nspmheat               205618.0  1.503946e+01  1.174539e+02  0.000000e+00   \nspmsnap               205618.0  2.303782e+02  1.036016e+03  0.000000e+00   \nspmfamunit            205618.0  4.730608e+07  2.695320e+07  1.001000e+03   \nspmthresh             205618.0  2.084751e+04  8.769906e+03  9.075782e+03   \nspmtotres             205618.0  6.334466e+04  6.793154e+04 -9.898173e+05   \nspmwt                 205618.0  6.563984e+02  4.049073e+02  3.108000e+01   \nyear                  205618.0  2.018961e+03  8.066634e-01  2.018000e+03   \nstate_tax_revenue     205618.0  1.200535e+10  1.790241e+10  0.000000e+00   \nstate_taxable_income  205618.0  3.791404e+11  4.063929e+11  1.739814e+10   \nadjginc               205618.0  8.133351e+04  1.067784e+05 -9.999000e+03   \nfica                  205618.0 -5.002822e+03  5.383852e+03 -7.672700e+04   \nfedtaxac              205618.0 -9.468548e+03  2.675108e+04 -8.841590e+05   \nctc                   205618.0  8.184679e+02  1.599715e+03  0.000000e+00   \nincssi                205618.0  3.711491e+02  2.153951e+03  0.000000e+00   \nincunemp              205618.0  1.256840e+02  1.191139e+03  0.000000e+00   \neitcred               205618.0  3.553457e+02  1.144287e+03  0.000000e+00   \nchild                 205618.0  6.583519e-01  1.074956e+00  0.000000e+00   \nadult                 205618.0  1.861583e+00  8.545401e-01  0.000000e+00   \nnon_citizen           205618.0  1.767501e-01  6.063346e-01  0.000000e+00   \nnon_citizen_child     205618.0  1.573792e-02  1.700964e-01  0.000000e+00   \nnon_citizen_adult     205618.0  1.610122e-01  5.308736e-01  0.000000e+00   \nnumper                205618.0  2.519935e+00  1.499761e+00  1.000000e+00   \nstataxac              205618.0 -2.652318e+03  6.203340e+03 -2.744670e+05   \n\n                               25%           50%           75%           max  \nspmheat               0.000000e+00  0.000000e+00  0.000000e+00  8.000000e+03  \nspmsnap               0.000000e+00  0.000000e+00  0.000000e+00  3.000000e+04  \nspmfamunit            2.393125e+07  4.742550e+07  7.104775e+07  9.463300e+07  \nspmthresh             1.392000e+04  1.835654e+04  2.618000e+04  9.315053e+04  \nspmtotres             2.433325e+04  4.635250e+04  8.102476e+04  1.534490e+06  \nspmwt                 3.192058e+02  6.170533e+02  9.224800e+02  3.866477e+03  \nyear                  2.018000e+03  2.019000e+03  2.020000e+03  2.020000e+03  \nstate_tax_revenue     1.365168e+09  4.514997e+09  1.284825e+10  6.109081e+10  \nstate_taxable_income  7.883665e+10  2.256971e+11  4.656021e+11  1.401512e+12  \nadjginc               1.985025e+04  5.552000e+04  1.081548e+05  2.979999e+06  \nfica                 -7.650000e+03 -3.672000e+03 -3.850000e+02  0.000000e+00  \nfedtaxac             -1.027300e+04 -2.926000e+03  0.000000e+00  2.265400e+04  \nctc                   0.000000e+00  0.000000e+00  1.000000e+03  1.850000e+04  \nincssi                0.000000e+00  0.000000e+00  0.000000e+00  5.000000e+04  \nincunemp              0.000000e+00  0.000000e+00  0.000000e+00  7.860000e+04  \neitcred               0.000000e+00  0.000000e+00  0.000000e+00  1.744600e+04  \nchild                 0.000000e+00  0.000000e+00  1.000000e+00  1.000000e+01  \nadult                 1.000000e+00  2.000000e+00  2.000000e+00  1.100000e+01  \nnon_citizen           0.000000e+00  0.000000e+00  0.000000e+00  1.000000e+01  \nnon_citizen_child     0.000000e+00  0.000000e+00  0.000000e+00  7.000000e+00  \nnon_citizen_adult     0.000000e+00  0.000000e+00  0.000000e+00  8.000000e+00  \nnumper                1.000000e+00  2.000000e+00  3.000000e+00  1.500000e+01  \nstataxac             -3.193000e+03 -5.360000e+02  0.000000e+00  5.335000e+03  "
     },
     "execution_count": 8,
     "metadata": {},
     "output_type": "execute_result"
    }
   ],
   "source": [
    "spmu.describe().T"
   ]
  },
  {
   "cell_type": "code",
   "execution_count": 9,
   "metadata": {},
   "outputs": [
    {
     "data": {
      "text/html": "<div>\n<style scoped>\n    .dataframe tbody tr th:only-of-type {\n        vertical-align: middle;\n    }\n\n    .dataframe tbody tr th {\n        vertical-align: top;\n    }\n\n    .dataframe thead th {\n        text-align: right;\n    }\n</style>\n<table border=\"1\" class=\"dataframe\">\n  <thead>\n    <tr style=\"text-align: right;\">\n      <th></th>\n      <th>count</th>\n      <th>mean</th>\n      <th>std</th>\n      <th>min</th>\n      <th>25%</th>\n      <th>50%</th>\n      <th>75%</th>\n      <th>max</th>\n    </tr>\n  </thead>\n  <tbody>\n    <tr>\n      <th>year</th>\n      <td>518144.0</td>\n      <td>2.018957e+03</td>\n      <td>8.065911e-01</td>\n      <td>2.018000e+03</td>\n      <td>2.018000e+03</td>\n      <td>2.019000e+03</td>\n      <td>2.020000e+03</td>\n      <td>2.020000e+03</td>\n    </tr>\n    <tr>\n      <th>asecwt</th>\n      <td>518144.0</td>\n      <td>6.258107e+02</td>\n      <td>3.892790e+02</td>\n      <td>2.985000e+01</td>\n      <td>3.106567e+02</td>\n      <td>5.975833e+02</td>\n      <td>8.297133e+02</td>\n      <td>4.669547e+03</td>\n    </tr>\n    <tr>\n      <th>age</th>\n      <td>518144.0</td>\n      <td>3.741924e+01</td>\n      <td>2.297673e+01</td>\n      <td>0.000000e+00</td>\n      <td>1.700000e+01</td>\n      <td>3.700000e+01</td>\n      <td>5.600000e+01</td>\n      <td>8.500000e+01</td>\n    </tr>\n    <tr>\n      <th>race</th>\n      <td>518144.0</td>\n      <td>1.718125e+02</td>\n      <td>1.758615e+02</td>\n      <td>1.000000e+02</td>\n      <td>1.000000e+02</td>\n      <td>1.000000e+02</td>\n      <td>1.000000e+02</td>\n      <td>8.300000e+02</td>\n    </tr>\n    <tr>\n      <th>citizen</th>\n      <td>518144.0</td>\n      <td>1.499572e+00</td>\n      <td>1.225419e+00</td>\n      <td>1.000000e+00</td>\n      <td>1.000000e+00</td>\n      <td>1.000000e+00</td>\n      <td>1.000000e+00</td>\n      <td>5.000000e+00</td>\n    </tr>\n    <tr>\n      <th>hispan</th>\n      <td>518144.0</td>\n      <td>4.599312e+01</td>\n      <td>1.294363e+02</td>\n      <td>0.000000e+00</td>\n      <td>0.000000e+00</td>\n      <td>0.000000e+00</td>\n      <td>0.000000e+00</td>\n      <td>6.120000e+02</td>\n    </tr>\n    <tr>\n      <th>diffany</th>\n      <td>518144.0</td>\n      <td>8.705244e-01</td>\n      <td>5.395108e-01</td>\n      <td>0.000000e+00</td>\n      <td>1.000000e+00</td>\n      <td>1.000000e+00</td>\n      <td>1.000000e+00</td>\n      <td>2.000000e+00</td>\n    </tr>\n    <tr>\n      <th>incss</th>\n      <td>518144.0</td>\n      <td>2.357574e+03</td>\n      <td>6.389099e+03</td>\n      <td>0.000000e+00</td>\n      <td>0.000000e+00</td>\n      <td>0.000000e+00</td>\n      <td>0.000000e+00</td>\n      <td>8.000000e+04</td>\n    </tr>\n    <tr>\n      <th>incssi</th>\n      <td>518144.0</td>\n      <td>1.472852e+02</td>\n      <td>1.287307e+03</td>\n      <td>0.000000e+00</td>\n      <td>0.000000e+00</td>\n      <td>0.000000e+00</td>\n      <td>0.000000e+00</td>\n      <td>5.000000e+04</td>\n    </tr>\n    <tr>\n      <th>incunemp</th>\n      <td>518144.0</td>\n      <td>4.987590e+01</td>\n      <td>7.381988e+02</td>\n      <td>0.000000e+00</td>\n      <td>0.000000e+00</td>\n      <td>0.000000e+00</td>\n      <td>0.000000e+00</td>\n      <td>7.860000e+04</td>\n    </tr>\n    <tr>\n      <th>ctccrd</th>\n      <td>518144.0</td>\n      <td>2.465792e+02</td>\n      <td>9.017182e+02</td>\n      <td>0.000000e+00</td>\n      <td>0.000000e+00</td>\n      <td>0.000000e+00</td>\n      <td>0.000000e+00</td>\n      <td>1.800000e+04</td>\n    </tr>\n    <tr>\n      <th>actccrd</th>\n      <td>518144.0</td>\n      <td>7.821797e+01</td>\n      <td>4.517785e+02</td>\n      <td>0.000000e+00</td>\n      <td>0.000000e+00</td>\n      <td>0.000000e+00</td>\n      <td>0.000000e+00</td>\n      <td>1.110000e+04</td>\n    </tr>\n    <tr>\n      <th>adjginc</th>\n      <td>518144.0</td>\n      <td>3.227603e+04</td>\n      <td>7.499696e+04</td>\n      <td>-9.999000e+03</td>\n      <td>0.000000e+00</td>\n      <td>0.000000e+00</td>\n      <td>3.801225e+04</td>\n      <td>2.979999e+06</td>\n    </tr>\n    <tr>\n      <th>eitcred</th>\n      <td>518144.0</td>\n      <td>1.410138e+02</td>\n      <td>7.303402e+02</td>\n      <td>0.000000e+00</td>\n      <td>0.000000e+00</td>\n      <td>0.000000e+00</td>\n      <td>0.000000e+00</td>\n      <td>6.557000e+03</td>\n    </tr>\n    <tr>\n      <th>fedtaxac</th>\n      <td>518144.0</td>\n      <td>3.757457e+03</td>\n      <td>1.725014e+04</td>\n      <td>-9.999000e+03</td>\n      <td>0.000000e+00</td>\n      <td>0.000000e+00</td>\n      <td>1.730000e+03</td>\n      <td>8.841590e+05</td>\n    </tr>\n    <tr>\n      <th>fica</th>\n      <td>518144.0</td>\n      <td>1.985298e+03</td>\n      <td>3.172639e+03</td>\n      <td>0.000000e+00</td>\n      <td>0.000000e+00</td>\n      <td>0.000000e+00</td>\n      <td>3.060000e+03</td>\n      <td>5.544900e+04</td>\n    </tr>\n    <tr>\n      <th>stataxac</th>\n      <td>518144.0</td>\n      <td>1.052534e+03</td>\n      <td>4.019644e+03</td>\n      <td>-6.869000e+03</td>\n      <td>0.000000e+00</td>\n      <td>0.000000e+00</td>\n      <td>2.040000e+02</td>\n      <td>2.744670e+05</td>\n    </tr>\n    <tr>\n      <th>taxinc</th>\n      <td>518144.0</td>\n      <td>2.409640e+04</td>\n      <td>6.678908e+04</td>\n      <td>0.000000e+00</td>\n      <td>0.000000e+00</td>\n      <td>0.000000e+00</td>\n      <td>2.160000e+04</td>\n      <td>2.967999e+06</td>\n    </tr>\n    <tr>\n      <th>spmwt</th>\n      <td>518144.0</td>\n      <td>1.831257e+03</td>\n      <td>1.119619e+03</td>\n      <td>9.324000e+01</td>\n      <td>9.148575e+02</td>\n      <td>1.775405e+03</td>\n      <td>2.393270e+03</td>\n      <td>1.159943e+04</td>\n    </tr>\n    <tr>\n      <th>spmheat</th>\n      <td>518144.0</td>\n      <td>1.513738e+01</td>\n      <td>1.242387e+02</td>\n      <td>0.000000e+00</td>\n      <td>0.000000e+00</td>\n      <td>0.000000e+00</td>\n      <td>0.000000e+00</td>\n      <td>8.000000e+03</td>\n    </tr>\n    <tr>\n      <th>spmsnap</th>\n      <td>518144.0</td>\n      <td>3.319815e+02</td>\n      <td>1.338774e+03</td>\n      <td>0.000000e+00</td>\n      <td>0.000000e+00</td>\n      <td>0.000000e+00</td>\n      <td>0.000000e+00</td>\n      <td>3.000000e+04</td>\n    </tr>\n    <tr>\n      <th>spmtotres</th>\n      <td>518144.0</td>\n      <td>7.472119e+04</td>\n      <td>7.307149e+04</td>\n      <td>-9.898173e+05</td>\n      <td>3.339475e+04</td>\n      <td>5.758726e+04</td>\n      <td>9.411402e+04</td>\n      <td>1.534490e+06</td>\n    </tr>\n    <tr>\n      <th>spmnpers</th>\n      <td>518144.0</td>\n      <td>3.412526e+00</td>\n      <td>1.717383e+00</td>\n      <td>1.000000e+00</td>\n      <td>2.000000e+00</td>\n      <td>3.000000e+00</td>\n      <td>4.000000e+00</td>\n      <td>1.500000e+01</td>\n    </tr>\n    <tr>\n      <th>spmthresh</th>\n      <td>518144.0</td>\n      <td>2.542244e+04</td>\n      <td>9.745928e+03</td>\n      <td>9.075782e+03</td>\n      <td>1.750000e+04</td>\n      <td>2.477498e+04</td>\n      <td>3.107000e+04</td>\n      <td>9.315053e+04</td>\n    </tr>\n    <tr>\n      <th>spmfamunit</th>\n      <td>518144.0</td>\n      <td>4.793017e+07</td>\n      <td>2.715352e+07</td>\n      <td>1.001000e+03</td>\n      <td>2.415100e+07</td>\n      <td>4.831600e+07</td>\n      <td>7.212100e+07</td>\n      <td>9.463300e+07</td>\n    </tr>\n    <tr>\n      <th>ctc</th>\n      <td>518144.0</td>\n      <td>3.247972e+02</td>\n      <td>1.079012e+03</td>\n      <td>0.000000e+00</td>\n      <td>0.000000e+00</td>\n      <td>0.000000e+00</td>\n      <td>0.000000e+00</td>\n      <td>1.850000e+04</td>\n    </tr>\n    <tr>\n      <th>person</th>\n      <td>518144.0</td>\n      <td>1.000000e+00</td>\n      <td>0.000000e+00</td>\n      <td>1.000000e+00</td>\n      <td>1.000000e+00</td>\n      <td>1.000000e+00</td>\n      <td>1.000000e+00</td>\n      <td>1.000000e+00</td>\n    </tr>\n    <tr>\n      <th>numper</th>\n      <td>518144.0</td>\n      <td>3.412526e+00</td>\n      <td>1.717383e+00</td>\n      <td>1.000000e+00</td>\n      <td>2.000000e+00</td>\n      <td>3.000000e+00</td>\n      <td>4.000000e+00</td>\n      <td>1.500000e+01</td>\n    </tr>\n    <tr>\n      <th>weighted_state_tax</th>\n      <td>518144.0</td>\n      <td>6.906274e+05</td>\n      <td>3.100065e+06</td>\n      <td>-4.408708e+06</td>\n      <td>0.000000e+00</td>\n      <td>0.000000e+00</td>\n      <td>7.967038e+04</td>\n      <td>3.137040e+08</td>\n    </tr>\n    <tr>\n      <th>weighted_agi</th>\n      <td>518144.0</td>\n      <td>2.124142e+07</td>\n      <td>5.925294e+07</td>\n      <td>-1.735723e+07</td>\n      <td>0.000000e+00</td>\n      <td>0.000000e+00</td>\n      <td>1.846833e+07</td>\n      <td>4.378867e+09</td>\n    </tr>\n    <tr>\n      <th>state_tax_revenue</th>\n      <td>518144.0</td>\n      <td>1.233960e+10</td>\n      <td>1.827661e+10</td>\n      <td>0.000000e+00</td>\n      <td>1.365168e+09</td>\n      <td>4.514997e+09</td>\n      <td>1.284825e+10</td>\n      <td>6.109081e+10</td>\n    </tr>\n    <tr>\n      <th>state_taxable_income</th>\n      <td>518144.0</td>\n      <td>3.881874e+11</td>\n      <td>4.138738e+11</td>\n      <td>1.739814e+10</td>\n      <td>7.883665e+10</td>\n      <td>2.256971e+11</td>\n      <td>4.656021e+11</td>\n      <td>1.401512e+12</td>\n    </tr>\n  </tbody>\n</table>\n</div>",
      "text/plain": "                         count          mean           std           min  \\\nyear                  518144.0  2.018957e+03  8.065911e-01  2.018000e+03   \nasecwt                518144.0  6.258107e+02  3.892790e+02  2.985000e+01   \nage                   518144.0  3.741924e+01  2.297673e+01  0.000000e+00   \nrace                  518144.0  1.718125e+02  1.758615e+02  1.000000e+02   \ncitizen               518144.0  1.499572e+00  1.225419e+00  1.000000e+00   \nhispan                518144.0  4.599312e+01  1.294363e+02  0.000000e+00   \ndiffany               518144.0  8.705244e-01  5.395108e-01  0.000000e+00   \nincss                 518144.0  2.357574e+03  6.389099e+03  0.000000e+00   \nincssi                518144.0  1.472852e+02  1.287307e+03  0.000000e+00   \nincunemp              518144.0  4.987590e+01  7.381988e+02  0.000000e+00   \nctccrd                518144.0  2.465792e+02  9.017182e+02  0.000000e+00   \nactccrd               518144.0  7.821797e+01  4.517785e+02  0.000000e+00   \nadjginc               518144.0  3.227603e+04  7.499696e+04 -9.999000e+03   \neitcred               518144.0  1.410138e+02  7.303402e+02  0.000000e+00   \nfedtaxac              518144.0  3.757457e+03  1.725014e+04 -9.999000e+03   \nfica                  518144.0  1.985298e+03  3.172639e+03  0.000000e+00   \nstataxac              518144.0  1.052534e+03  4.019644e+03 -6.869000e+03   \ntaxinc                518144.0  2.409640e+04  6.678908e+04  0.000000e+00   \nspmwt                 518144.0  1.831257e+03  1.119619e+03  9.324000e+01   \nspmheat               518144.0  1.513738e+01  1.242387e+02  0.000000e+00   \nspmsnap               518144.0  3.319815e+02  1.338774e+03  0.000000e+00   \nspmtotres             518144.0  7.472119e+04  7.307149e+04 -9.898173e+05   \nspmnpers              518144.0  3.412526e+00  1.717383e+00  1.000000e+00   \nspmthresh             518144.0  2.542244e+04  9.745928e+03  9.075782e+03   \nspmfamunit            518144.0  4.793017e+07  2.715352e+07  1.001000e+03   \nctc                   518144.0  3.247972e+02  1.079012e+03  0.000000e+00   \nperson                518144.0  1.000000e+00  0.000000e+00  1.000000e+00   \nnumper                518144.0  3.412526e+00  1.717383e+00  1.000000e+00   \nweighted_state_tax    518144.0  6.906274e+05  3.100065e+06 -4.408708e+06   \nweighted_agi          518144.0  2.124142e+07  5.925294e+07 -1.735723e+07   \nstate_tax_revenue     518144.0  1.233960e+10  1.827661e+10  0.000000e+00   \nstate_taxable_income  518144.0  3.881874e+11  4.138738e+11  1.739814e+10   \n\n                               25%           50%           75%           max  \nyear                  2.018000e+03  2.019000e+03  2.020000e+03  2.020000e+03  \nasecwt                3.106567e+02  5.975833e+02  8.297133e+02  4.669547e+03  \nage                   1.700000e+01  3.700000e+01  5.600000e+01  8.500000e+01  \nrace                  1.000000e+02  1.000000e+02  1.000000e+02  8.300000e+02  \ncitizen               1.000000e+00  1.000000e+00  1.000000e+00  5.000000e+00  \nhispan                0.000000e+00  0.000000e+00  0.000000e+00  6.120000e+02  \ndiffany               1.000000e+00  1.000000e+00  1.000000e+00  2.000000e+00  \nincss                 0.000000e+00  0.000000e+00  0.000000e+00  8.000000e+04  \nincssi                0.000000e+00  0.000000e+00  0.000000e+00  5.000000e+04  \nincunemp              0.000000e+00  0.000000e+00  0.000000e+00  7.860000e+04  \nctccrd                0.000000e+00  0.000000e+00  0.000000e+00  1.800000e+04  \nactccrd               0.000000e+00  0.000000e+00  0.000000e+00  1.110000e+04  \nadjginc               0.000000e+00  0.000000e+00  3.801225e+04  2.979999e+06  \neitcred               0.000000e+00  0.000000e+00  0.000000e+00  6.557000e+03  \nfedtaxac              0.000000e+00  0.000000e+00  1.730000e+03  8.841590e+05  \nfica                  0.000000e+00  0.000000e+00  3.060000e+03  5.544900e+04  \nstataxac              0.000000e+00  0.000000e+00  2.040000e+02  2.744670e+05  \ntaxinc                0.000000e+00  0.000000e+00  2.160000e+04  2.967999e+06  \nspmwt                 9.148575e+02  1.775405e+03  2.393270e+03  1.159943e+04  \nspmheat               0.000000e+00  0.000000e+00  0.000000e+00  8.000000e+03  \nspmsnap               0.000000e+00  0.000000e+00  0.000000e+00  3.000000e+04  \nspmtotres             3.339475e+04  5.758726e+04  9.411402e+04  1.534490e+06  \nspmnpers              2.000000e+00  3.000000e+00  4.000000e+00  1.500000e+01  \nspmthresh             1.750000e+04  2.477498e+04  3.107000e+04  9.315053e+04  \nspmfamunit            2.415100e+07  4.831600e+07  7.212100e+07  9.463300e+07  \nctc                   0.000000e+00  0.000000e+00  0.000000e+00  1.850000e+04  \nperson                1.000000e+00  1.000000e+00  1.000000e+00  1.000000e+00  \nnumper                2.000000e+00  3.000000e+00  4.000000e+00  1.500000e+01  \nweighted_state_tax    0.000000e+00  0.000000e+00  7.967038e+04  3.137040e+08  \nweighted_agi          0.000000e+00  0.000000e+00  1.846833e+07  4.378867e+09  \nstate_tax_revenue     1.365168e+09  4.514997e+09  1.284825e+10  6.109081e+10  \nstate_taxable_income  7.883665e+10  2.256971e+11  4.656021e+11  1.401512e+12  "
     },
     "execution_count": 9,
     "metadata": {},
     "output_type": "execute_result"
    }
   ],
   "source": [
    "person.describe().T"
   ]
  },
  {
   "cell_type": "code",
   "execution_count": 10,
   "metadata": {},
   "outputs": [
    {
     "data": {
      "text/html": "<div>\n<style scoped>\n    .dataframe tbody tr th:only-of-type {\n        vertical-align: middle;\n    }\n\n    .dataframe tbody tr th {\n        vertical-align: top;\n    }\n\n    .dataframe thead th {\n        text-align: right;\n    }\n</style>\n<table border=\"1\" class=\"dataframe\">\n  <thead>\n    <tr style=\"text-align: right;\">\n      <th></th>\n      <th>0</th>\n      <th>1</th>\n      <th>2</th>\n      <th>3</th>\n      <th>4</th>\n    </tr>\n  </thead>\n  <tbody>\n    <tr>\n      <th>spmheat</th>\n      <td>0.0</td>\n      <td>0.0</td>\n      <td>0.0</td>\n      <td>0.0</td>\n      <td>0.0</td>\n    </tr>\n    <tr>\n      <th>spmsnap</th>\n      <td>0</td>\n      <td>0</td>\n      <td>0</td>\n      <td>0</td>\n      <td>0</td>\n    </tr>\n    <tr>\n      <th>spmfamunit</th>\n      <td>1001</td>\n      <td>2001</td>\n      <td>2001</td>\n      <td>3001</td>\n      <td>4001</td>\n    </tr>\n    <tr>\n      <th>spmthresh</th>\n      <td>14700.0</td>\n      <td>11004.31484</td>\n      <td>14700.0</td>\n      <td>11920.0</td>\n      <td>26449.08415</td>\n    </tr>\n    <tr>\n      <th>spmtotres</th>\n      <td>86459.0</td>\n      <td>47514.0</td>\n      <td>55275.0</td>\n      <td>28653.0</td>\n      <td>105232.008</td>\n    </tr>\n    <tr>\n      <th>spmwt</th>\n      <td>517.633333</td>\n      <td>438.673333</td>\n      <td>330.163333</td>\n      <td>501.756667</td>\n      <td>274.763333</td>\n    </tr>\n    <tr>\n      <th>year</th>\n      <td>2020</td>\n      <td>2018</td>\n      <td>2020</td>\n      <td>2020</td>\n      <td>2018</td>\n    </tr>\n    <tr>\n      <th>state</th>\n      <td>Maine</td>\n      <td>Maine</td>\n      <td>Maine</td>\n      <td>Maine</td>\n      <td>Maine</td>\n    </tr>\n    <tr>\n      <th>state_tax_revenue</th>\n      <td>1526793245.48</td>\n      <td>1526793245.48</td>\n      <td>1526793245.48</td>\n      <td>1526793245.48</td>\n      <td>1526793245.48</td>\n    </tr>\n    <tr>\n      <th>state_taxable_income</th>\n      <td>40179001414.286758</td>\n      <td>40179001414.286758</td>\n      <td>40179001414.286758</td>\n      <td>40179001414.286758</td>\n      <td>40179001414.286758</td>\n    </tr>\n    <tr>\n      <th>adjginc</th>\n      <td>124644</td>\n      <td>9402</td>\n      <td>40289</td>\n      <td>40002</td>\n      <td>121785</td>\n    </tr>\n    <tr>\n      <th>fica</th>\n      <td>-8301</td>\n      <td>0</td>\n      <td>-2601</td>\n      <td>-3060</td>\n      <td>-4376</td>\n    </tr>\n    <tr>\n      <th>fedtaxac</th>\n      <td>-13485</td>\n      <td>0</td>\n      <td>-1459</td>\n      <td>-2772</td>\n      <td>-11046</td>\n    </tr>\n    <tr>\n      <th>ctc</th>\n      <td>0</td>\n      <td>0</td>\n      <td>0</td>\n      <td>0</td>\n      <td>2400</td>\n    </tr>\n    <tr>\n      <th>incssi</th>\n      <td>0</td>\n      <td>0</td>\n      <td>0</td>\n      <td>0</td>\n      <td>0</td>\n    </tr>\n    <tr>\n      <th>incunemp</th>\n      <td>0</td>\n      <td>0</td>\n      <td>0</td>\n      <td>0</td>\n      <td>0</td>\n    </tr>\n    <tr>\n      <th>eitcred</th>\n      <td>0</td>\n      <td>0</td>\n      <td>0</td>\n      <td>0</td>\n      <td>0</td>\n    </tr>\n    <tr>\n      <th>child</th>\n      <td>0</td>\n      <td>0</td>\n      <td>0</td>\n      <td>0</td>\n      <td>3</td>\n    </tr>\n    <tr>\n      <th>adult</th>\n      <td>2</td>\n      <td>1</td>\n      <td>2</td>\n      <td>1</td>\n      <td>2</td>\n    </tr>\n    <tr>\n      <th>non_citizen</th>\n      <td>0</td>\n      <td>0</td>\n      <td>0</td>\n      <td>0</td>\n      <td>0</td>\n    </tr>\n    <tr>\n      <th>non_citizen_child</th>\n      <td>0</td>\n      <td>0</td>\n      <td>0</td>\n      <td>0</td>\n      <td>0</td>\n    </tr>\n    <tr>\n      <th>non_citizen_adult</th>\n      <td>0</td>\n      <td>0</td>\n      <td>0</td>\n      <td>0</td>\n      <td>0</td>\n    </tr>\n    <tr>\n      <th>numper</th>\n      <td>2</td>\n      <td>1</td>\n      <td>2</td>\n      <td>1</td>\n      <td>5</td>\n    </tr>\n    <tr>\n      <th>stataxac</th>\n      <td>-4624</td>\n      <td>0</td>\n      <td>0</td>\n      <td>-1152</td>\n      <td>-4091</td>\n    </tr>\n  </tbody>\n</table>\n</div>",
      "text/plain": "                                       0                   1  \\\nspmheat                              0.0                 0.0   \nspmsnap                                0                   0   \nspmfamunit                          1001                2001   \nspmthresh                        14700.0         11004.31484   \nspmtotres                        86459.0             47514.0   \nspmwt                         517.633333          438.673333   \nyear                                2020                2018   \nstate                              Maine               Maine   \nstate_tax_revenue          1526793245.48       1526793245.48   \nstate_taxable_income  40179001414.286758  40179001414.286758   \nadjginc                           124644                9402   \nfica                               -8301                   0   \nfedtaxac                          -13485                   0   \nctc                                    0                   0   \nincssi                                 0                   0   \nincunemp                               0                   0   \neitcred                                0                   0   \nchild                                  0                   0   \nadult                                  2                   1   \nnon_citizen                            0                   0   \nnon_citizen_child                      0                   0   \nnon_citizen_adult                      0                   0   \nnumper                                 2                   1   \nstataxac                           -4624                   0   \n\n                                       2                   3  \\\nspmheat                              0.0                 0.0   \nspmsnap                                0                   0   \nspmfamunit                          2001                3001   \nspmthresh                        14700.0             11920.0   \nspmtotres                        55275.0             28653.0   \nspmwt                         330.163333          501.756667   \nyear                                2020                2020   \nstate                              Maine               Maine   \nstate_tax_revenue          1526793245.48       1526793245.48   \nstate_taxable_income  40179001414.286758  40179001414.286758   \nadjginc                            40289               40002   \nfica                               -2601               -3060   \nfedtaxac                           -1459               -2772   \nctc                                    0                   0   \nincssi                                 0                   0   \nincunemp                               0                   0   \neitcred                                0                   0   \nchild                                  0                   0   \nadult                                  2                   1   \nnon_citizen                            0                   0   \nnon_citizen_child                      0                   0   \nnon_citizen_adult                      0                   0   \nnumper                                 2                   1   \nstataxac                               0               -1152   \n\n                                       4  \nspmheat                              0.0  \nspmsnap                                0  \nspmfamunit                          4001  \nspmthresh                    26449.08415  \nspmtotres                     105232.008  \nspmwt                         274.763333  \nyear                                2018  \nstate                              Maine  \nstate_tax_revenue          1526793245.48  \nstate_taxable_income  40179001414.286758  \nadjginc                           121785  \nfica                               -4376  \nfedtaxac                          -11046  \nctc                                 2400  \nincssi                                 0  \nincunemp                               0  \neitcred                                0  \nchild                                  3  \nadult                                  2  \nnon_citizen                            0  \nnon_citizen_child                      0  \nnon_citizen_adult                      0  \nnumper                                 5  \nstataxac                           -4091  "
     },
     "execution_count": 10,
     "metadata": {},
     "output_type": "execute_result"
    }
   ],
   "source": [
    "spmu.head().T"
   ]
  },
  {
   "cell_type": "code",
   "execution_count": 11,
   "metadata": {},
   "outputs": [
    {
     "data": {
      "text/plain": "51"
     },
     "execution_count": 11,
     "metadata": {},
     "output_type": "execute_result"
    }
   ],
   "source": [
    "spmu.state.nunique()"
   ]
  },
  {
   "cell_type": "markdown",
   "metadata": {},
   "source": [
    "# calculate US stuff first"
   ]
  },
  {
   "cell_type": "code",
   "execution_count": 12,
   "metadata": {},
   "outputs": [
    {
     "data": {
      "text/html": "<div>\n<style scoped>\n    .dataframe tbody tr th:only-of-type {\n        vertical-align: middle;\n    }\n\n    .dataframe tbody tr th {\n        vertical-align: top;\n    }\n\n    .dataframe thead th {\n        text-align: right;\n    }\n</style>\n<table border=\"1\" class=\"dataframe\">\n  <thead>\n    <tr style=\"text-align: right;\">\n      <th></th>\n      <th>0</th>\n      <th>1</th>\n      <th>2</th>\n      <th>3</th>\n      <th>4</th>\n    </tr>\n  </thead>\n  <tbody>\n    <tr>\n      <th>year</th>\n      <td>2018</td>\n      <td>2018</td>\n      <td>2018</td>\n      <td>2018</td>\n      <td>2018</td>\n    </tr>\n    <tr>\n      <th>asecwt</th>\n      <td>438.673333</td>\n      <td>274.763333</td>\n      <td>274.763333</td>\n      <td>243.89</td>\n      <td>368.823333</td>\n    </tr>\n    <tr>\n      <th>age</th>\n      <td>73</td>\n      <td>48</td>\n      <td>55</td>\n      <td>12</td>\n      <td>6</td>\n    </tr>\n    <tr>\n      <th>race</th>\n      <td>100</td>\n      <td>100</td>\n      <td>100</td>\n      <td>100</td>\n      <td>200</td>\n    </tr>\n    <tr>\n      <th>citizen</th>\n      <td>1</td>\n      <td>1</td>\n      <td>1</td>\n      <td>1</td>\n      <td>1</td>\n    </tr>\n    <tr>\n      <th>hispan</th>\n      <td>0</td>\n      <td>0</td>\n      <td>0</td>\n      <td>0</td>\n      <td>0</td>\n    </tr>\n    <tr>\n      <th>diffany</th>\n      <td>2</td>\n      <td>1</td>\n      <td>1</td>\n      <td>0</td>\n      <td>0</td>\n    </tr>\n    <tr>\n      <th>incss</th>\n      <td>6000</td>\n      <td>0</td>\n      <td>0</td>\n      <td>0</td>\n      <td>0</td>\n    </tr>\n    <tr>\n      <th>incssi</th>\n      <td>0</td>\n      <td>0</td>\n      <td>0</td>\n      <td>0</td>\n      <td>0</td>\n    </tr>\n    <tr>\n      <th>incunemp</th>\n      <td>0</td>\n      <td>0</td>\n      <td>0</td>\n      <td>0</td>\n      <td>0</td>\n    </tr>\n    <tr>\n      <th>ctccrd</th>\n      <td>0</td>\n      <td>2400</td>\n      <td>0</td>\n      <td>0</td>\n      <td>0</td>\n    </tr>\n    <tr>\n      <th>actccrd</th>\n      <td>0</td>\n      <td>0</td>\n      <td>0</td>\n      <td>0</td>\n      <td>0</td>\n    </tr>\n    <tr>\n      <th>adjginc</th>\n      <td>9402</td>\n      <td>121785</td>\n      <td>0</td>\n      <td>0</td>\n      <td>0</td>\n    </tr>\n    <tr>\n      <th>eitcred</th>\n      <td>0</td>\n      <td>0</td>\n      <td>0</td>\n      <td>0</td>\n      <td>0</td>\n    </tr>\n    <tr>\n      <th>fedtaxac</th>\n      <td>0</td>\n      <td>11046</td>\n      <td>0</td>\n      <td>0</td>\n      <td>0</td>\n    </tr>\n    <tr>\n      <th>fica</th>\n      <td>0</td>\n      <td>92</td>\n      <td>4284</td>\n      <td>0</td>\n      <td>0</td>\n    </tr>\n    <tr>\n      <th>stataxac</th>\n      <td>0</td>\n      <td>4091</td>\n      <td>0</td>\n      <td>0</td>\n      <td>0</td>\n    </tr>\n    <tr>\n      <th>taxinc</th>\n      <td>0</td>\n      <td>88835</td>\n      <td>0</td>\n      <td>0</td>\n      <td>0</td>\n    </tr>\n    <tr>\n      <th>spmwt</th>\n      <td>1316.02</td>\n      <td>824.29</td>\n      <td>824.29</td>\n      <td>824.29</td>\n      <td>824.29</td>\n    </tr>\n    <tr>\n      <th>spmheat</th>\n      <td>0.0</td>\n      <td>0.0</td>\n      <td>0.0</td>\n      <td>0.0</td>\n      <td>0.0</td>\n    </tr>\n    <tr>\n      <th>spmsnap</th>\n      <td>0</td>\n      <td>0</td>\n      <td>0</td>\n      <td>0</td>\n      <td>0</td>\n    </tr>\n    <tr>\n      <th>spmtotres</th>\n      <td>47514.0</td>\n      <td>105232.008</td>\n      <td>105232.008</td>\n      <td>105232.008</td>\n      <td>105232.008</td>\n    </tr>\n    <tr>\n      <th>spmnpers</th>\n      <td>1</td>\n      <td>5</td>\n      <td>5</td>\n      <td>5</td>\n      <td>5</td>\n    </tr>\n    <tr>\n      <th>spmthresh</th>\n      <td>11004.31484</td>\n      <td>26449.08415</td>\n      <td>26449.08415</td>\n      <td>26449.08415</td>\n      <td>26449.08415</td>\n    </tr>\n    <tr>\n      <th>spmfamunit</th>\n      <td>2001</td>\n      <td>4001</td>\n      <td>4001</td>\n      <td>4001</td>\n      <td>4001</td>\n    </tr>\n    <tr>\n      <th>adult</th>\n      <td>True</td>\n      <td>True</td>\n      <td>True</td>\n      <td>False</td>\n      <td>False</td>\n    </tr>\n    <tr>\n      <th>child</th>\n      <td>False</td>\n      <td>False</td>\n      <td>False</td>\n      <td>True</td>\n      <td>True</td>\n    </tr>\n    <tr>\n      <th>black</th>\n      <td>False</td>\n      <td>False</td>\n      <td>False</td>\n      <td>False</td>\n      <td>True</td>\n    </tr>\n    <tr>\n      <th>white_non_hispanic</th>\n      <td>True</td>\n      <td>True</td>\n      <td>True</td>\n      <td>True</td>\n      <td>False</td>\n    </tr>\n    <tr>\n      <th>hispanic</th>\n      <td>True</td>\n      <td>True</td>\n      <td>True</td>\n      <td>True</td>\n      <td>True</td>\n    </tr>\n    <tr>\n      <th>pwd</th>\n      <td>True</td>\n      <td>False</td>\n      <td>False</td>\n      <td>False</td>\n      <td>False</td>\n    </tr>\n    <tr>\n      <th>non_citizen</th>\n      <td>False</td>\n      <td>False</td>\n      <td>False</td>\n      <td>False</td>\n      <td>False</td>\n    </tr>\n    <tr>\n      <th>non_citizen_child</th>\n      <td>False</td>\n      <td>False</td>\n      <td>False</td>\n      <td>False</td>\n      <td>False</td>\n    </tr>\n    <tr>\n      <th>non_citizen_adult</th>\n      <td>False</td>\n      <td>False</td>\n      <td>False</td>\n      <td>False</td>\n      <td>False</td>\n    </tr>\n    <tr>\n      <th>state</th>\n      <td>Maine</td>\n      <td>Maine</td>\n      <td>Maine</td>\n      <td>Maine</td>\n      <td>Maine</td>\n    </tr>\n    <tr>\n      <th>ctc</th>\n      <td>0</td>\n      <td>2400</td>\n      <td>0</td>\n      <td>0</td>\n      <td>0</td>\n    </tr>\n    <tr>\n      <th>person</th>\n      <td>1</td>\n      <td>1</td>\n      <td>1</td>\n      <td>1</td>\n      <td>1</td>\n    </tr>\n    <tr>\n      <th>numper</th>\n      <td>1</td>\n      <td>5</td>\n      <td>5</td>\n      <td>5</td>\n      <td>5</td>\n    </tr>\n    <tr>\n      <th>weighted_state_tax</th>\n      <td>0.0</td>\n      <td>1124056.796667</td>\n      <td>0.0</td>\n      <td>0.0</td>\n      <td>0.0</td>\n    </tr>\n    <tr>\n      <th>weighted_agi</th>\n      <td>4124406.68</td>\n      <td>33462052.55</td>\n      <td>0.0</td>\n      <td>0.0</td>\n      <td>0.0</td>\n    </tr>\n    <tr>\n      <th>state_tax_revenue</th>\n      <td>1526793245.48</td>\n      <td>1526793245.48</td>\n      <td>1526793245.48</td>\n      <td>1526793245.48</td>\n      <td>1526793245.48</td>\n    </tr>\n    <tr>\n      <th>state_taxable_income</th>\n      <td>40179001414.286758</td>\n      <td>40179001414.286758</td>\n      <td>40179001414.286758</td>\n      <td>40179001414.286758</td>\n      <td>40179001414.286758</td>\n    </tr>\n  </tbody>\n</table>\n</div>",
      "text/plain": "                                       0                   1  \\\nyear                                2018                2018   \nasecwt                        438.673333          274.763333   \nage                                   73                  48   \nrace                                 100                 100   \ncitizen                                1                   1   \nhispan                                 0                   0   \ndiffany                                2                   1   \nincss                               6000                   0   \nincssi                                 0                   0   \nincunemp                               0                   0   \nctccrd                                 0                2400   \nactccrd                                0                   0   \nadjginc                             9402              121785   \neitcred                                0                   0   \nfedtaxac                               0               11046   \nfica                                   0                  92   \nstataxac                               0                4091   \ntaxinc                                 0               88835   \nspmwt                            1316.02              824.29   \nspmheat                              0.0                 0.0   \nspmsnap                                0                   0   \nspmtotres                        47514.0          105232.008   \nspmnpers                               1                   5   \nspmthresh                    11004.31484         26449.08415   \nspmfamunit                          2001                4001   \nadult                               True                True   \nchild                              False               False   \nblack                              False               False   \nwhite_non_hispanic                  True                True   \nhispanic                            True                True   \npwd                                 True               False   \nnon_citizen                        False               False   \nnon_citizen_child                  False               False   \nnon_citizen_adult                  False               False   \nstate                              Maine               Maine   \nctc                                    0                2400   \nperson                                 1                   1   \nnumper                                 1                   5   \nweighted_state_tax                   0.0      1124056.796667   \nweighted_agi                  4124406.68         33462052.55   \nstate_tax_revenue          1526793245.48       1526793245.48   \nstate_taxable_income  40179001414.286758  40179001414.286758   \n\n                                       2                   3  \\\nyear                                2018                2018   \nasecwt                        274.763333              243.89   \nage                                   55                  12   \nrace                                 100                 100   \ncitizen                                1                   1   \nhispan                                 0                   0   \ndiffany                                1                   0   \nincss                                  0                   0   \nincssi                                 0                   0   \nincunemp                               0                   0   \nctccrd                                 0                   0   \nactccrd                                0                   0   \nadjginc                                0                   0   \neitcred                                0                   0   \nfedtaxac                               0                   0   \nfica                                4284                   0   \nstataxac                               0                   0   \ntaxinc                                 0                   0   \nspmwt                             824.29              824.29   \nspmheat                              0.0                 0.0   \nspmsnap                                0                   0   \nspmtotres                     105232.008          105232.008   \nspmnpers                               5                   5   \nspmthresh                    26449.08415         26449.08415   \nspmfamunit                          4001                4001   \nadult                               True               False   \nchild                              False                True   \nblack                              False               False   \nwhite_non_hispanic                  True                True   \nhispanic                            True                True   \npwd                                False               False   \nnon_citizen                        False               False   \nnon_citizen_child                  False               False   \nnon_citizen_adult                  False               False   \nstate                              Maine               Maine   \nctc                                    0                   0   \nperson                                 1                   1   \nnumper                                 5                   5   \nweighted_state_tax                   0.0                 0.0   \nweighted_agi                         0.0                 0.0   \nstate_tax_revenue          1526793245.48       1526793245.48   \nstate_taxable_income  40179001414.286758  40179001414.286758   \n\n                                       4  \nyear                                2018  \nasecwt                        368.823333  \nage                                    6  \nrace                                 200  \ncitizen                                1  \nhispan                                 0  \ndiffany                                0  \nincss                                  0  \nincssi                                 0  \nincunemp                               0  \nctccrd                                 0  \nactccrd                                0  \nadjginc                                0  \neitcred                                0  \nfedtaxac                               0  \nfica                                   0  \nstataxac                               0  \ntaxinc                                 0  \nspmwt                             824.29  \nspmheat                              0.0  \nspmsnap                                0  \nspmtotres                     105232.008  \nspmnpers                               5  \nspmthresh                    26449.08415  \nspmfamunit                          4001  \nadult                              False  \nchild                               True  \nblack                               True  \nwhite_non_hispanic                 False  \nhispanic                            True  \npwd                                False  \nnon_citizen                        False  \nnon_citizen_child                  False  \nnon_citizen_adult                  False  \nstate                              Maine  \nctc                                    0  \nperson                                 1  \nnumper                                 5  \nweighted_state_tax                   0.0  \nweighted_agi                         0.0  \nstate_tax_revenue          1526793245.48  \nstate_taxable_income  40179001414.286758  "
     },
     "execution_count": 12,
     "metadata": {},
     "output_type": "execute_result"
    }
   ],
   "source": [
    "person.head().T"
   ]
  },
  {
   "cell_type": "markdown",
   "metadata": {},
   "source": [
    "# Calculate Poverty Rates"
   ]
  },
  {
   "cell_type": "code",
   "execution_count": 13,
   "metadata": {},
   "outputs": [
    {
     "name": "stdout",
     "output_type": "stream",
     "text": [
      "<class 'pandas.core.frame.DataFrame'>\n",
      "Index: 520 entries, Alabama to US\n",
      "Data columns (total 3 columns):\n",
      " #   Column  Non-Null Count  Dtype  \n",
      "---  ------  --------------  -----  \n",
      " 0   demog   520 non-null    object \n",
      " 1   metric  520 non-null    object \n",
      " 2   value   520 non-null    float64\n",
      "dtypes: float64(1), object(2)\n",
      "memory usage: 16.2+ KB\n"
     ]
    }
   ],
   "source": [
    "# create boolean column for individual's poverty status, 1=poor\r\n",
    "person[\"poor\"] = person.spmthresh > person.spmtotres\r\n",
    "\r\n",
    "# create a column for all selected demographic variables\r\n",
    "# that will be used to calculate poverty rates\r\n",
    "demog_cols = [\r\n",
    "    \"person\",\r\n",
    "    \"adult\",\r\n",
    "    \"child\",\r\n",
    "    \"black\",\r\n",
    "    \"white_non_hispanic\",\r\n",
    "    \"hispanic\",\r\n",
    "    \"pwd\",\r\n",
    "    \"non_citizen\",\r\n",
    "    \"non_citizen_adult\",\r\n",
    "    \"non_citizen_child\",\r\n",
    "]\r\n",
    "\r\n",
    "poor_pop=person.loc[person.poor]\r\n",
    "\r\n",
    "# calculate weighted sum of people living in poverty\r\n",
    "mdf.weighted_sum(poor_pop,demog_cols,'asecwt')\r\n",
    "# calculate poverty RATE for each DEMOGRAPHIC in US\r\n",
    "pov_rate_us = mdf.weighted_sum(poor_pop, demog_cols, \"asecwt\") / mdf.weighted_sum(\r\n",
    "    person, demog_cols, w=\"asecwt\"\r\n",
    ")\r\n",
    "# add name to series\r\n",
    "pov_rate_us.name = \"US\"\r\n",
    "# calculate poverty RATE for each group by state\r\n",
    "pov_rates = mdf.weighted_sum(\r\n",
    "    poor_pop, demog_cols, \"asecwt\", groupby=\"state\"\r\n",
    ") / mdf.weighted_sum(person, demog_cols, w=\"asecwt\", groupby=\"state\")\r\n",
    "\r\n",
    "# append US statistics as additional 'state'\r\n",
    "pov_df = pov_rates.append(pov_rate_us)\r\n",
    "\r\n",
    "# melt df from wide to long format\r\n",
    "pov_df = pov_df.melt(ignore_index=False, var_name=\"demog\")\r\n",
    "\r\n",
    "pov_df.insert(loc=1, column=\"metric\", value=\"pov_rate\")\r\n",
    "pov_df.info()\r\n"
   ]
  },
  {
   "cell_type": "code",
   "execution_count": 14,
   "metadata": {},
   "outputs": [
    {
     "data": {
      "text/html": "<div>\n<style scoped>\n    .dataframe tbody tr th:only-of-type {\n        vertical-align: middle;\n    }\n\n    .dataframe tbody tr th {\n        vertical-align: top;\n    }\n\n    .dataframe thead th {\n        text-align: right;\n    }\n</style>\n<table border=\"1\" class=\"dataframe\">\n  <thead>\n    <tr style=\"text-align: right;\">\n      <th></th>\n      <th>demog</th>\n      <th>metric</th>\n      <th>value</th>\n    </tr>\n    <tr>\n      <th>state</th>\n      <th></th>\n      <th></th>\n      <th></th>\n    </tr>\n  </thead>\n  <tbody>\n    <tr>\n      <th>Alabama</th>\n      <td>person</td>\n      <td>pov_rate</td>\n      <td>0.127468</td>\n    </tr>\n    <tr>\n      <th>Alaska</th>\n      <td>person</td>\n      <td>pov_rate</td>\n      <td>0.132965</td>\n    </tr>\n    <tr>\n      <th>Arizona</th>\n      <td>person</td>\n      <td>pov_rate</td>\n      <td>0.119701</td>\n    </tr>\n    <tr>\n      <th>Arkansas</th>\n      <td>person</td>\n      <td>pov_rate</td>\n      <td>0.130987</td>\n    </tr>\n    <tr>\n      <th>California</th>\n      <td>person</td>\n      <td>pov_rate</td>\n      <td>0.174174</td>\n    </tr>\n  </tbody>\n</table>\n</div>",
      "text/plain": "             demog    metric     value\nstate                                 \nAlabama     person  pov_rate  0.127468\nAlaska      person  pov_rate  0.132965\nArizona     person  pov_rate  0.119701\nArkansas    person  pov_rate  0.130987\nCalifornia  person  pov_rate  0.174174"
     },
     "execution_count": 14,
     "metadata": {},
     "output_type": "execute_result"
    }
   ],
   "source": [
    "pov_df.head()"
   ]
  },
  {
   "cell_type": "markdown",
   "metadata": {},
   "source": [
    "# Calculate Population"
   ]
  },
  {
   "cell_type": "code",
   "execution_count": 15,
   "metadata": {},
   "outputs": [
    {
     "name": "stdout",
     "output_type": "stream",
     "text": [
      "<class 'pandas.core.frame.DataFrame'>\n",
      "Index: 520 entries, Alabama to US\n",
      "Data columns (total 3 columns):\n",
      " #   Column  Non-Null Count  Dtype  \n",
      "---  ------  --------------  -----  \n",
      " 0   demog   520 non-null    object \n",
      " 1   metric  520 non-null    object \n",
      " 2   value   520 non-null    float64\n",
      "dtypes: float64(1), object(2)\n",
      "memory usage: 16.2+ KB\n"
     ]
    }
   ],
   "source": [
    "# calculate POPULATION for each DEMOGRAPHIC in US\r\n",
    "pop_us = mdf.weighted_sum(\r\n",
    "    person, demog_cols, w=\"asecwt\"\r\n",
    ")\r\n",
    "# add name to series\r\n",
    "pop_us.name = \"US\"\r\n",
    "# calculate POPULATION for each group by state\r\n",
    "pop_states = mdf.weighted_sum(person, demog_cols, w=\"asecwt\", groupby=\"state\")\r\n",
    "\r\n",
    "# append US statistics as additional 'state'\r\n",
    "pop_df = pop_states.append(pop_us)\r\n",
    "\r\n",
    "# melt df from wide to long format\r\n",
    "pop_df = pop_df.melt(ignore_index=False, var_name=\"demog\")\r\n",
    "\r\n",
    "pop_df.insert(loc=1, column=\"metric\", value=\"pop\")\r\n",
    "pop_df.info()"
   ]
  },
  {
   "cell_type": "code",
   "execution_count": 16,
   "metadata": {},
   "outputs": [
    {
     "data": {
      "text/html": "<div>\n<style scoped>\n    .dataframe tbody tr th:only-of-type {\n        vertical-align: middle;\n    }\n\n    .dataframe tbody tr th {\n        vertical-align: top;\n    }\n\n    .dataframe thead th {\n        text-align: right;\n    }\n</style>\n<table border=\"1\" class=\"dataframe\">\n  <thead>\n    <tr style=\"text-align: right;\">\n      <th></th>\n      <th>demog</th>\n      <th>metric</th>\n      <th>value</th>\n    </tr>\n    <tr>\n      <th>state</th>\n      <th></th>\n      <th></th>\n      <th></th>\n    </tr>\n  </thead>\n  <tbody>\n    <tr>\n      <th>Alabama</th>\n      <td>person</td>\n      <td>pop</td>\n      <td>4.858162e+06</td>\n    </tr>\n    <tr>\n      <th>Alaska</th>\n      <td>person</td>\n      <td>pop</td>\n      <td>7.147047e+05</td>\n    </tr>\n    <tr>\n      <th>Arizona</th>\n      <td>person</td>\n      <td>pop</td>\n      <td>7.186145e+06</td>\n    </tr>\n    <tr>\n      <th>Arkansas</th>\n      <td>person</td>\n      <td>pop</td>\n      <td>2.922687e+06</td>\n    </tr>\n    <tr>\n      <th>California</th>\n      <td>person</td>\n      <td>pop</td>\n      <td>3.931580e+07</td>\n    </tr>\n    <tr>\n      <th>...</th>\n      <td>...</td>\n      <td>...</td>\n      <td>...</td>\n    </tr>\n    <tr>\n      <th>Washington</th>\n      <td>non_citizen_child</td>\n      <td>pop</td>\n      <td>5.411946e+04</td>\n    </tr>\n    <tr>\n      <th>West Virginia</th>\n      <td>non_citizen_child</td>\n      <td>pop</td>\n      <td>1.951943e+03</td>\n    </tr>\n    <tr>\n      <th>Wisconsin</th>\n      <td>non_citizen_child</td>\n      <td>pop</td>\n      <td>1.017909e+04</td>\n    </tr>\n    <tr>\n      <th>Wyoming</th>\n      <td>non_citizen_child</td>\n      <td>pop</td>\n      <td>1.144690e+03</td>\n    </tr>\n    <tr>\n      <th>US</th>\n      <td>non_citizen_child</td>\n      <td>pop</td>\n      <td>1.986129e+06</td>\n    </tr>\n  </tbody>\n</table>\n<p>520 rows × 3 columns</p>\n</div>",
      "text/plain": "                           demog metric         value\nstate                                                \nAlabama                   person    pop  4.858162e+06\nAlaska                    person    pop  7.147047e+05\nArizona                   person    pop  7.186145e+06\nArkansas                  person    pop  2.922687e+06\nCalifornia                person    pop  3.931580e+07\n...                          ...    ...           ...\nWashington     non_citizen_child    pop  5.411946e+04\nWest Virginia  non_citizen_child    pop  1.951943e+03\nWisconsin      non_citizen_child    pop  1.017909e+04\nWyoming        non_citizen_child    pop  1.144690e+03\nUS             non_citizen_child    pop  1.986129e+06\n\n[520 rows x 3 columns]"
     },
     "execution_count": 16,
     "metadata": {},
     "output_type": "execute_result"
    }
   ],
   "source": [
    "pop_df"
   ]
  },
  {
   "cell_type": "markdown",
   "metadata": {},
   "source": [
    "# calculate gini"
   ]
  },
  {
   "cell_type": "code",
   "execution_count": 22,
   "metadata": {},
   "outputs": [
    {
     "data": {
      "text/html": "<div>\n<style scoped>\n    .dataframe tbody tr th:only-of-type {\n        vertical-align: middle;\n    }\n\n    .dataframe tbody tr th {\n        vertical-align: top;\n    }\n\n    .dataframe thead th {\n        text-align: right;\n    }\n</style>\n<table border=\"1\" class=\"dataframe\">\n  <thead>\n    <tr style=\"text-align: right;\">\n      <th></th>\n      <th>0</th>\n      <th>1</th>\n      <th>2</th>\n      <th>3</th>\n      <th>4</th>\n    </tr>\n  </thead>\n  <tbody>\n    <tr>\n      <th>year</th>\n      <td>2018</td>\n      <td>2018</td>\n      <td>2018</td>\n      <td>2018</td>\n      <td>2018</td>\n    </tr>\n    <tr>\n      <th>asecwt</th>\n      <td>438.673333</td>\n      <td>274.763333</td>\n      <td>274.763333</td>\n      <td>243.89</td>\n      <td>368.823333</td>\n    </tr>\n    <tr>\n      <th>age</th>\n      <td>73</td>\n      <td>48</td>\n      <td>55</td>\n      <td>12</td>\n      <td>6</td>\n    </tr>\n    <tr>\n      <th>race</th>\n      <td>100</td>\n      <td>100</td>\n      <td>100</td>\n      <td>100</td>\n      <td>200</td>\n    </tr>\n    <tr>\n      <th>citizen</th>\n      <td>1</td>\n      <td>1</td>\n      <td>1</td>\n      <td>1</td>\n      <td>1</td>\n    </tr>\n    <tr>\n      <th>hispan</th>\n      <td>0</td>\n      <td>0</td>\n      <td>0</td>\n      <td>0</td>\n      <td>0</td>\n    </tr>\n    <tr>\n      <th>diffany</th>\n      <td>2</td>\n      <td>1</td>\n      <td>1</td>\n      <td>0</td>\n      <td>0</td>\n    </tr>\n    <tr>\n      <th>incss</th>\n      <td>6000</td>\n      <td>0</td>\n      <td>0</td>\n      <td>0</td>\n      <td>0</td>\n    </tr>\n    <tr>\n      <th>incssi</th>\n      <td>0</td>\n      <td>0</td>\n      <td>0</td>\n      <td>0</td>\n      <td>0</td>\n    </tr>\n    <tr>\n      <th>incunemp</th>\n      <td>0</td>\n      <td>0</td>\n      <td>0</td>\n      <td>0</td>\n      <td>0</td>\n    </tr>\n    <tr>\n      <th>ctccrd</th>\n      <td>0</td>\n      <td>2400</td>\n      <td>0</td>\n      <td>0</td>\n      <td>0</td>\n    </tr>\n    <tr>\n      <th>actccrd</th>\n      <td>0</td>\n      <td>0</td>\n      <td>0</td>\n      <td>0</td>\n      <td>0</td>\n    </tr>\n    <tr>\n      <th>adjginc</th>\n      <td>9402</td>\n      <td>121785</td>\n      <td>0</td>\n      <td>0</td>\n      <td>0</td>\n    </tr>\n    <tr>\n      <th>eitcred</th>\n      <td>0</td>\n      <td>0</td>\n      <td>0</td>\n      <td>0</td>\n      <td>0</td>\n    </tr>\n    <tr>\n      <th>fedtaxac</th>\n      <td>0</td>\n      <td>11046</td>\n      <td>0</td>\n      <td>0</td>\n      <td>0</td>\n    </tr>\n    <tr>\n      <th>fica</th>\n      <td>0</td>\n      <td>92</td>\n      <td>4284</td>\n      <td>0</td>\n      <td>0</td>\n    </tr>\n    <tr>\n      <th>stataxac</th>\n      <td>0</td>\n      <td>4091</td>\n      <td>0</td>\n      <td>0</td>\n      <td>0</td>\n    </tr>\n    <tr>\n      <th>taxinc</th>\n      <td>0</td>\n      <td>88835</td>\n      <td>0</td>\n      <td>0</td>\n      <td>0</td>\n    </tr>\n    <tr>\n      <th>spmwt</th>\n      <td>1316.02</td>\n      <td>824.29</td>\n      <td>824.29</td>\n      <td>824.29</td>\n      <td>824.29</td>\n    </tr>\n    <tr>\n      <th>spmheat</th>\n      <td>0.0</td>\n      <td>0.0</td>\n      <td>0.0</td>\n      <td>0.0</td>\n      <td>0.0</td>\n    </tr>\n    <tr>\n      <th>spmsnap</th>\n      <td>0</td>\n      <td>0</td>\n      <td>0</td>\n      <td>0</td>\n      <td>0</td>\n    </tr>\n    <tr>\n      <th>spmtotres</th>\n      <td>47514.0</td>\n      <td>105232.008</td>\n      <td>105232.008</td>\n      <td>105232.008</td>\n      <td>105232.008</td>\n    </tr>\n    <tr>\n      <th>spmnpers</th>\n      <td>1</td>\n      <td>5</td>\n      <td>5</td>\n      <td>5</td>\n      <td>5</td>\n    </tr>\n    <tr>\n      <th>spmthresh</th>\n      <td>11004.31484</td>\n      <td>26449.08415</td>\n      <td>26449.08415</td>\n      <td>26449.08415</td>\n      <td>26449.08415</td>\n    </tr>\n    <tr>\n      <th>spmfamunit</th>\n      <td>2001</td>\n      <td>4001</td>\n      <td>4001</td>\n      <td>4001</td>\n      <td>4001</td>\n    </tr>\n    <tr>\n      <th>adult</th>\n      <td>True</td>\n      <td>True</td>\n      <td>True</td>\n      <td>False</td>\n      <td>False</td>\n    </tr>\n    <tr>\n      <th>child</th>\n      <td>False</td>\n      <td>False</td>\n      <td>False</td>\n      <td>True</td>\n      <td>True</td>\n    </tr>\n    <tr>\n      <th>black</th>\n      <td>False</td>\n      <td>False</td>\n      <td>False</td>\n      <td>False</td>\n      <td>True</td>\n    </tr>\n    <tr>\n      <th>white_non_hispanic</th>\n      <td>True</td>\n      <td>True</td>\n      <td>True</td>\n      <td>True</td>\n      <td>False</td>\n    </tr>\n    <tr>\n      <th>hispanic</th>\n      <td>True</td>\n      <td>True</td>\n      <td>True</td>\n      <td>True</td>\n      <td>True</td>\n    </tr>\n    <tr>\n      <th>pwd</th>\n      <td>True</td>\n      <td>False</td>\n      <td>False</td>\n      <td>False</td>\n      <td>False</td>\n    </tr>\n    <tr>\n      <th>non_citizen</th>\n      <td>False</td>\n      <td>False</td>\n      <td>False</td>\n      <td>False</td>\n      <td>False</td>\n    </tr>\n    <tr>\n      <th>non_citizen_child</th>\n      <td>False</td>\n      <td>False</td>\n      <td>False</td>\n      <td>False</td>\n      <td>False</td>\n    </tr>\n    <tr>\n      <th>non_citizen_adult</th>\n      <td>False</td>\n      <td>False</td>\n      <td>False</td>\n      <td>False</td>\n      <td>False</td>\n    </tr>\n    <tr>\n      <th>state</th>\n      <td>Maine</td>\n      <td>Maine</td>\n      <td>Maine</td>\n      <td>Maine</td>\n      <td>Maine</td>\n    </tr>\n    <tr>\n      <th>ctc</th>\n      <td>0</td>\n      <td>2400</td>\n      <td>0</td>\n      <td>0</td>\n      <td>0</td>\n    </tr>\n    <tr>\n      <th>person</th>\n      <td>1</td>\n      <td>1</td>\n      <td>1</td>\n      <td>1</td>\n      <td>1</td>\n    </tr>\n    <tr>\n      <th>numper</th>\n      <td>1</td>\n      <td>5</td>\n      <td>5</td>\n      <td>5</td>\n      <td>5</td>\n    </tr>\n    <tr>\n      <th>weighted_state_tax</th>\n      <td>0.0</td>\n      <td>1124056.796667</td>\n      <td>0.0</td>\n      <td>0.0</td>\n      <td>0.0</td>\n    </tr>\n    <tr>\n      <th>weighted_agi</th>\n      <td>4124406.68</td>\n      <td>33462052.55</td>\n      <td>0.0</td>\n      <td>0.0</td>\n      <td>0.0</td>\n    </tr>\n    <tr>\n      <th>state_tax_revenue</th>\n      <td>1526793245.48</td>\n      <td>1526793245.48</td>\n      <td>1526793245.48</td>\n      <td>1526793245.48</td>\n      <td>1526793245.48</td>\n    </tr>\n    <tr>\n      <th>state_taxable_income</th>\n      <td>40179001414.286758</td>\n      <td>40179001414.286758</td>\n      <td>40179001414.286758</td>\n      <td>40179001414.286758</td>\n      <td>40179001414.286758</td>\n    </tr>\n    <tr>\n      <th>poor</th>\n      <td>False</td>\n      <td>False</td>\n      <td>False</td>\n      <td>False</td>\n      <td>False</td>\n    </tr>\n  </tbody>\n</table>\n</div>",
      "text/plain": "                                       0                   1  \\\nyear                                2018                2018   \nasecwt                        438.673333          274.763333   \nage                                   73                  48   \nrace                                 100                 100   \ncitizen                                1                   1   \nhispan                                 0                   0   \ndiffany                                2                   1   \nincss                               6000                   0   \nincssi                                 0                   0   \nincunemp                               0                   0   \nctccrd                                 0                2400   \nactccrd                                0                   0   \nadjginc                             9402              121785   \neitcred                                0                   0   \nfedtaxac                               0               11046   \nfica                                   0                  92   \nstataxac                               0                4091   \ntaxinc                                 0               88835   \nspmwt                            1316.02              824.29   \nspmheat                              0.0                 0.0   \nspmsnap                                0                   0   \nspmtotres                        47514.0          105232.008   \nspmnpers                               1                   5   \nspmthresh                    11004.31484         26449.08415   \nspmfamunit                          2001                4001   \nadult                               True                True   \nchild                              False               False   \nblack                              False               False   \nwhite_non_hispanic                  True                True   \nhispanic                            True                True   \npwd                                 True               False   \nnon_citizen                        False               False   \nnon_citizen_child                  False               False   \nnon_citizen_adult                  False               False   \nstate                              Maine               Maine   \nctc                                    0                2400   \nperson                                 1                   1   \nnumper                                 1                   5   \nweighted_state_tax                   0.0      1124056.796667   \nweighted_agi                  4124406.68         33462052.55   \nstate_tax_revenue          1526793245.48       1526793245.48   \nstate_taxable_income  40179001414.286758  40179001414.286758   \npoor                               False               False   \n\n                                       2                   3  \\\nyear                                2018                2018   \nasecwt                        274.763333              243.89   \nage                                   55                  12   \nrace                                 100                 100   \ncitizen                                1                   1   \nhispan                                 0                   0   \ndiffany                                1                   0   \nincss                                  0                   0   \nincssi                                 0                   0   \nincunemp                               0                   0   \nctccrd                                 0                   0   \nactccrd                                0                   0   \nadjginc                                0                   0   \neitcred                                0                   0   \nfedtaxac                               0                   0   \nfica                                4284                   0   \nstataxac                               0                   0   \ntaxinc                                 0                   0   \nspmwt                             824.29              824.29   \nspmheat                              0.0                 0.0   \nspmsnap                                0                   0   \nspmtotres                     105232.008          105232.008   \nspmnpers                               5                   5   \nspmthresh                    26449.08415         26449.08415   \nspmfamunit                          4001                4001   \nadult                               True               False   \nchild                              False                True   \nblack                              False               False   \nwhite_non_hispanic                  True                True   \nhispanic                            True                True   \npwd                                False               False   \nnon_citizen                        False               False   \nnon_citizen_child                  False               False   \nnon_citizen_adult                  False               False   \nstate                              Maine               Maine   \nctc                                    0                   0   \nperson                                 1                   1   \nnumper                                 5                   5   \nweighted_state_tax                   0.0                 0.0   \nweighted_agi                         0.0                 0.0   \nstate_tax_revenue          1526793245.48       1526793245.48   \nstate_taxable_income  40179001414.286758  40179001414.286758   \npoor                               False               False   \n\n                                       4  \nyear                                2018  \nasecwt                        368.823333  \nage                                    6  \nrace                                 200  \ncitizen                                1  \nhispan                                 0  \ndiffany                                0  \nincss                                  0  \nincssi                                 0  \nincunemp                               0  \nctccrd                                 0  \nactccrd                                0  \nadjginc                                0  \neitcred                                0  \nfedtaxac                               0  \nfica                                   0  \nstataxac                               0  \ntaxinc                                 0  \nspmwt                             824.29  \nspmheat                              0.0  \nspmsnap                                0  \nspmtotres                     105232.008  \nspmnpers                               5  \nspmthresh                    26449.08415  \nspmfamunit                          4001  \nadult                              False  \nchild                               True  \nblack                               True  \nwhite_non_hispanic                 False  \nhispanic                            True  \npwd                                False  \nnon_citizen                        False  \nnon_citizen_child                  False  \nnon_citizen_adult                  False  \nstate                              Maine  \nctc                                    0  \nperson                                 1  \nnumper                                 5  \nweighted_state_tax                   0.0  \nweighted_agi                         0.0  \nstate_tax_revenue          1526793245.48  \nstate_taxable_income  40179001414.286758  \npoor                               False  "
     },
     "execution_count": 22,
     "metadata": {},
     "output_type": "execute_result"
    }
   ],
   "source": [
    "person.head().T"
   ]
  },
  {
   "cell_type": "code",
   "execution_count": 40,
   "metadata": {},
   "outputs": [
    {
     "data": {
      "text/html": "<div>\n<style scoped>\n    .dataframe tbody tr th:only-of-type {\n        vertical-align: middle;\n    }\n\n    .dataframe tbody tr th {\n        vertical-align: top;\n    }\n\n    .dataframe thead th {\n        text-align: right;\n    }\n</style>\n<table border=\"1\" class=\"dataframe\">\n  <thead>\n    <tr style=\"text-align: right;\">\n      <th></th>\n      <th>poverty_gap</th>\n      <th>gini</th>\n    </tr>\n  </thead>\n  <tbody>\n    <tr>\n      <th>Alabama</th>\n      <td>2.356088e+09</td>\n      <td>0.446140</td>\n    </tr>\n    <tr>\n      <th>Alaska</th>\n      <td>4.940523e+08</td>\n      <td>0.450744</td>\n    </tr>\n    <tr>\n      <th>Arizona</th>\n      <td>3.014411e+09</td>\n      <td>0.439236</td>\n    </tr>\n    <tr>\n      <th>Arkansas</th>\n      <td>1.429620e+09</td>\n      <td>0.439355</td>\n    </tr>\n    <tr>\n      <th>California</th>\n      <td>2.973458e+10</td>\n      <td>0.460103</td>\n    </tr>\n    <tr>\n      <th>Colorado</th>\n      <td>3.468975e+09</td>\n      <td>0.438656</td>\n    </tr>\n    <tr>\n      <th>Connecticut</th>\n      <td>1.490145e+09</td>\n      <td>0.421393</td>\n    </tr>\n    <tr>\n      <th>Delaware</th>\n      <td>4.680860e+08</td>\n      <td>0.429479</td>\n    </tr>\n    <tr>\n      <th>District of Columbia</th>\n      <td>6.103180e+08</td>\n      <td>0.474598</td>\n    </tr>\n    <tr>\n      <th>Florida</th>\n      <td>1.419641e+10</td>\n      <td>0.456744</td>\n    </tr>\n    <tr>\n      <th>Georgia</th>\n      <td>5.663864e+09</td>\n      <td>0.446625</td>\n    </tr>\n    <tr>\n      <th>Hawaii</th>\n      <td>8.660566e+08</td>\n      <td>0.416495</td>\n    </tr>\n    <tr>\n      <th>Idaho</th>\n      <td>7.235998e+08</td>\n      <td>0.426556</td>\n    </tr>\n    <tr>\n      <th>Illinois</th>\n      <td>5.811654e+09</td>\n      <td>0.444412</td>\n    </tr>\n    <tr>\n      <th>Indiana</th>\n      <td>2.439520e+09</td>\n      <td>0.402450</td>\n    </tr>\n    <tr>\n      <th>Iowa</th>\n      <td>1.017975e+09</td>\n      <td>0.404624</td>\n    </tr>\n    <tr>\n      <th>Kansas</th>\n      <td>9.512190e+08</td>\n      <td>0.413760</td>\n    </tr>\n    <tr>\n      <th>Kentucky</th>\n      <td>2.050727e+09</td>\n      <td>0.462144</td>\n    </tr>\n    <tr>\n      <th>Louisiana</th>\n      <td>2.602637e+09</td>\n      <td>0.458307</td>\n    </tr>\n    <tr>\n      <th>Maine</th>\n      <td>4.650930e+08</td>\n      <td>0.374429</td>\n    </tr>\n    <tr>\n      <th>Maryland</th>\n      <td>3.562985e+09</td>\n      <td>0.419910</td>\n    </tr>\n    <tr>\n      <th>Massachusetts</th>\n      <td>3.684789e+09</td>\n      <td>0.428611</td>\n    </tr>\n    <tr>\n      <th>Michigan</th>\n      <td>4.324772e+09</td>\n      <td>0.425711</td>\n    </tr>\n    <tr>\n      <th>Minnesota</th>\n      <td>1.509467e+09</td>\n      <td>0.392608</td>\n    </tr>\n    <tr>\n      <th>Mississippi</th>\n      <td>1.555958e+09</td>\n      <td>0.439230</td>\n    </tr>\n    <tr>\n      <th>Missouri</th>\n      <td>2.601740e+09</td>\n      <td>0.424790</td>\n    </tr>\n    <tr>\n      <th>Montana</th>\n      <td>4.471957e+08</td>\n      <td>0.412007</td>\n    </tr>\n    <tr>\n      <th>Nebraska</th>\n      <td>7.080865e+08</td>\n      <td>0.420158</td>\n    </tr>\n    <tr>\n      <th>Nevada</th>\n      <td>1.727451e+09</td>\n      <td>0.455834</td>\n    </tr>\n    <tr>\n      <th>New Hampshire</th>\n      <td>4.545385e+08</td>\n      <td>0.396091</td>\n    </tr>\n    <tr>\n      <th>New Jersey</th>\n      <td>4.687813e+09</td>\n      <td>0.429135</td>\n    </tr>\n    <tr>\n      <th>New Mexico</th>\n      <td>8.774302e+08</td>\n      <td>0.458149</td>\n    </tr>\n    <tr>\n      <th>New York</th>\n      <td>1.305448e+10</td>\n      <td>0.464053</td>\n    </tr>\n    <tr>\n      <th>North Carolina</th>\n      <td>5.895936e+09</td>\n      <td>0.449166</td>\n    </tr>\n    <tr>\n      <th>North Dakota</th>\n      <td>3.086342e+08</td>\n      <td>0.417262</td>\n    </tr>\n    <tr>\n      <th>Ohio</th>\n      <td>4.349983e+09</td>\n      <td>0.425880</td>\n    </tr>\n    <tr>\n      <th>Oklahoma</th>\n      <td>1.586585e+09</td>\n      <td>0.430889</td>\n    </tr>\n    <tr>\n      <th>Oregon</th>\n      <td>2.326789e+09</td>\n      <td>0.437179</td>\n    </tr>\n    <tr>\n      <th>Pennsylvania</th>\n      <td>6.006963e+09</td>\n      <td>0.443394</td>\n    </tr>\n    <tr>\n      <th>Rhode Island</th>\n      <td>3.075266e+08</td>\n      <td>0.419334</td>\n    </tr>\n    <tr>\n      <th>South Carolina</th>\n      <td>2.753692e+09</td>\n      <td>0.451503</td>\n    </tr>\n    <tr>\n      <th>South Dakota</th>\n      <td>2.788993e+08</td>\n      <td>0.438399</td>\n    </tr>\n    <tr>\n      <th>Tennessee</th>\n      <td>2.803829e+09</td>\n      <td>0.452111</td>\n    </tr>\n    <tr>\n      <th>Texas</th>\n      <td>1.567107e+10</td>\n      <td>0.466544</td>\n    </tr>\n    <tr>\n      <th>Utah</th>\n      <td>1.271796e+09</td>\n      <td>0.421490</td>\n    </tr>\n    <tr>\n      <th>Vermont</th>\n      <td>3.352345e+08</td>\n      <td>0.408244</td>\n    </tr>\n    <tr>\n      <th>Virginia</th>\n      <td>4.104259e+09</td>\n      <td>0.445080</td>\n    </tr>\n    <tr>\n      <th>Washington</th>\n      <td>3.144057e+09</td>\n      <td>0.433426</td>\n    </tr>\n    <tr>\n      <th>West Virginia</th>\n      <td>7.788120e+08</td>\n      <td>0.416696</td>\n    </tr>\n    <tr>\n      <th>Wisconsin</th>\n      <td>1.813815e+09</td>\n      <td>0.393027</td>\n    </tr>\n    <tr>\n      <th>Wyoming</th>\n      <td>3.004595e+08</td>\n      <td>0.430107</td>\n    </tr>\n    <tr>\n      <th>US</th>\n      <td>1.730901e+11</td>\n      <td>0.446050</td>\n    </tr>\n  </tbody>\n</table>\n</div>",
      "text/plain": "                       poverty_gap      gini\nAlabama               2.356088e+09  0.446140\nAlaska                4.940523e+08  0.450744\nArizona               3.014411e+09  0.439236\nArkansas              1.429620e+09  0.439355\nCalifornia            2.973458e+10  0.460103\nColorado              3.468975e+09  0.438656\nConnecticut           1.490145e+09  0.421393\nDelaware              4.680860e+08  0.429479\nDistrict of Columbia  6.103180e+08  0.474598\nFlorida               1.419641e+10  0.456744\nGeorgia               5.663864e+09  0.446625\nHawaii                8.660566e+08  0.416495\nIdaho                 7.235998e+08  0.426556\nIllinois              5.811654e+09  0.444412\nIndiana               2.439520e+09  0.402450\nIowa                  1.017975e+09  0.404624\nKansas                9.512190e+08  0.413760\nKentucky              2.050727e+09  0.462144\nLouisiana             2.602637e+09  0.458307\nMaine                 4.650930e+08  0.374429\nMaryland              3.562985e+09  0.419910\nMassachusetts         3.684789e+09  0.428611\nMichigan              4.324772e+09  0.425711\nMinnesota             1.509467e+09  0.392608\nMississippi           1.555958e+09  0.439230\nMissouri              2.601740e+09  0.424790\nMontana               4.471957e+08  0.412007\nNebraska              7.080865e+08  0.420158\nNevada                1.727451e+09  0.455834\nNew Hampshire         4.545385e+08  0.396091\nNew Jersey            4.687813e+09  0.429135\nNew Mexico            8.774302e+08  0.458149\nNew York              1.305448e+10  0.464053\nNorth Carolina        5.895936e+09  0.449166\nNorth Dakota          3.086342e+08  0.417262\nOhio                  4.349983e+09  0.425880\nOklahoma              1.586585e+09  0.430889\nOregon                2.326789e+09  0.437179\nPennsylvania          6.006963e+09  0.443394\nRhode Island          3.075266e+08  0.419334\nSouth Carolina        2.753692e+09  0.451503\nSouth Dakota          2.788993e+08  0.438399\nTennessee             2.803829e+09  0.452111\nTexas                 1.567107e+10  0.466544\nUtah                  1.271796e+09  0.421490\nVermont               3.352345e+08  0.408244\nVirginia              4.104259e+09  0.445080\nWashington            3.144057e+09  0.433426\nWest Virginia         7.788120e+08  0.416696\nWisconsin             1.813815e+09  0.393027\nWyoming               3.004595e+08  0.430107\nUS                    1.730901e+11  0.446050"
     },
     "execution_count": 40,
     "metadata": {},
     "output_type": "execute_result"
    }
   ],
   "source": [
    "# Caluclate original gini\r\n",
    "person[\"spm_resources_per_person\"] = (\r\n",
    "    person.spmtotres / person.numper\r\n",
    ")\r\n",
    "# Caluclate original gini for US\r\n",
    "gini_us = pd.Series(mdf.gini(person,\"spm_resources_per_person\", \"asecwt\"))\r\n",
    "# add name to series\r\n",
    "gini_us.index = [\"US\"]\r\n",
    "\r\n",
    "\r\n",
    "# calculate gini for each group by state\r\n",
    "gini_states = mdf.gini(person,\"spm_resources_per_person\", w=\"asecwt\", groupby=\"state\")\r\n",
    "\r\n",
    "# append US statistics as additional 'state'\r\n",
    "gini_ser = gini_states.append(gini_us)\r\n",
    "gini_ser.name=\"gini\"\r\n",
    "\r\n",
    "# Calculate the original poverty gap\r\n",
    "# TODO preprocess\r\n",
    "spmu[\"poverty_gap\"] = np.where(\r\n",
    "    spmu.spmtotres < spmu.spmthresh,\r\n",
    "    spmu.spmthresh - spmu.spmtotres,\r\n",
    "    0,\r\n",
    ")\r\n",
    "# TODO preprocess for original_poverty_gap\r\n",
    "poverty_gap_us = pd.Series(mdf.weighted_sum(spmu, \"poverty_gap\", w=\"spmwt\"))\r\n",
    "\r\n",
    "\r\n",
    "# add name to series\r\n",
    "poverty_gap_us.index = [\"US\"]\r\n",
    "\r\n",
    "\r\n",
    "# calculate gini for each group by state\r\n",
    "poverty_gap_states = mdf.weighted_sum(spmu, \"poverty_gap\", w=\"spmwt\", groupby='state')\r\n",
    "\r\n",
    "# append US statistics as additional 'state'\r\n",
    "poverty_gap_ser = poverty_gap_states.append(poverty_gap_us)\r\n",
    "poverty_gap_ser.name=\"poverty_gap\"\r\n",
    "\r\n",
    "poverty_gap_ser.to_frame().merge(gini_ser.to_frame(),left_index=True,right_index=True)"
   ]
  },
  {
   "cell_type": "code",
   "execution_count": 37,
   "metadata": {},
   "outputs": [
    {
     "data": {
      "text/html": "<div>\n<style scoped>\n    .dataframe tbody tr th:only-of-type {\n        vertical-align: middle;\n    }\n\n    .dataframe tbody tr th {\n        vertical-align: top;\n    }\n\n    .dataframe thead th {\n        text-align: right;\n    }\n</style>\n<table border=\"1\" class=\"dataframe\">\n  <thead>\n    <tr style=\"text-align: right;\">\n      <th></th>\n      <th>gini</th>\n    </tr>\n  </thead>\n  <tbody>\n    <tr>\n      <th>Alabama</th>\n      <td>0.446140</td>\n    </tr>\n    <tr>\n      <th>Alaska</th>\n      <td>0.450744</td>\n    </tr>\n    <tr>\n      <th>Arizona</th>\n      <td>0.439236</td>\n    </tr>\n    <tr>\n      <th>Arkansas</th>\n      <td>0.439355</td>\n    </tr>\n    <tr>\n      <th>California</th>\n      <td>0.460103</td>\n    </tr>\n    <tr>\n      <th>Colorado</th>\n      <td>0.438656</td>\n    </tr>\n    <tr>\n      <th>Connecticut</th>\n      <td>0.421393</td>\n    </tr>\n    <tr>\n      <th>Delaware</th>\n      <td>0.429479</td>\n    </tr>\n    <tr>\n      <th>District of Columbia</th>\n      <td>0.474598</td>\n    </tr>\n    <tr>\n      <th>Florida</th>\n      <td>0.456744</td>\n    </tr>\n    <tr>\n      <th>Georgia</th>\n      <td>0.446625</td>\n    </tr>\n    <tr>\n      <th>Hawaii</th>\n      <td>0.416495</td>\n    </tr>\n    <tr>\n      <th>Idaho</th>\n      <td>0.426556</td>\n    </tr>\n    <tr>\n      <th>Illinois</th>\n      <td>0.444412</td>\n    </tr>\n    <tr>\n      <th>Indiana</th>\n      <td>0.402450</td>\n    </tr>\n    <tr>\n      <th>Iowa</th>\n      <td>0.404624</td>\n    </tr>\n    <tr>\n      <th>Kansas</th>\n      <td>0.413760</td>\n    </tr>\n    <tr>\n      <th>Kentucky</th>\n      <td>0.462144</td>\n    </tr>\n    <tr>\n      <th>Louisiana</th>\n      <td>0.458307</td>\n    </tr>\n    <tr>\n      <th>Maine</th>\n      <td>0.374429</td>\n    </tr>\n    <tr>\n      <th>Maryland</th>\n      <td>0.419910</td>\n    </tr>\n    <tr>\n      <th>Massachusetts</th>\n      <td>0.428611</td>\n    </tr>\n    <tr>\n      <th>Michigan</th>\n      <td>0.425711</td>\n    </tr>\n    <tr>\n      <th>Minnesota</th>\n      <td>0.392608</td>\n    </tr>\n    <tr>\n      <th>Mississippi</th>\n      <td>0.439230</td>\n    </tr>\n    <tr>\n      <th>Missouri</th>\n      <td>0.424790</td>\n    </tr>\n    <tr>\n      <th>Montana</th>\n      <td>0.412007</td>\n    </tr>\n    <tr>\n      <th>Nebraska</th>\n      <td>0.420158</td>\n    </tr>\n    <tr>\n      <th>Nevada</th>\n      <td>0.455834</td>\n    </tr>\n    <tr>\n      <th>New Hampshire</th>\n      <td>0.396091</td>\n    </tr>\n    <tr>\n      <th>New Jersey</th>\n      <td>0.429135</td>\n    </tr>\n    <tr>\n      <th>New Mexico</th>\n      <td>0.458149</td>\n    </tr>\n    <tr>\n      <th>New York</th>\n      <td>0.464053</td>\n    </tr>\n    <tr>\n      <th>North Carolina</th>\n      <td>0.449166</td>\n    </tr>\n    <tr>\n      <th>North Dakota</th>\n      <td>0.417262</td>\n    </tr>\n    <tr>\n      <th>Ohio</th>\n      <td>0.425880</td>\n    </tr>\n    <tr>\n      <th>Oklahoma</th>\n      <td>0.430889</td>\n    </tr>\n    <tr>\n      <th>Oregon</th>\n      <td>0.437179</td>\n    </tr>\n    <tr>\n      <th>Pennsylvania</th>\n      <td>0.443394</td>\n    </tr>\n    <tr>\n      <th>Rhode Island</th>\n      <td>0.419334</td>\n    </tr>\n    <tr>\n      <th>South Carolina</th>\n      <td>0.451503</td>\n    </tr>\n    <tr>\n      <th>South Dakota</th>\n      <td>0.438399</td>\n    </tr>\n    <tr>\n      <th>Tennessee</th>\n      <td>0.452111</td>\n    </tr>\n    <tr>\n      <th>Texas</th>\n      <td>0.466544</td>\n    </tr>\n    <tr>\n      <th>Utah</th>\n      <td>0.421490</td>\n    </tr>\n    <tr>\n      <th>Vermont</th>\n      <td>0.408244</td>\n    </tr>\n    <tr>\n      <th>Virginia</th>\n      <td>0.445080</td>\n    </tr>\n    <tr>\n      <th>Washington</th>\n      <td>0.433426</td>\n    </tr>\n    <tr>\n      <th>West Virginia</th>\n      <td>0.416696</td>\n    </tr>\n    <tr>\n      <th>Wisconsin</th>\n      <td>0.393027</td>\n    </tr>\n    <tr>\n      <th>Wyoming</th>\n      <td>0.430107</td>\n    </tr>\n    <tr>\n      <th>US</th>\n      <td>0.446050</td>\n    </tr>\n  </tbody>\n</table>\n</div>",
      "text/plain": "                          gini\nAlabama               0.446140\nAlaska                0.450744\nArizona               0.439236\nArkansas              0.439355\nCalifornia            0.460103\nColorado              0.438656\nConnecticut           0.421393\nDelaware              0.429479\nDistrict of Columbia  0.474598\nFlorida               0.456744\nGeorgia               0.446625\nHawaii                0.416495\nIdaho                 0.426556\nIllinois              0.444412\nIndiana               0.402450\nIowa                  0.404624\nKansas                0.413760\nKentucky              0.462144\nLouisiana             0.458307\nMaine                 0.374429\nMaryland              0.419910\nMassachusetts         0.428611\nMichigan              0.425711\nMinnesota             0.392608\nMississippi           0.439230\nMissouri              0.424790\nMontana               0.412007\nNebraska              0.420158\nNevada                0.455834\nNew Hampshire         0.396091\nNew Jersey            0.429135\nNew Mexico            0.458149\nNew York              0.464053\nNorth Carolina        0.449166\nNorth Dakota          0.417262\nOhio                  0.425880\nOklahoma              0.430889\nOregon                0.437179\nPennsylvania          0.443394\nRhode Island          0.419334\nSouth Carolina        0.451503\nSouth Dakota          0.438399\nTennessee             0.452111\nTexas                 0.466544\nUtah                  0.421490\nVermont               0.408244\nVirginia              0.445080\nWashington            0.433426\nWest Virginia         0.416696\nWisconsin             0.393027\nWyoming               0.430107\nUS                    0.446050"
     },
     "execution_count": 37,
     "metadata": {},
     "output_type": "execute_result"
    }
   ],
   "source": [
    "gini_ser.to_frame()"
   ]
  },
  {
   "cell_type": "markdown",
   "metadata": {},
   "source": [
    "# Nothing Important After This"
   ]
  },
  {
   "cell_type": "code",
   "execution_count": 34,
   "metadata": {},
   "outputs": [
    {
     "data": {
      "text/html": "<div>\n<style scoped>\n    .dataframe tbody tr th:only-of-type {\n        vertical-align: middle;\n    }\n\n    .dataframe tbody tr th {\n        vertical-align: top;\n    }\n\n    .dataframe thead th {\n        text-align: right;\n    }\n</style>\n<table border=\"1\" class=\"dataframe\">\n  <thead>\n    <tr style=\"text-align: right;\">\n      <th></th>\n      <th>0</th>\n      <th>1</th>\n      <th>2</th>\n      <th>3</th>\n      <th>4</th>\n    </tr>\n  </thead>\n  <tbody>\n    <tr>\n      <th>spmheat</th>\n      <td>0.0</td>\n      <td>0.0</td>\n      <td>0.0</td>\n      <td>0.0</td>\n      <td>0.0</td>\n    </tr>\n    <tr>\n      <th>spmsnap</th>\n      <td>0</td>\n      <td>0</td>\n      <td>0</td>\n      <td>0</td>\n      <td>0</td>\n    </tr>\n    <tr>\n      <th>spmfamunit</th>\n      <td>1001</td>\n      <td>2001</td>\n      <td>2001</td>\n      <td>3001</td>\n      <td>4001</td>\n    </tr>\n    <tr>\n      <th>spmthresh</th>\n      <td>14700.0</td>\n      <td>11004.31484</td>\n      <td>14700.0</td>\n      <td>11920.0</td>\n      <td>26449.08415</td>\n    </tr>\n    <tr>\n      <th>spmtotres</th>\n      <td>86459.0</td>\n      <td>47514.0</td>\n      <td>55275.0</td>\n      <td>28653.0</td>\n      <td>105232.008</td>\n    </tr>\n    <tr>\n      <th>spmwt</th>\n      <td>517.633333</td>\n      <td>438.673333</td>\n      <td>330.163333</td>\n      <td>501.756667</td>\n      <td>274.763333</td>\n    </tr>\n    <tr>\n      <th>year</th>\n      <td>2020</td>\n      <td>2018</td>\n      <td>2020</td>\n      <td>2020</td>\n      <td>2018</td>\n    </tr>\n    <tr>\n      <th>state</th>\n      <td>Maine</td>\n      <td>Maine</td>\n      <td>Maine</td>\n      <td>Maine</td>\n      <td>Maine</td>\n    </tr>\n    <tr>\n      <th>state_tax_revenue</th>\n      <td>1526793245.48</td>\n      <td>1526793245.48</td>\n      <td>1526793245.48</td>\n      <td>1526793245.48</td>\n      <td>1526793245.48</td>\n    </tr>\n    <tr>\n      <th>state_taxable_income</th>\n      <td>40179001414.286758</td>\n      <td>40179001414.286758</td>\n      <td>40179001414.286758</td>\n      <td>40179001414.286758</td>\n      <td>40179001414.286758</td>\n    </tr>\n    <tr>\n      <th>adjginc</th>\n      <td>124644</td>\n      <td>9402</td>\n      <td>40289</td>\n      <td>40002</td>\n      <td>121785</td>\n    </tr>\n    <tr>\n      <th>fica</th>\n      <td>-8301</td>\n      <td>0</td>\n      <td>-2601</td>\n      <td>-3060</td>\n      <td>-4376</td>\n    </tr>\n    <tr>\n      <th>fedtaxac</th>\n      <td>-13485</td>\n      <td>0</td>\n      <td>-1459</td>\n      <td>-2772</td>\n      <td>-11046</td>\n    </tr>\n    <tr>\n      <th>ctc</th>\n      <td>0</td>\n      <td>0</td>\n      <td>0</td>\n      <td>0</td>\n      <td>2400</td>\n    </tr>\n    <tr>\n      <th>incssi</th>\n      <td>0</td>\n      <td>0</td>\n      <td>0</td>\n      <td>0</td>\n      <td>0</td>\n    </tr>\n    <tr>\n      <th>incunemp</th>\n      <td>0</td>\n      <td>0</td>\n      <td>0</td>\n      <td>0</td>\n      <td>0</td>\n    </tr>\n    <tr>\n      <th>eitcred</th>\n      <td>0</td>\n      <td>0</td>\n      <td>0</td>\n      <td>0</td>\n      <td>0</td>\n    </tr>\n    <tr>\n      <th>child</th>\n      <td>0</td>\n      <td>0</td>\n      <td>0</td>\n      <td>0</td>\n      <td>3</td>\n    </tr>\n    <tr>\n      <th>adult</th>\n      <td>2</td>\n      <td>1</td>\n      <td>2</td>\n      <td>1</td>\n      <td>2</td>\n    </tr>\n    <tr>\n      <th>non_citizen</th>\n      <td>0</td>\n      <td>0</td>\n      <td>0</td>\n      <td>0</td>\n      <td>0</td>\n    </tr>\n    <tr>\n      <th>non_citizen_child</th>\n      <td>0</td>\n      <td>0</td>\n      <td>0</td>\n      <td>0</td>\n      <td>0</td>\n    </tr>\n    <tr>\n      <th>non_citizen_adult</th>\n      <td>0</td>\n      <td>0</td>\n      <td>0</td>\n      <td>0</td>\n      <td>0</td>\n    </tr>\n    <tr>\n      <th>numper</th>\n      <td>2</td>\n      <td>1</td>\n      <td>2</td>\n      <td>1</td>\n      <td>5</td>\n    </tr>\n    <tr>\n      <th>stataxac</th>\n      <td>-4624</td>\n      <td>0</td>\n      <td>0</td>\n      <td>-1152</td>\n      <td>-4091</td>\n    </tr>\n  </tbody>\n</table>\n</div>",
      "text/plain": "                                       0                   1  \\\nspmheat                              0.0                 0.0   \nspmsnap                                0                   0   \nspmfamunit                          1001                2001   \nspmthresh                        14700.0         11004.31484   \nspmtotres                        86459.0             47514.0   \nspmwt                         517.633333          438.673333   \nyear                                2020                2018   \nstate                              Maine               Maine   \nstate_tax_revenue          1526793245.48       1526793245.48   \nstate_taxable_income  40179001414.286758  40179001414.286758   \nadjginc                           124644                9402   \nfica                               -8301                   0   \nfedtaxac                          -13485                   0   \nctc                                    0                   0   \nincssi                                 0                   0   \nincunemp                               0                   0   \neitcred                                0                   0   \nchild                                  0                   0   \nadult                                  2                   1   \nnon_citizen                            0                   0   \nnon_citizen_child                      0                   0   \nnon_citizen_adult                      0                   0   \nnumper                                 2                   1   \nstataxac                           -4624                   0   \n\n                                       2                   3  \\\nspmheat                              0.0                 0.0   \nspmsnap                                0                   0   \nspmfamunit                          2001                3001   \nspmthresh                        14700.0             11920.0   \nspmtotres                        55275.0             28653.0   \nspmwt                         330.163333          501.756667   \nyear                                2020                2020   \nstate                              Maine               Maine   \nstate_tax_revenue          1526793245.48       1526793245.48   \nstate_taxable_income  40179001414.286758  40179001414.286758   \nadjginc                            40289               40002   \nfica                               -2601               -3060   \nfedtaxac                           -1459               -2772   \nctc                                    0                   0   \nincssi                                 0                   0   \nincunemp                               0                   0   \neitcred                                0                   0   \nchild                                  0                   0   \nadult                                  2                   1   \nnon_citizen                            0                   0   \nnon_citizen_child                      0                   0   \nnon_citizen_adult                      0                   0   \nnumper                                 2                   1   \nstataxac                               0               -1152   \n\n                                       4  \nspmheat                              0.0  \nspmsnap                                0  \nspmfamunit                          4001  \nspmthresh                    26449.08415  \nspmtotres                     105232.008  \nspmwt                         274.763333  \nyear                                2018  \nstate                              Maine  \nstate_tax_revenue          1526793245.48  \nstate_taxable_income  40179001414.286758  \nadjginc                           121785  \nfica                               -4376  \nfedtaxac                          -11046  \nctc                                 2400  \nincssi                                 0  \nincunemp                               0  \neitcred                                0  \nchild                                  3  \nadult                                  2  \nnon_citizen                            0  \nnon_citizen_child                      0  \nnon_citizen_adult                      0  \nnumper                                 5  \nstataxac                           -4091  "
     },
     "execution_count": 34,
     "metadata": {},
     "output_type": "execute_result"
    }
   ],
   "source": [
    "spmu.head().T"
   ]
  },
  {
   "cell_type": "code",
   "execution_count": 32,
   "metadata": {},
   "outputs": [
    {
     "data": {
      "text/plain": "0    0.44605\nName: US, dtype: float64"
     },
     "execution_count": 32,
     "metadata": {},
     "output_type": "execute_result"
    }
   ],
   "source": [
    "gini_us"
   ]
  },
  {
   "cell_type": "code",
   "execution_count": 18,
   "metadata": {},
   "outputs": [
    {
     "data": {
      "text/plain": "52"
     },
     "execution_count": 18,
     "metadata": {},
     "output_type": "execute_result"
    }
   ],
   "source": [
    "# calculate gini for each group by state\r\n",
    "gini_states = mdf.gini(person, w=\"asecwt\", groupby=\"state\")\r\n",
    "\r\n",
    "# append US statistics as additional 'state'\r\n",
    "gini_df = gini_states.append(gini_us)\r\n",
    "\r\n",
    "# melt df from wide to long format\r\n",
    "gini_df = gini_df.melt(ignore_index=False, var_name=\"demog\")"
   ]
  },
  {
   "cell_type": "code",
   "execution_count": 19,
   "metadata": {},
   "outputs": [
    {
     "data": {
      "text/html": "<div>\n<style scoped>\n    .dataframe tbody tr th:only-of-type {\n        vertical-align: middle;\n    }\n\n    .dataframe tbody tr th {\n        vertical-align: top;\n    }\n\n    .dataframe thead th {\n        text-align: right;\n    }\n</style>\n<table border=\"1\" class=\"dataframe\">\n  <thead>\n    <tr style=\"text-align: right;\">\n      <th></th>\n      <th>demog</th>\n      <th>metric</th>\n      <th>value</th>\n    </tr>\n    <tr>\n      <th>state</th>\n      <th></th>\n      <th></th>\n      <th></th>\n    </tr>\n  </thead>\n  <tbody>\n    <tr>\n      <th>Alabama</th>\n      <td>person</td>\n      <td>pov_rate</td>\n      <td>0.127468</td>\n    </tr>\n    <tr>\n      <th>Alaska</th>\n      <td>person</td>\n      <td>pov_rate</td>\n      <td>0.132965</td>\n    </tr>\n    <tr>\n      <th>Arizona</th>\n      <td>person</td>\n      <td>pov_rate</td>\n      <td>0.119701</td>\n    </tr>\n    <tr>\n      <th>Arkansas</th>\n      <td>person</td>\n      <td>pov_rate</td>\n      <td>0.130987</td>\n    </tr>\n    <tr>\n      <th>California</th>\n      <td>person</td>\n      <td>pov_rate</td>\n      <td>0.174174</td>\n    </tr>\n  </tbody>\n</table>\n</div>",
      "text/plain": "             demog    metric     value\nstate                                 \nAlabama     person  pov_rate  0.127468\nAlaska      person  pov_rate  0.132965\nArizona     person  pov_rate  0.119701\nArkansas    person  pov_rate  0.130987\nCalifornia  person  pov_rate  0.174174"
     },
     "execution_count": 19,
     "metadata": {},
     "output_type": "execute_result"
    }
   ],
   "source": [
    "pov_df['metric']='pov_rate'\r\n",
    "pov_df.head()"
   ]
  },
  {
   "cell_type": "markdown",
   "metadata": {},
   "source": [
    "Next Steps:\r\n",
    "We want to have these orignal poverty rates + the total population\r\n",
    "- Could be done best as a long dataframe, just filtered"
   ]
  },
  {
   "cell_type": "code",
   "execution_count": 20,
   "metadata": {},
   "outputs": [
    {
     "ename": "MemoryError",
     "evalue": "Unable to allocate 1.95 TiB for an array with shape (518144, 518144) and data type float64",
     "output_type": "error",
     "traceback": [
      "\u001b[1;31m---------------------------------------------------------------------------\u001b[0m",
      "\u001b[1;31mMemoryError\u001b[0m                               Traceback (most recent call last)",
      "\u001b[1;32m<ipython-input-20-1e97363db5c6>\u001b[0m in \u001b[0;36m<module>\u001b[1;34m\u001b[0m\n\u001b[0;32m      1\u001b[0m \u001b[1;31m# person[demog_cols]*person['poor']\u001b[0m\u001b[1;33m\u001b[0m\u001b[1;33m\u001b[0m\u001b[1;33m\u001b[0m\u001b[0m\n\u001b[0;32m      2\u001b[0m \u001b[1;31m# person.poor.shape\u001b[0m\u001b[1;33m\u001b[0m\u001b[1;33m\u001b[0m\u001b[1;33m\u001b[0m\u001b[0m\n\u001b[1;32m----> 3\u001b[1;33m \u001b[0mperson\u001b[0m\u001b[1;33m[\u001b[0m\u001b[0mdemog_cols\u001b[0m\u001b[1;33m]\u001b[0m \u001b[1;33m&\u001b[0m \u001b[0mperson\u001b[0m\u001b[1;33m.\u001b[0m\u001b[0mpoor\u001b[0m\u001b[1;33m\u001b[0m\u001b[1;33m\u001b[0m\u001b[0m\n\u001b[0m",
      "\u001b[1;32m~\\Anaconda3\\envs\\calc\\lib\\site-packages\\pandas\\core\\ops\\common.py\u001b[0m in \u001b[0;36mnew_method\u001b[1;34m(self, other)\u001b[0m\n\u001b[0;32m     63\u001b[0m         \u001b[0mother\u001b[0m \u001b[1;33m=\u001b[0m \u001b[0mitem_from_zerodim\u001b[0m\u001b[1;33m(\u001b[0m\u001b[0mother\u001b[0m\u001b[1;33m)\u001b[0m\u001b[1;33m\u001b[0m\u001b[1;33m\u001b[0m\u001b[0m\n\u001b[0;32m     64\u001b[0m \u001b[1;33m\u001b[0m\u001b[0m\n\u001b[1;32m---> 65\u001b[1;33m         \u001b[1;32mreturn\u001b[0m \u001b[0mmethod\u001b[0m\u001b[1;33m(\u001b[0m\u001b[0mself\u001b[0m\u001b[1;33m,\u001b[0m \u001b[0mother\u001b[0m\u001b[1;33m)\u001b[0m\u001b[1;33m\u001b[0m\u001b[1;33m\u001b[0m\u001b[0m\n\u001b[0m\u001b[0;32m     66\u001b[0m \u001b[1;33m\u001b[0m\u001b[0m\n\u001b[0;32m     67\u001b[0m     \u001b[1;32mreturn\u001b[0m \u001b[0mnew_method\u001b[0m\u001b[1;33m\u001b[0m\u001b[1;33m\u001b[0m\u001b[0m\n",
      "\u001b[1;32m~\\Anaconda3\\envs\\calc\\lib\\site-packages\\pandas\\core\\arraylike.py\u001b[0m in \u001b[0;36m__and__\u001b[1;34m(self, other)\u001b[0m\n\u001b[0;32m     57\u001b[0m     \u001b[1;33m@\u001b[0m\u001b[0munpack_zerodim_and_defer\u001b[0m\u001b[1;33m(\u001b[0m\u001b[1;34m\"__and__\"\u001b[0m\u001b[1;33m)\u001b[0m\u001b[1;33m\u001b[0m\u001b[1;33m\u001b[0m\u001b[0m\n\u001b[0;32m     58\u001b[0m     \u001b[1;32mdef\u001b[0m \u001b[0m__and__\u001b[0m\u001b[1;33m(\u001b[0m\u001b[0mself\u001b[0m\u001b[1;33m,\u001b[0m \u001b[0mother\u001b[0m\u001b[1;33m)\u001b[0m\u001b[1;33m:\u001b[0m\u001b[1;33m\u001b[0m\u001b[1;33m\u001b[0m\u001b[0m\n\u001b[1;32m---> 59\u001b[1;33m         \u001b[1;32mreturn\u001b[0m \u001b[0mself\u001b[0m\u001b[1;33m.\u001b[0m\u001b[0m_logical_method\u001b[0m\u001b[1;33m(\u001b[0m\u001b[0mother\u001b[0m\u001b[1;33m,\u001b[0m \u001b[0moperator\u001b[0m\u001b[1;33m.\u001b[0m\u001b[0mand_\u001b[0m\u001b[1;33m)\u001b[0m\u001b[1;33m\u001b[0m\u001b[1;33m\u001b[0m\u001b[0m\n\u001b[0m\u001b[0;32m     60\u001b[0m \u001b[1;33m\u001b[0m\u001b[0m\n\u001b[0;32m     61\u001b[0m     \u001b[1;33m@\u001b[0m\u001b[0munpack_zerodim_and_defer\u001b[0m\u001b[1;33m(\u001b[0m\u001b[1;34m\"__rand__\"\u001b[0m\u001b[1;33m)\u001b[0m\u001b[1;33m\u001b[0m\u001b[1;33m\u001b[0m\u001b[0m\n",
      "\u001b[1;32m~\\Anaconda3\\envs\\calc\\lib\\site-packages\\pandas\\core\\frame.py\u001b[0m in \u001b[0;36m_arith_method\u001b[1;34m(self, other, op)\u001b[0m\n\u001b[0;32m   5978\u001b[0m         \u001b[0maxis\u001b[0m \u001b[1;33m=\u001b[0m \u001b[1;36m1\u001b[0m  \u001b[1;31m# only relevant for Series other case\u001b[0m\u001b[1;33m\u001b[0m\u001b[1;33m\u001b[0m\u001b[0m\n\u001b[0;32m   5979\u001b[0m \u001b[1;33m\u001b[0m\u001b[0m\n\u001b[1;32m-> 5980\u001b[1;33m         \u001b[0mself\u001b[0m\u001b[1;33m,\u001b[0m \u001b[0mother\u001b[0m \u001b[1;33m=\u001b[0m \u001b[0mops\u001b[0m\u001b[1;33m.\u001b[0m\u001b[0malign_method_FRAME\u001b[0m\u001b[1;33m(\u001b[0m\u001b[0mself\u001b[0m\u001b[1;33m,\u001b[0m \u001b[0mother\u001b[0m\u001b[1;33m,\u001b[0m \u001b[0maxis\u001b[0m\u001b[1;33m,\u001b[0m \u001b[0mflex\u001b[0m\u001b[1;33m=\u001b[0m\u001b[1;32mTrue\u001b[0m\u001b[1;33m,\u001b[0m \u001b[0mlevel\u001b[0m\u001b[1;33m=\u001b[0m\u001b[1;32mNone\u001b[0m\u001b[1;33m)\u001b[0m\u001b[1;33m\u001b[0m\u001b[1;33m\u001b[0m\u001b[0m\n\u001b[0m\u001b[0;32m   5981\u001b[0m \u001b[1;33m\u001b[0m\u001b[0m\n\u001b[0;32m   5982\u001b[0m         \u001b[0mnew_data\u001b[0m \u001b[1;33m=\u001b[0m \u001b[0mself\u001b[0m\u001b[1;33m.\u001b[0m\u001b[0m_dispatch_frame_op\u001b[0m\u001b[1;33m(\u001b[0m\u001b[0mother\u001b[0m\u001b[1;33m,\u001b[0m \u001b[0mop\u001b[0m\u001b[1;33m,\u001b[0m \u001b[0maxis\u001b[0m\u001b[1;33m=\u001b[0m\u001b[0maxis\u001b[0m\u001b[1;33m)\u001b[0m\u001b[1;33m\u001b[0m\u001b[1;33m\u001b[0m\u001b[0m\n",
      "\u001b[1;32m~\\Anaconda3\\envs\\calc\\lib\\site-packages\\pandas\\core\\ops\\__init__.py\u001b[0m in \u001b[0;36malign_method_FRAME\u001b[1;34m(left, right, axis, flex, level)\u001b[0m\n\u001b[0;32m    285\u001b[0m                 )\n\u001b[0;32m    286\u001b[0m \u001b[1;33m\u001b[0m\u001b[0m\n\u001b[1;32m--> 287\u001b[1;33m         left, right = left.align(\n\u001b[0m\u001b[0;32m    288\u001b[0m             \u001b[0mright\u001b[0m\u001b[1;33m,\u001b[0m \u001b[0mjoin\u001b[0m\u001b[1;33m=\u001b[0m\u001b[1;34m\"outer\"\u001b[0m\u001b[1;33m,\u001b[0m \u001b[0maxis\u001b[0m\u001b[1;33m=\u001b[0m\u001b[0maxis\u001b[0m\u001b[1;33m,\u001b[0m \u001b[0mlevel\u001b[0m\u001b[1;33m=\u001b[0m\u001b[0mlevel\u001b[0m\u001b[1;33m,\u001b[0m \u001b[0mcopy\u001b[0m\u001b[1;33m=\u001b[0m\u001b[1;32mFalse\u001b[0m\u001b[1;33m\u001b[0m\u001b[1;33m\u001b[0m\u001b[0m\n\u001b[0;32m    289\u001b[0m         )\n",
      "\u001b[1;32m~\\Anaconda3\\envs\\calc\\lib\\site-packages\\pandas\\core\\frame.py\u001b[0m in \u001b[0;36malign\u001b[1;34m(self, other, join, axis, level, copy, fill_value, method, limit, fill_axis, broadcast_axis)\u001b[0m\n\u001b[0;32m   4100\u001b[0m         \u001b[0mbroadcast_axis\u001b[0m\u001b[1;33m=\u001b[0m\u001b[1;32mNone\u001b[0m\u001b[1;33m,\u001b[0m\u001b[1;33m\u001b[0m\u001b[1;33m\u001b[0m\u001b[0m\n\u001b[0;32m   4101\u001b[0m     ) -> DataFrame:\n\u001b[1;32m-> 4102\u001b[1;33m         return super().align(\n\u001b[0m\u001b[0;32m   4103\u001b[0m             \u001b[0mother\u001b[0m\u001b[1;33m,\u001b[0m\u001b[1;33m\u001b[0m\u001b[1;33m\u001b[0m\u001b[0m\n\u001b[0;32m   4104\u001b[0m             \u001b[0mjoin\u001b[0m\u001b[1;33m=\u001b[0m\u001b[0mjoin\u001b[0m\u001b[1;33m,\u001b[0m\u001b[1;33m\u001b[0m\u001b[1;33m\u001b[0m\u001b[0m\n",
      "\u001b[1;32m~\\Anaconda3\\envs\\calc\\lib\\site-packages\\pandas\\core\\generic.py\u001b[0m in \u001b[0;36malign\u001b[1;34m(self, other, join, axis, level, copy, fill_value, method, limit, fill_axis, broadcast_axis)\u001b[0m\n\u001b[0;32m   8823\u001b[0m             )\n\u001b[0;32m   8824\u001b[0m         \u001b[1;32melif\u001b[0m \u001b[0misinstance\u001b[0m\u001b[1;33m(\u001b[0m\u001b[0mother\u001b[0m\u001b[1;33m,\u001b[0m \u001b[0mABCSeries\u001b[0m\u001b[1;33m)\u001b[0m\u001b[1;33m:\u001b[0m\u001b[1;33m\u001b[0m\u001b[1;33m\u001b[0m\u001b[0m\n\u001b[1;32m-> 8825\u001b[1;33m             return self._align_series(\n\u001b[0m\u001b[0;32m   8826\u001b[0m                 \u001b[0mother\u001b[0m\u001b[1;33m,\u001b[0m\u001b[1;33m\u001b[0m\u001b[1;33m\u001b[0m\u001b[0m\n\u001b[0;32m   8827\u001b[0m                 \u001b[0mjoin\u001b[0m\u001b[1;33m=\u001b[0m\u001b[0mjoin\u001b[0m\u001b[1;33m,\u001b[0m\u001b[1;33m\u001b[0m\u001b[1;33m\u001b[0m\u001b[0m\n",
      "\u001b[1;32m~\\Anaconda3\\envs\\calc\\lib\\site-packages\\pandas\\core\\generic.py\u001b[0m in \u001b[0;36m_align_series\u001b[1;34m(self, other, join, axis, level, copy, fill_value, method, limit, fill_axis)\u001b[0m\n\u001b[0;32m   8962\u001b[0m \u001b[1;33m\u001b[0m\u001b[0m\n\u001b[0;32m   8963\u001b[0m                 \u001b[1;32mif\u001b[0m \u001b[0mlidx\u001b[0m \u001b[1;32mis\u001b[0m \u001b[1;32mnot\u001b[0m \u001b[1;32mNone\u001b[0m\u001b[1;33m:\u001b[0m\u001b[1;33m\u001b[0m\u001b[1;33m\u001b[0m\u001b[0m\n\u001b[1;32m-> 8964\u001b[1;33m                     \u001b[0mfdata\u001b[0m \u001b[1;33m=\u001b[0m \u001b[0mfdata\u001b[0m\u001b[1;33m.\u001b[0m\u001b[0mreindex_indexer\u001b[0m\u001b[1;33m(\u001b[0m\u001b[0mjoin_index\u001b[0m\u001b[1;33m,\u001b[0m \u001b[0mlidx\u001b[0m\u001b[1;33m,\u001b[0m \u001b[0maxis\u001b[0m\u001b[1;33m=\u001b[0m\u001b[1;36m0\u001b[0m\u001b[1;33m)\u001b[0m\u001b[1;33m\u001b[0m\u001b[1;33m\u001b[0m\u001b[0m\n\u001b[0m\u001b[0;32m   8965\u001b[0m             \u001b[1;32melse\u001b[0m\u001b[1;33m:\u001b[0m\u001b[1;33m\u001b[0m\u001b[1;33m\u001b[0m\u001b[0m\n\u001b[0;32m   8966\u001b[0m                 \u001b[1;32mraise\u001b[0m \u001b[0mValueError\u001b[0m\u001b[1;33m(\u001b[0m\u001b[1;34m\"Must specify axis=0 or 1\"\u001b[0m\u001b[1;33m)\u001b[0m\u001b[1;33m\u001b[0m\u001b[1;33m\u001b[0m\u001b[0m\n",
      "\u001b[1;32m~\\Anaconda3\\envs\\calc\\lib\\site-packages\\pandas\\core\\internals\\managers.py\u001b[0m in \u001b[0;36mreindex_indexer\u001b[1;34m(self, new_axis, indexer, axis, fill_value, allow_dups, copy, consolidate, only_slice)\u001b[0m\n\u001b[0;32m   1305\u001b[0m \u001b[1;33m\u001b[0m\u001b[0m\n\u001b[0;32m   1306\u001b[0m         \u001b[1;32mif\u001b[0m \u001b[0maxis\u001b[0m \u001b[1;33m==\u001b[0m \u001b[1;36m0\u001b[0m\u001b[1;33m:\u001b[0m\u001b[1;33m\u001b[0m\u001b[1;33m\u001b[0m\u001b[0m\n\u001b[1;32m-> 1307\u001b[1;33m             new_blocks = self._slice_take_blocks_ax0(\n\u001b[0m\u001b[0;32m   1308\u001b[0m                 \u001b[0mindexer\u001b[0m\u001b[1;33m,\u001b[0m \u001b[0mfill_value\u001b[0m\u001b[1;33m=\u001b[0m\u001b[0mfill_value\u001b[0m\u001b[1;33m,\u001b[0m \u001b[0monly_slice\u001b[0m\u001b[1;33m=\u001b[0m\u001b[0monly_slice\u001b[0m\u001b[1;33m\u001b[0m\u001b[1;33m\u001b[0m\u001b[0m\n\u001b[0;32m   1309\u001b[0m             )\n",
      "\u001b[1;32m~\\Anaconda3\\envs\\calc\\lib\\site-packages\\pandas\\core\\internals\\managers.py\u001b[0m in \u001b[0;36m_slice_take_blocks_ax0\u001b[1;34m(self, slice_or_indexer, fill_value, only_slice)\u001b[0m\n\u001b[0;32m   1402\u001b[0m \u001b[1;33m\u001b[0m\u001b[0m\n\u001b[0;32m   1403\u001b[0m                 blocks.append(\n\u001b[1;32m-> 1404\u001b[1;33m                     \u001b[0mself\u001b[0m\u001b[1;33m.\u001b[0m\u001b[0m_make_na_block\u001b[0m\u001b[1;33m(\u001b[0m\u001b[0mplacement\u001b[0m\u001b[1;33m=\u001b[0m\u001b[0mmgr_locs\u001b[0m\u001b[1;33m,\u001b[0m \u001b[0mfill_value\u001b[0m\u001b[1;33m=\u001b[0m\u001b[0mfill_value\u001b[0m\u001b[1;33m)\u001b[0m\u001b[1;33m\u001b[0m\u001b[1;33m\u001b[0m\u001b[0m\n\u001b[0m\u001b[0;32m   1405\u001b[0m                 )\n\u001b[0;32m   1406\u001b[0m             \u001b[1;32melse\u001b[0m\u001b[1;33m:\u001b[0m\u001b[1;33m\u001b[0m\u001b[1;33m\u001b[0m\u001b[0m\n",
      "\u001b[1;32m~\\Anaconda3\\envs\\calc\\lib\\site-packages\\pandas\\core\\internals\\managers.py\u001b[0m in \u001b[0;36m_make_na_block\u001b[1;34m(self, placement, fill_value)\u001b[0m\n\u001b[0;32m   1448\u001b[0m \u001b[1;33m\u001b[0m\u001b[0m\n\u001b[0;32m   1449\u001b[0m         \u001b[0mdtype\u001b[0m\u001b[1;33m,\u001b[0m \u001b[0mfill_value\u001b[0m \u001b[1;33m=\u001b[0m \u001b[0minfer_dtype_from_scalar\u001b[0m\u001b[1;33m(\u001b[0m\u001b[0mfill_value\u001b[0m\u001b[1;33m)\u001b[0m\u001b[1;33m\u001b[0m\u001b[1;33m\u001b[0m\u001b[0m\n\u001b[1;32m-> 1450\u001b[1;33m         \u001b[0mblock_values\u001b[0m \u001b[1;33m=\u001b[0m \u001b[0mnp\u001b[0m\u001b[1;33m.\u001b[0m\u001b[0mempty\u001b[0m\u001b[1;33m(\u001b[0m\u001b[0mblock_shape\u001b[0m\u001b[1;33m,\u001b[0m \u001b[0mdtype\u001b[0m\u001b[1;33m=\u001b[0m\u001b[0mdtype\u001b[0m\u001b[1;33m)\u001b[0m\u001b[1;33m\u001b[0m\u001b[1;33m\u001b[0m\u001b[0m\n\u001b[0m\u001b[0;32m   1451\u001b[0m         \u001b[0mblock_values\u001b[0m\u001b[1;33m.\u001b[0m\u001b[0mfill\u001b[0m\u001b[1;33m(\u001b[0m\u001b[0mfill_value\u001b[0m\u001b[1;33m)\u001b[0m\u001b[1;33m\u001b[0m\u001b[1;33m\u001b[0m\u001b[0m\n\u001b[0;32m   1452\u001b[0m         \u001b[1;32mreturn\u001b[0m \u001b[0mmake_block\u001b[0m\u001b[1;33m(\u001b[0m\u001b[0mblock_values\u001b[0m\u001b[1;33m,\u001b[0m \u001b[0mplacement\u001b[0m\u001b[1;33m=\u001b[0m\u001b[0mplacement\u001b[0m\u001b[1;33m,\u001b[0m \u001b[0mndim\u001b[0m\u001b[1;33m=\u001b[0m\u001b[0mblock_values\u001b[0m\u001b[1;33m.\u001b[0m\u001b[0mndim\u001b[0m\u001b[1;33m)\u001b[0m\u001b[1;33m\u001b[0m\u001b[1;33m\u001b[0m\u001b[0m\n",
      "\u001b[1;31mMemoryError\u001b[0m: Unable to allocate 1.95 TiB for an array with shape (518144, 518144) and data type float64"
     ]
    }
   ],
   "source": [
    "# person[demog_cols]*person['poor']\r\n",
    "# person.poor.shape\r\n",
    "person[demog_cols] & person.poor"
   ]
  },
  {
   "cell_type": "markdown",
   "metadata": {},
   "source": [
    "We're having that weird problem again. Issue isn't groupby"
   ]
  },
  {
   "cell_type": "code",
   "execution_count": null,
   "metadata": {},
   "outputs": [
    {
     "data": {
      "text/plain": "adult                 2.506244e+08\nchild                 7.363562e+07\nblack                 4.283329e+07\nwhite_non_hispanic    1.951494e+08\nhispanic              3.242600e+08\npwd                   3.043038e+07\nnon_citizen           2.307845e+07\nnon_citizen_adult     2.109232e+07\nnon_citizen_child     1.986129e+06\ndtype: float64"
     },
     "execution_count": 12,
     "metadata": {},
     "output_type": "execute_result"
    }
   ],
   "source": [
    "population = person.asecwt.sum()\r\n",
    "adult_pop = (person.asecwt * person.adult).sum()\r\n",
    "child_pop = (person.asecwt * person.child).sum()\r\n",
    "black_pop = (person.asecwt * person.black).sum()\r\n",
    "white_non_hispanic_pop = (person.asecwt * person.white_non_hispanic).sum()\r\n",
    "hispanic_pop = (person.asecwt * person.hispanic).sum()\r\n",
    "pwd_pop = (person.asecwt * person.pwd).sum()\r\n",
    "non_citizen_pop = (person.asecwt * person.non_citizen).sum()\r\n",
    "non_citizen_adult_pop = (person.asecwt * person.non_citizen_adult).sum()\r\n",
    "non_citizen_child_pop = (person.asecwt * person.non_citizen_child).sum()\r\n",
    "\r\n",
    "# whole us population\r\n",
    "us_pops = mdf.weighted_sum(\r\n",
    "    df=person,\r\n",
    "    col=[\r\n",
    "        \"adult\",\r\n",
    "        \"child\",\r\n",
    "        \"black\",\r\n",
    "        \"white_non_hispanic\",\r\n",
    "        \"hispanic\",\r\n",
    "        \"pwd\",\r\n",
    "        \"non_citizen\",\r\n",
    "        \"non_citizen_adult\",\r\n",
    "        \"non_citizen_child\",\r\n",
    "    ],\r\n",
    "    w=\"asecwt\",\r\n",
    ")\r\n"
   ]
  },
  {
   "cell_type": "code",
   "execution_count": null,
   "metadata": {},
   "outputs": [
    {
     "data": {
      "text/html": "<div>\n<style scoped>\n    .dataframe tbody tr th:only-of-type {\n        vertical-align: middle;\n    }\n\n    .dataframe tbody tr th {\n        vertical-align: top;\n    }\n\n    .dataframe thead th {\n        text-align: right;\n    }\n</style>\n<table border=\"1\" class=\"dataframe\">\n  <thead>\n    <tr style=\"text-align: right;\">\n      <th></th>\n      <th>adult</th>\n      <th>child</th>\n      <th>black</th>\n      <th>white_non_hispanic</th>\n      <th>hispanic</th>\n      <th>pwd</th>\n      <th>non_citizen</th>\n      <th>non_citizen_adult</th>\n      <th>non_citizen_child</th>\n    </tr>\n    <tr>\n      <th>statefip</th>\n      <th></th>\n      <th></th>\n      <th></th>\n      <th></th>\n      <th></th>\n      <th></th>\n      <th></th>\n      <th></th>\n      <th></th>\n    </tr>\n  </thead>\n  <tbody>\n    <tr>\n      <th>Delaware</th>\n      <td>7.740508e+05</td>\n      <td>1.992660e+05</td>\n      <td>2.233194e+05</td>\n      <td>5.962714e+05</td>\n      <td>9.733168e+05</td>\n      <td>9.249450e+04</td>\n      <td>5.218614e+04</td>\n      <td>4.866105e+04</td>\n      <td>3525.093333</td>\n    </tr>\n    <tr>\n      <th>District of Columbia</th>\n      <td>5.679748e+05</td>\n      <td>1.286088e+05</td>\n      <td>3.232205e+05</td>\n      <td>2.672579e+05</td>\n      <td>6.965836e+05</td>\n      <td>5.750852e+04</td>\n      <td>6.035891e+04</td>\n      <td>5.500731e+04</td>\n      <td>5351.603333</td>\n    </tr>\n    <tr>\n      <th>Florida</th>\n      <td>1.689726e+07</td>\n      <td>4.282094e+06</td>\n      <td>3.528064e+06</td>\n      <td>1.129305e+07</td>\n      <td>2.117935e+07</td>\n      <td>1.966757e+06</td>\n      <td>2.102128e+06</td>\n      <td>1.835257e+06</td>\n      <td>266870.983333</td>\n    </tr>\n    <tr>\n      <th>Georgia</th>\n      <td>7.853768e+06</td>\n      <td>2.510106e+06</td>\n      <td>3.374832e+06</td>\n      <td>5.217768e+06</td>\n      <td>1.036387e+07</td>\n      <td>8.826785e+05</td>\n      <td>6.746638e+05</td>\n      <td>6.129787e+05</td>\n      <td>61685.106667</td>\n    </tr>\n    <tr>\n      <th>Hawaii</th>\n      <td>1.085784e+06</td>\n      <td>3.044653e+05</td>\n      <td>2.428359e+04</td>\n      <td>2.730273e+05</td>\n      <td>1.390249e+06</td>\n      <td>1.215873e+05</td>\n      <td>9.697518e+04</td>\n      <td>8.698362e+04</td>\n      <td>9991.560000</td>\n    </tr>\n  </tbody>\n</table>\n</div>",
      "text/plain": "                             adult         child         black  \\\nstatefip                                                         \nDelaware              7.740508e+05  1.992660e+05  2.233194e+05   \nDistrict of Columbia  5.679748e+05  1.286088e+05  3.232205e+05   \nFlorida               1.689726e+07  4.282094e+06  3.528064e+06   \nGeorgia               7.853768e+06  2.510106e+06  3.374832e+06   \nHawaii                1.085784e+06  3.044653e+05  2.428359e+04   \n\n                      white_non_hispanic      hispanic           pwd  \\\nstatefip                                                               \nDelaware                    5.962714e+05  9.733168e+05  9.249450e+04   \nDistrict of Columbia        2.672579e+05  6.965836e+05  5.750852e+04   \nFlorida                     1.129305e+07  2.117935e+07  1.966757e+06   \nGeorgia                     5.217768e+06  1.036387e+07  8.826785e+05   \nHawaii                      2.730273e+05  1.390249e+06  1.215873e+05   \n\n                       non_citizen  non_citizen_adult  non_citizen_child  \nstatefip                                                                  \nDelaware              5.218614e+04       4.866105e+04        3525.093333  \nDistrict of Columbia  6.035891e+04       5.500731e+04        5351.603333  \nFlorida               2.102128e+06       1.835257e+06      266870.983333  \nGeorgia               6.746638e+05       6.129787e+05       61685.106667  \nHawaii                9.697518e+04       8.698362e+04        9991.560000  "
     },
     "execution_count": 14,
     "metadata": {},
     "output_type": "execute_result"
    }
   ],
   "source": [
    "# each state population\r\n",
    "state_pops = mdf.weighted_sum(\r\n",
    "    df=person,\r\n",
    "    col=[\r\n",
    "        \"adult\",\r\n",
    "        \"child\",\r\n",
    "        \"black\",\r\n",
    "        \"white_non_hispanic\",\r\n",
    "        \"hispanic\",\r\n",
    "        \"pwd\",\r\n",
    "        \"non_citizen\",\r\n",
    "        \"non_citizen_adult\",\r\n",
    "        \"non_citizen_child\",\r\n",
    "    ],\r\n",
    "    w=\"asecwt\",\r\n",
    "    groupby=['state']\r\n",
    ")\r\n",
    "state_pops.head()"
   ]
  },
  {
   "cell_type": "markdown",
   "metadata": {},
   "source": [
    "Ok, so what's a dumb way and a smart way to get the poverty rates?\r\n",
    "\r\n",
    "We need to use spm for that one, I guess.\r\n",
    "\r\n",
    "Or no, we can still just use spm thresholds.\r\n",
    "\r\n",
    "We should calculate is_poor, which will be a column in the dataframe\r\n",
    "\r\n",
    "Then "
   ]
  }
 ],
 "metadata": {
  "kernelspec": {
   "display_name": "Python 3.9.2 64-bit ('calc': conda)",
   "name": "python392jvsc74a57bd0f939b1518d7238981022797afc1e0483f517a57eb91d86ba7dfe863f8ecb4fdf"
  },
  "language_info": {
   "codemirror_mode": {
    "name": "ipython",
    "version": 3
   },
   "file_extension": ".py",
   "mimetype": "text/x-python",
   "name": "python",
   "nbconvert_exporter": "python",
   "pygments_lexer": "ipython3",
   "version": "3.9.2"
  }
 },
 "nbformat": 4,
 "nbformat_minor": 4
}