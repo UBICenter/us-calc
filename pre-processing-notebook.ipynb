{
 "cells": [
  {
   "cell_type": "code",
   "execution_count": 1,
   "metadata": {},
   "outputs": [],
   "source": [
    "# if kernel crashes, make sure pywin32 and pipywin32 are installed. \r\n",
    "# Followed instructions here: https://github.com/jupyter/notebook/issues/4909 \r\n",
    "import win32api"
   ]
  },
  {
   "cell_type": "code",
   "execution_count": 2,
   "metadata": {},
   "outputs": [],
   "source": [
    "\r\n",
    "import pandas as pd\r\n",
    "import numpy as np\r\n",
    "import plotly.graph_objects as go\r\n",
    "import plotly.express as px\r\n",
    "import dash\r\n",
    "import dash_core_components as dcc\r\n",
    "import dash_html_components as html\r\n",
    "from dash.dependencies import Input, Output\r\n",
    "import dash_bootstrap_components as dbc\r\n",
    "import microdf as mdf\r\n",
    "import os\r\n",
    "import us\r\n",
    "\r\n"
   ]
  },
  {
   "cell_type": "code",
   "execution_count": 5,
   "metadata": {},
   "outputs": [],
   "source": [
    "# Import data from Ipums\r\n",
    "person_raw = pd.read_csv(\"cps_00041.csv.gz\")\r\n",
    "\r\n",
    "# Create copy and lower column names\r\n",
    "person = person_raw.copy(deep=True)\r\n",
    "person.columns = person.columns.str.lower()\r\n",
    "person.asecwt /= 3\r\n",
    "\r\n",
    "# Crate booleans for demographics\r\n",
    "person[\"adult\"] = person.age > 17\r\n",
    "person[\"child\"] = person.age < 18\r\n",
    "\r\n",
    "person[\"black\"] = person.race == 200\r\n",
    "person[\"white_non_hispanic\"] = (person.race == 100) & (person.hispan == 0)\r\n",
    "person[\"hispanic\"] = (person.hispan > 1) & person.hispan < 700\r\n",
    "person[\"pwd\"] = person.diffany == 2\r\n",
    "person[\"non_citizen\"] = person.citizen == 5\r\n",
    "person[\"non_citizen_child\"] = (person.citizen == 5) & (person.age < 18)\r\n",
    "person[\"non_citizen_adult\"] = (person.citizen == 5) & (person.age > 17)\r\n",
    "\r\n",
    "# Remove NIUs\r\n",
    "person[\"taxinc\"].replace({9999999: 0}, inplace=True)\r\n",
    "person[\"adjginc\"].replace({99999999: 0}, inplace=True)\r\n",
    "person[\"incss\"].replace({999999: 0}, inplace=True)\r\n",
    "person[\"incssi\"].replace({999999: 0}, inplace=True)\r\n",
    "person[\"incunemp\"].replace({99999: 0}, inplace=True)\r\n",
    "person[\"incunemp\"].replace({999999: 0}, inplace=True)\r\n",
    "person[\"ctccrd\"].replace({999999: 0}, inplace=True)\r\n",
    "person[\"actccrd\"].replace({99999: 0}, inplace=True)\r\n",
    "person[\"eitcred\"].replace({9999: 0}, inplace=True)\r\n",
    "person[\"fica\"].replace({99999: 0}, inplace=True)\r\n",
    "person[\"fedtaxac\"].replace({99999999: 0}, inplace=True)\r\n",
    "person[\"stataxac\"].replace({9999999: 0}, inplace=True)"
   ]
  },
  {
   "cell_type": "code",
   "execution_count": 13,
   "metadata": {},
   "outputs": [
    {
     "data": {
      "text/plain": "array([<State:Maine>, <State:New Hampshire>, <State:Vermont>,\n       <State:Massachusetts>, <State:Rhode Island>, None,\n       <State:New York>, <State:New Jersey>, <State:Pennsylvania>,\n       <State:Ohio>, <State:Indiana>, <State:Illinois>, <State:Michigan>,\n       <State:Wisconsin>, <State:Minnesota>, <State:Iowa>,\n       <State:Missouri>, <State:North Dakota>, <State:South Dakota>,\n       <State:Nebraska>, <State:Kansas>, <State:Delaware>,\n       <State:Maryland>, <State:District of Columbia>, <State:Virginia>,\n       <State:West Virginia>, <State:North Carolina>,\n       <State:South Carolina>, <State:Georgia>, <State:Florida>,\n       <State:Kentucky>, <State:Tennessee>, <State:Mississippi>,\n       <State:Louisiana>, <State:Oklahoma>, <State:Texas>,\n       <State:Montana>, <State:Idaho>, <State:Wyoming>,\n       <State:New Mexico>, <State:Utah>, <State:Nevada>,\n       <State:Washington>, <State:Oregon>, <State:Hawaii>], dtype=object)"
     },
     "execution_count": 13,
     "metadata": {},
     "output_type": "execute_result"
    }
   ],
   "source": [
    "# Change fip codes to state names\r\n",
    "person[\"statefip\"]=person[\"statefip\"].astype(str)\r\n",
    "person[\"statefip\"]=person[\"statefip\"].apply(lambda x: us.states.lookup(x))\r\n",
    "person.statefip.value_counts()"
   ]
  },
  {
   "cell_type": "code",
   "execution_count": 3,
   "metadata": {},
   "outputs": [
    {
     "data": {
      "text/plain": "{'01': 'Alabama',\n '02': 'Alaska',\n '04': 'Arizona',\n '05': 'Arkansas',\n '06': 'California',\n '08': 'Colorado',\n '09': 'Connecticut',\n '10': 'Delaware',\n '12': 'Florida',\n '13': 'Georgia',\n '15': 'Hawaii',\n '16': 'Idaho',\n '17': 'Illinois',\n '18': 'Indiana',\n '19': 'Iowa',\n '20': 'Kansas',\n '21': 'Kentucky',\n '22': 'Louisiana',\n '23': 'Maine',\n '24': 'Maryland',\n '25': 'Massachusetts',\n '26': 'Michigan',\n '27': 'Minnesota',\n '28': 'Mississippi',\n '29': 'Missouri',\n '30': 'Montana',\n '31': 'Nebraska',\n '32': 'Nevada',\n '33': 'New Hampshire',\n '34': 'New Jersey',\n '35': 'New Mexico',\n '36': 'New York',\n '37': 'North Carolina',\n '38': 'North Dakota',\n '39': 'Ohio',\n '40': 'Oklahoma',\n '41': 'Oregon',\n '42': 'Pennsylvania',\n '44': 'Rhode Island',\n '45': 'South Carolina',\n '46': 'South Dakota',\n '47': 'Tennessee',\n '48': 'Texas',\n '49': 'Utah',\n '50': 'Vermont',\n '51': 'Virginia',\n '53': 'Washington',\n '54': 'West Virginia',\n '55': 'Wisconsin',\n '56': 'Wyoming',\n '60': 'American Samoa',\n '66': 'Guam',\n '69': 'Northern Mariana Islands',\n '72': 'Puerto Rico',\n '78': 'Virgin Islands',\n '11': 'District of Columbia',\n None: 'Philippine Islands'}"
     },
     "execution_count": 3,
     "metadata": {},
     "output_type": "execute_result"
    }
   ],
   "source": [
    "us.states.mapping('fips','name')"
   ]
  }
 ],
 "metadata": {
  "kernelspec": {
   "display_name": "Python 3.9.2 64-bit ('calc': conda)",
   "metadata": {
    "interpreter": {
     "hash": "f939b1518d7238981022797afc1e0483f517a57eb91d86ba7dfe863f8ecb4fdf"
    }
   },
   "name": "python3"
  },
  "language_info": {
   "codemirror_mode": {
    "name": "ipython",
    "version": 3
   },
   "file_extension": ".py",
   "mimetype": "text/x-python",
   "name": "python",
   "nbconvert_exporter": "python",
   "pygments_lexer": "ipython3",
   "version": "3.9.2"
  },
  "orig_nbformat": 2
 },
 "nbformat": 4,
 "nbformat_minor": 2
}