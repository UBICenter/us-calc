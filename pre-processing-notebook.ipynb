{
 "cells": [
  {
   "cell_type": "code",
   "execution_count": 1,
   "metadata": {},
   "outputs": [],
   "source": [
    "# if kernel crashes, make sure pywin32 and pipywin32 are installed. \r\n",
    "# Followed instructions here: https://github.com/jupyter/notebook/issues/4909 \r\n",
    "import win32api"
   ]
  },
  {
   "cell_type": "code",
   "execution_count": 3,
   "metadata": {},
   "outputs": [],
   "source": [
    "\r\n",
    "import pandas as pd\r\n",
    "import numpy as np\r\n",
    "import plotly.graph_objects as go\r\n",
    "import plotly.express as px\r\n",
    "import dash\r\n",
    "import dash_core_components as dcc\r\n",
    "import dash_html_components as html\r\n",
    "from dash.dependencies import Input, Output\r\n",
    "import dash_bootstrap_components as dbc\r\n",
    "import microdf as mdf\r\n",
    "import os\r\n",
    "import us\r\n",
    "\r\n"
   ]
  },
  {
   "cell_type": "code",
   "execution_count": 4,
   "metadata": {},
   "outputs": [],
   "source": [
    "# Import data from Ipums\r\n",
    "person_raw = pd.read_csv(\"cps_00041.csv.gz\")\r\n",
    "\r\n",
    "# Create copy and lower column names\r\n",
    "person = person_raw.copy(deep=True)\r\n",
    "person.columns = person.columns.str.lower()\r\n",
    "person.asecwt /= 3\r\n",
    "\r\n",
    "# Crate booleans for demographics\r\n",
    "person[\"adult\"] = person.age > 17\r\n",
    "person[\"child\"] = person.age < 18\r\n",
    "\r\n",
    "person[\"black\"] = person.race == 200\r\n",
    "person[\"white_non_hispanic\"] = (person.race == 100) & (person.hispan == 0)\r\n",
    "person[\"hispanic\"] = (person.hispan > 1) & person.hispan < 700\r\n",
    "person[\"pwd\"] = person.diffany == 2\r\n",
    "person[\"non_citizen\"] = person.citizen == 5\r\n",
    "person[\"non_citizen_child\"] = (person.citizen == 5) & (person.age < 18)\r\n",
    "person[\"non_citizen_adult\"] = (person.citizen == 5) & (person.age > 17)\r\n",
    "\r\n",
    "# Remove NIUs\r\n",
    "person[\"taxinc\"].replace({9999999: 0}, inplace=True)\r\n",
    "person[\"adjginc\"].replace({99999999: 0}, inplace=True)\r\n",
    "person[\"incss\"].replace({999999: 0}, inplace=True)\r\n",
    "person[\"incssi\"].replace({999999: 0}, inplace=True)\r\n",
    "person[\"incunemp\"].replace({99999: 0}, inplace=True)\r\n",
    "person[\"incunemp\"].replace({999999: 0}, inplace=True)\r\n",
    "person[\"ctccrd\"].replace({999999: 0}, inplace=True)\r\n",
    "person[\"actccrd\"].replace({99999: 0}, inplace=True)\r\n",
    "person[\"eitcred\"].replace({9999: 0}, inplace=True)\r\n",
    "person[\"fica\"].replace({99999: 0}, inplace=True)\r\n",
    "person[\"fedtaxac\"].replace({99999999: 0}, inplace=True)\r\n",
    "person[\"stataxac\"].replace({9999999: 0}, inplace=True)"
   ]
  },
  {
   "cell_type": "code",
   "execution_count": 5,
   "metadata": {},
   "outputs": [],
   "source": [
    "# Change fip codes to state names\r\n",
    "person[\"statefip\"]=person[\"statefip\"].astype(str)\r\n",
    "person[\"statefip\"]=person[\"statefip\"].apply(lambda x: us.states.lookup(x))\r\n",
    "\r\n",
    "# Aggregate deductible and refundable child tax credits\r\n",
    "person[\"ctc\"] = person.ctccrd + person.actccrd\r\n",
    "\r\n",
    "# Calculate the number of people per smp unit\r\n",
    "person[\"person\"] = 1\r\n",
    "spm = person.groupby([\"spmfamunit\", \"year\"])[[\"person\"]].sum()\r\n",
    "spm.columns = [\"numper\"]\r\n",
    "person = person.merge(spm, left_on=[\"spmfamunit\", \"year\"], right_index=True)\r\n",
    "\r\n",
    "person[\"weighted_state_tax\"] = person.asecwt * person.stataxac\r\n",
    "person[\"weighted_agi\"] = person.asecwt * person.adjginc\r\n",
    "\r\n",
    "# Calculate the total taxable income and total people in each state\r\n",
    "state_groups_taxinc = person.groupby([\"statefip\"])[\r\n",
    "    [\"weighted_state_tax\", \"weighted_agi\"]\r\n",
    "].sum()\r\n",
    "state_groups_taxinc.columns = [\"state_tax_revenue\", \"state_taxable_income\"]\r\n",
    "person = person.merge(\r\n",
    "    state_groups_taxinc, left_on=[\"statefip\"], right_index=True\r\n",
    ")\r\n"
   ]
  },
  {
   "cell_type": "code",
   "execution_count": 6,
   "metadata": {},
   "outputs": [
    {
     "data": {
      "text/plain": [
       "Texas                   32167\n",
       "Florida                 23335\n",
       "New York                20722\n",
       "Illinois                14174\n",
       "Pennsylvania            13043\n",
       "Louisiana               11970\n",
       "Ohio                    11969\n",
       "Georgia                 11810\n",
       "North Carolina          11806\n",
       "Michigan                11196\n",
       "Massachusetts           10470\n",
       "New Jersey              10058\n",
       "Washington              10019\n",
       "New Mexico               9816\n",
       "Virginia                 9716\n",
       "West Virginia            9627\n",
       "Tennessee                9510\n",
       "Mississippi              9433\n",
       "Utah                     9183\n",
       "Montana                  8775\n",
       "Idaho                    8573\n",
       "Indiana                  8432\n",
       "Hawaii                   8249\n",
       "South Carolina           8231\n",
       "Oklahoma                 8040\n",
       "District of Columbia     7917\n",
       "Oregon                   7760\n",
       "Nevada                   7188\n",
       "North Dakota             7071\n",
       "Wyoming                  7018\n",
       "Wisconsin                6849\n",
       "Missouri                 6830\n",
       "Minnesota                6721\n",
       "Maryland                 6636\n",
       "Kansas                   6551\n",
       "Nebraska                 6494\n",
       "New Hampshire            6248\n",
       "Iowa                     6039\n",
       "Vermont                  5829\n",
       "South Dakota             5733\n",
       "Kentucky                 5706\n",
       "Delaware                 5433\n",
       "Rhode Island             4283\n",
       "Maine                    3662\n",
       "Name: statefip, dtype: int64"
      ]
     },
     "execution_count": 6,
     "metadata": {},
     "output_type": "execute_result"
    }
   ],
   "source": [
    "person.statefip.value_counts()"
   ]
  },
  {
   "cell_type": "code",
   "execution_count": null,
   "metadata": {},
   "outputs": [],
   "source": []
  }
 ],
 "metadata": {
  "kernelspec": {
   "display_name": "Python 3",
   "language": "python",
   "name": "python3"
  },
  "language_info": {
   "codemirror_mode": {
    "name": "ipython",
    "version": 3
   },
   "file_extension": ".py",
   "mimetype": "text/x-python",
   "name": "python",
   "nbconvert_exporter": "python",
   "pygments_lexer": "ipython3",
   "version": "3.9.2-final"
  }
 },
 "nbformat": 4,
 "nbformat_minor": 4
}