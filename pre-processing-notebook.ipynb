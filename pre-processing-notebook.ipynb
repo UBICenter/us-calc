{
 "cells": [
  {
   "cell_type": "code",
   "execution_count": null,
   "metadata": {},
   "outputs": [],
   "source": []
  },
  {
   "cell_type": "code",
   "execution_count": 1,
   "metadata": {},
   "outputs": [],
   "source": [
    "\r\n",
    "# if kernel crashes, make sure pywin32 and pipywin32 are installed. \r\n",
    "# Followed instructions here: https://github.com/jupyter/notebook/issues/4909 \r\n",
    "import win32api\r\n",
    "import pandas as pd\r\n",
    "import numpy as np\r\n",
    "import plotly.graph_objects as go\r\n",
    "import plotly.express as px\r\n",
    "import dash\r\n",
    "import dash_core_components as dcc\r\n",
    "import dash_html_components as html\r\n",
    "from dash.dependencies import Input, Output\r\n",
    "import dash_bootstrap_components as dbc\r\n",
    "import microdf as mdf\r\n",
    "import os\r\n",
    "import us\r\n",
    "\r\n"
   ]
  },
  {
   "cell_type": "code",
   "execution_count": 2,
   "metadata": {},
   "outputs": [
    {
     "data": {
      "text/html": "<div>\n<style scoped>\n    .dataframe tbody tr th:only-of-type {\n        vertical-align: middle;\n    }\n\n    .dataframe tbody tr th {\n        vertical-align: top;\n    }\n\n    .dataframe thead th {\n        text-align: right;\n    }\n</style>\n<table border=\"1\" class=\"dataframe\">\n  <thead>\n    <tr style=\"text-align: right;\">\n      <th></th>\n      <th>0</th>\n      <th>1</th>\n      <th>2</th>\n      <th>3</th>\n      <th>4</th>\n    </tr>\n  </thead>\n  <tbody>\n    <tr>\n      <th>year</th>\n      <td>2018</td>\n      <td>2018</td>\n      <td>2018</td>\n      <td>2018</td>\n      <td>2018</td>\n    </tr>\n    <tr>\n      <th>statefip</th>\n      <td>Maine</td>\n      <td>Maine</td>\n      <td>Maine</td>\n      <td>Maine</td>\n      <td>Maine</td>\n    </tr>\n    <tr>\n      <th>asecwt</th>\n      <td>438.673333</td>\n      <td>274.763333</td>\n      <td>274.763333</td>\n      <td>243.89</td>\n      <td>368.823333</td>\n    </tr>\n    <tr>\n      <th>age</th>\n      <td>73</td>\n      <td>48</td>\n      <td>55</td>\n      <td>12</td>\n      <td>6</td>\n    </tr>\n    <tr>\n      <th>race</th>\n      <td>100</td>\n      <td>100</td>\n      <td>100</td>\n      <td>100</td>\n      <td>200</td>\n    </tr>\n    <tr>\n      <th>citizen</th>\n      <td>1</td>\n      <td>1</td>\n      <td>1</td>\n      <td>1</td>\n      <td>1</td>\n    </tr>\n    <tr>\n      <th>hispan</th>\n      <td>0</td>\n      <td>0</td>\n      <td>0</td>\n      <td>0</td>\n      <td>0</td>\n    </tr>\n    <tr>\n      <th>diffany</th>\n      <td>2</td>\n      <td>1</td>\n      <td>1</td>\n      <td>0</td>\n      <td>0</td>\n    </tr>\n    <tr>\n      <th>incss</th>\n      <td>6000</td>\n      <td>0</td>\n      <td>0</td>\n      <td>0</td>\n      <td>0</td>\n    </tr>\n    <tr>\n      <th>incssi</th>\n      <td>0</td>\n      <td>0</td>\n      <td>0</td>\n      <td>0</td>\n      <td>0</td>\n    </tr>\n    <tr>\n      <th>incunemp</th>\n      <td>0</td>\n      <td>0</td>\n      <td>0</td>\n      <td>0</td>\n      <td>0</td>\n    </tr>\n    <tr>\n      <th>ctccrd</th>\n      <td>0</td>\n      <td>2400</td>\n      <td>0</td>\n      <td>0</td>\n      <td>0</td>\n    </tr>\n    <tr>\n      <th>actccrd</th>\n      <td>0</td>\n      <td>0</td>\n      <td>0</td>\n      <td>0</td>\n      <td>0</td>\n    </tr>\n    <tr>\n      <th>adjginc</th>\n      <td>9402</td>\n      <td>121785</td>\n      <td>0</td>\n      <td>0</td>\n      <td>0</td>\n    </tr>\n    <tr>\n      <th>eitcred</th>\n      <td>0</td>\n      <td>0</td>\n      <td>0</td>\n      <td>0</td>\n      <td>0</td>\n    </tr>\n    <tr>\n      <th>fedtaxac</th>\n      <td>0</td>\n      <td>11046</td>\n      <td>0</td>\n      <td>0</td>\n      <td>0</td>\n    </tr>\n    <tr>\n      <th>fica</th>\n      <td>0</td>\n      <td>92</td>\n      <td>4284</td>\n      <td>0</td>\n      <td>0</td>\n    </tr>\n    <tr>\n      <th>stataxac</th>\n      <td>0</td>\n      <td>4091</td>\n      <td>0</td>\n      <td>0</td>\n      <td>0</td>\n    </tr>\n    <tr>\n      <th>taxinc</th>\n      <td>0</td>\n      <td>88835</td>\n      <td>0</td>\n      <td>0</td>\n      <td>0</td>\n    </tr>\n    <tr>\n      <th>spmwt</th>\n      <td>1316.02</td>\n      <td>824.29</td>\n      <td>824.29</td>\n      <td>824.29</td>\n      <td>824.29</td>\n    </tr>\n    <tr>\n      <th>spmheat</th>\n      <td>0.0</td>\n      <td>0.0</td>\n      <td>0.0</td>\n      <td>0.0</td>\n      <td>0.0</td>\n    </tr>\n    <tr>\n      <th>spmsnap</th>\n      <td>0</td>\n      <td>0</td>\n      <td>0</td>\n      <td>0</td>\n      <td>0</td>\n    </tr>\n    <tr>\n      <th>spmtotres</th>\n      <td>47514.0</td>\n      <td>105232.008</td>\n      <td>105232.008</td>\n      <td>105232.008</td>\n      <td>105232.008</td>\n    </tr>\n    <tr>\n      <th>spmnpers</th>\n      <td>1</td>\n      <td>5</td>\n      <td>5</td>\n      <td>5</td>\n      <td>5</td>\n    </tr>\n    <tr>\n      <th>spmthresh</th>\n      <td>11004.31484</td>\n      <td>26449.08415</td>\n      <td>26449.08415</td>\n      <td>26449.08415</td>\n      <td>26449.08415</td>\n    </tr>\n    <tr>\n      <th>spmfamunit</th>\n      <td>2001</td>\n      <td>4001</td>\n      <td>4001</td>\n      <td>4001</td>\n      <td>4001</td>\n    </tr>\n    <tr>\n      <th>adult</th>\n      <td>True</td>\n      <td>True</td>\n      <td>True</td>\n      <td>False</td>\n      <td>False</td>\n    </tr>\n    <tr>\n      <th>child</th>\n      <td>False</td>\n      <td>False</td>\n      <td>False</td>\n      <td>True</td>\n      <td>True</td>\n    </tr>\n    <tr>\n      <th>black</th>\n      <td>False</td>\n      <td>False</td>\n      <td>False</td>\n      <td>False</td>\n      <td>True</td>\n    </tr>\n    <tr>\n      <th>white_non_hispanic</th>\n      <td>True</td>\n      <td>True</td>\n      <td>True</td>\n      <td>True</td>\n      <td>False</td>\n    </tr>\n    <tr>\n      <th>hispanic</th>\n      <td>True</td>\n      <td>True</td>\n      <td>True</td>\n      <td>True</td>\n      <td>True</td>\n    </tr>\n    <tr>\n      <th>pwd</th>\n      <td>True</td>\n      <td>False</td>\n      <td>False</td>\n      <td>False</td>\n      <td>False</td>\n    </tr>\n    <tr>\n      <th>non_citizen</th>\n      <td>False</td>\n      <td>False</td>\n      <td>False</td>\n      <td>False</td>\n      <td>False</td>\n    </tr>\n    <tr>\n      <th>non_citizen_child</th>\n      <td>False</td>\n      <td>False</td>\n      <td>False</td>\n      <td>False</td>\n      <td>False</td>\n    </tr>\n    <tr>\n      <th>non_citizen_adult</th>\n      <td>False</td>\n      <td>False</td>\n      <td>False</td>\n      <td>False</td>\n      <td>False</td>\n    </tr>\n    <tr>\n      <th>ctc</th>\n      <td>0</td>\n      <td>2400</td>\n      <td>0</td>\n      <td>0</td>\n      <td>0</td>\n    </tr>\n    <tr>\n      <th>person</th>\n      <td>1</td>\n      <td>1</td>\n      <td>1</td>\n      <td>1</td>\n      <td>1</td>\n    </tr>\n    <tr>\n      <th>numper</th>\n      <td>1</td>\n      <td>5</td>\n      <td>5</td>\n      <td>5</td>\n      <td>5</td>\n    </tr>\n    <tr>\n      <th>weighted_state_tax</th>\n      <td>0.0</td>\n      <td>1124056.796667</td>\n      <td>0.0</td>\n      <td>0.0</td>\n      <td>0.0</td>\n    </tr>\n    <tr>\n      <th>weighted_agi</th>\n      <td>4124406.68</td>\n      <td>33462052.55</td>\n      <td>0.0</td>\n      <td>0.0</td>\n      <td>0.0</td>\n    </tr>\n    <tr>\n      <th>state_tax_revenue</th>\n      <td>1526793245.48</td>\n      <td>1526793245.48</td>\n      <td>1526793245.48</td>\n      <td>1526793245.48</td>\n      <td>1526793245.48</td>\n    </tr>\n    <tr>\n      <th>state_taxable_income</th>\n      <td>40179001414.286758</td>\n      <td>40179001414.286758</td>\n      <td>40179001414.286758</td>\n      <td>40179001414.286758</td>\n      <td>40179001414.286758</td>\n    </tr>\n  </tbody>\n</table>\n</div>",
      "text/plain": "                                       0                   1  \\\nyear                                2018                2018   \nstatefip                           Maine               Maine   \nasecwt                        438.673333          274.763333   \nage                                   73                  48   \nrace                                 100                 100   \ncitizen                                1                   1   \nhispan                                 0                   0   \ndiffany                                2                   1   \nincss                               6000                   0   \nincssi                                 0                   0   \nincunemp                               0                   0   \nctccrd                                 0                2400   \nactccrd                                0                   0   \nadjginc                             9402              121785   \neitcred                                0                   0   \nfedtaxac                               0               11046   \nfica                                   0                  92   \nstataxac                               0                4091   \ntaxinc                                 0               88835   \nspmwt                            1316.02              824.29   \nspmheat                              0.0                 0.0   \nspmsnap                                0                   0   \nspmtotres                        47514.0          105232.008   \nspmnpers                               1                   5   \nspmthresh                    11004.31484         26449.08415   \nspmfamunit                          2001                4001   \nadult                               True                True   \nchild                              False               False   \nblack                              False               False   \nwhite_non_hispanic                  True                True   \nhispanic                            True                True   \npwd                                 True               False   \nnon_citizen                        False               False   \nnon_citizen_child                  False               False   \nnon_citizen_adult                  False               False   \nctc                                    0                2400   \nperson                                 1                   1   \nnumper                                 1                   5   \nweighted_state_tax                   0.0      1124056.796667   \nweighted_agi                  4124406.68         33462052.55   \nstate_tax_revenue          1526793245.48       1526793245.48   \nstate_taxable_income  40179001414.286758  40179001414.286758   \n\n                                       2                   3  \\\nyear                                2018                2018   \nstatefip                           Maine               Maine   \nasecwt                        274.763333              243.89   \nage                                   55                  12   \nrace                                 100                 100   \ncitizen                                1                   1   \nhispan                                 0                   0   \ndiffany                                1                   0   \nincss                                  0                   0   \nincssi                                 0                   0   \nincunemp                               0                   0   \nctccrd                                 0                   0   \nactccrd                                0                   0   \nadjginc                                0                   0   \neitcred                                0                   0   \nfedtaxac                               0                   0   \nfica                                4284                   0   \nstataxac                               0                   0   \ntaxinc                                 0                   0   \nspmwt                             824.29              824.29   \nspmheat                              0.0                 0.0   \nspmsnap                                0                   0   \nspmtotres                     105232.008          105232.008   \nspmnpers                               5                   5   \nspmthresh                    26449.08415         26449.08415   \nspmfamunit                          4001                4001   \nadult                               True               False   \nchild                              False                True   \nblack                              False               False   \nwhite_non_hispanic                  True                True   \nhispanic                            True                True   \npwd                                False               False   \nnon_citizen                        False               False   \nnon_citizen_child                  False               False   \nnon_citizen_adult                  False               False   \nctc                                    0                   0   \nperson                                 1                   1   \nnumper                                 5                   5   \nweighted_state_tax                   0.0                 0.0   \nweighted_agi                         0.0                 0.0   \nstate_tax_revenue          1526793245.48       1526793245.48   \nstate_taxable_income  40179001414.286758  40179001414.286758   \n\n                                       4  \nyear                                2018  \nstatefip                           Maine  \nasecwt                        368.823333  \nage                                    6  \nrace                                 200  \ncitizen                                1  \nhispan                                 0  \ndiffany                                0  \nincss                                  0  \nincssi                                 0  \nincunemp                               0  \nctccrd                                 0  \nactccrd                                0  \nadjginc                                0  \neitcred                                0  \nfedtaxac                               0  \nfica                                   0  \nstataxac                               0  \ntaxinc                                 0  \nspmwt                             824.29  \nspmheat                              0.0  \nspmsnap                                0  \nspmtotres                     105232.008  \nspmnpers                               5  \nspmthresh                    26449.08415  \nspmfamunit                          4001  \nadult                              False  \nchild                               True  \nblack                               True  \nwhite_non_hispanic                 False  \nhispanic                            True  \npwd                                False  \nnon_citizen                        False  \nnon_citizen_child                  False  \nnon_citizen_adult                  False  \nctc                                    0  \nperson                                 1  \nnumper                                 5  \nweighted_state_tax                   0.0  \nweighted_agi                         0.0  \nstate_tax_revenue          1526793245.48  \nstate_taxable_income  40179001414.286758  "
     },
     "execution_count": 2,
     "metadata": {},
     "output_type": "execute_result"
    }
   ],
   "source": [
    "# Import data from Ipums\r\n",
    "person_raw = pd.read_csv(\"cps_00041.csv.gz\")\r\n",
    "\r\n",
    "# Create copy and lower column names\r\n",
    "person = person_raw.copy(deep=True)\r\n",
    "person.columns = person.columns.str.lower()\r\n",
    "person.asecwt /= 3\r\n",
    "\r\n",
    "# Crate booleans for demographics\r\n",
    "person[\"adult\"] = person.age > 17\r\n",
    "person[\"child\"] = person.age < 18\r\n",
    "\r\n",
    "person[\"black\"] = person.race == 200\r\n",
    "person[\"white_non_hispanic\"] = (person.race == 100) & (person.hispan == 0)\r\n",
    "person[\"hispanic\"] = (person.hispan > 1) & person.hispan < 700\r\n",
    "person[\"pwd\"] = person.diffany == 2\r\n",
    "person[\"non_citizen\"] = person.citizen == 5\r\n",
    "person[\"non_citizen_child\"] = (person.citizen == 5) & (person.age < 18)\r\n",
    "person[\"non_citizen_adult\"] = (person.citizen == 5) & (person.age > 17)\r\n",
    "\r\n",
    "# Remove NIUs\r\n",
    "person[\"taxinc\"].replace({9999999: 0}, inplace=True)\r\n",
    "person[\"adjginc\"].replace({99999999: 0}, inplace=True)\r\n",
    "person[\"incss\"].replace({999999: 0}, inplace=True)\r\n",
    "person[\"incssi\"].replace({999999: 0}, inplace=True)\r\n",
    "person[\"incunemp\"].replace({99999: 0}, inplace=True)\r\n",
    "person[\"incunemp\"].replace({999999: 0}, inplace=True)\r\n",
    "person[\"ctccrd\"].replace({999999: 0}, inplace=True)\r\n",
    "person[\"actccrd\"].replace({99999: 0}, inplace=True)\r\n",
    "person[\"eitcred\"].replace({9999: 0}, inplace=True)\r\n",
    "person[\"fica\"].replace({99999: 0}, inplace=True)\r\n",
    "person[\"fedtaxac\"].replace({99999999: 0}, inplace=True)\r\n",
    "person[\"stataxac\"].replace({9999999: 0}, inplace=True)\r\n",
    "\r\n",
    "# Change fip codes to state names\r\n",
    "person[\"statefip\"]=person[\"statefip\"].astype(str)\r\n",
    "person[\"statefip\"]=person[\"statefip\"].apply(lambda x: us.states.lookup(x))\r\n",
    "person[\"statefip\"]=person[\"statefip\"].astype('str')\r\n",
    "\r\n",
    "# Aggregate deductible and refundable child tax credits\r\n",
    "person[\"ctc\"] = person.ctccrd + person.actccrd\r\n",
    "\r\n",
    "# Calculate the number of people per smp unit\r\n",
    "person[\"person\"] = 1\r\n",
    "spm = person.groupby([\"spmfamunit\", \"year\"])[[\"person\"]].sum()\r\n",
    "spm.columns = [\"numper\"]\r\n",
    "person = person.merge(spm, left_on=[\"spmfamunit\", \"year\"], right_index=True)\r\n",
    "\r\n",
    "person[\"weighted_state_tax\"] = person.asecwt * person.stataxac\r\n",
    "person[\"weighted_agi\"] = person.asecwt * person.adjginc\r\n",
    "\r\n",
    "# Calculate the total taxable income and total people in each state\r\n",
    "state_groups_taxinc = person.groupby([\"statefip\"])[\r\n",
    "    [\"weighted_state_tax\", \"weighted_agi\"]\r\n",
    "].sum()\r\n",
    "state_groups_taxinc.columns = [\"state_tax_revenue\", \"state_taxable_income\"]\r\n",
    "person = person.merge(\r\n",
    "    state_groups_taxinc, left_on=[\"statefip\"], right_index=True\r\n",
    ")\r\n",
    "\r\n",
    "person.head().T"
   ]
  },
  {
   "cell_type": "code",
   "execution_count": 3,
   "metadata": {},
   "outputs": [
    {
     "data": {
      "text/html": "<div>\n<style scoped>\n    .dataframe tbody tr th:only-of-type {\n        vertical-align: middle;\n    }\n\n    .dataframe tbody tr th {\n        vertical-align: top;\n    }\n\n    .dataframe thead th {\n        text-align: right;\n    }\n</style>\n<table border=\"1\" class=\"dataframe\">\n  <thead>\n    <tr style=\"text-align: right;\">\n      <th></th>\n      <th>spmheat</th>\n      <th>spmsnap</th>\n      <th>spmfamunit</th>\n      <th>spmthresh</th>\n      <th>spmtotres</th>\n      <th>spmwt</th>\n      <th>year</th>\n      <th>statefip</th>\n      <th>state_tax_revenue</th>\n      <th>state_taxable_income</th>\n      <th>...</th>\n      <th>incssi</th>\n      <th>incunemp</th>\n      <th>eitcred</th>\n      <th>child</th>\n      <th>adult</th>\n      <th>non_citizen</th>\n      <th>non_citizen_child</th>\n      <th>non_citizen_adult</th>\n      <th>numper</th>\n      <th>stataxac</th>\n    </tr>\n  </thead>\n  <tbody>\n    <tr>\n      <th>0</th>\n      <td>0.0</td>\n      <td>0</td>\n      <td>1001</td>\n      <td>14700.00000</td>\n      <td>86459.000</td>\n      <td>517.633333</td>\n      <td>2020</td>\n      <td>Maine</td>\n      <td>1.526793e+09</td>\n      <td>4.017900e+10</td>\n      <td>...</td>\n      <td>0</td>\n      <td>0</td>\n      <td>0</td>\n      <td>0</td>\n      <td>2</td>\n      <td>0</td>\n      <td>0</td>\n      <td>0</td>\n      <td>2</td>\n      <td>-4624</td>\n    </tr>\n    <tr>\n      <th>1</th>\n      <td>0.0</td>\n      <td>0</td>\n      <td>2001</td>\n      <td>11004.31484</td>\n      <td>47514.000</td>\n      <td>438.673333</td>\n      <td>2018</td>\n      <td>Maine</td>\n      <td>1.526793e+09</td>\n      <td>4.017900e+10</td>\n      <td>...</td>\n      <td>0</td>\n      <td>0</td>\n      <td>0</td>\n      <td>0</td>\n      <td>1</td>\n      <td>0</td>\n      <td>0</td>\n      <td>0</td>\n      <td>1</td>\n      <td>0</td>\n    </tr>\n    <tr>\n      <th>2</th>\n      <td>0.0</td>\n      <td>0</td>\n      <td>2001</td>\n      <td>14700.00000</td>\n      <td>55275.000</td>\n      <td>330.163333</td>\n      <td>2020</td>\n      <td>Maine</td>\n      <td>1.526793e+09</td>\n      <td>4.017900e+10</td>\n      <td>...</td>\n      <td>0</td>\n      <td>0</td>\n      <td>0</td>\n      <td>0</td>\n      <td>2</td>\n      <td>0</td>\n      <td>0</td>\n      <td>0</td>\n      <td>2</td>\n      <td>0</td>\n    </tr>\n    <tr>\n      <th>3</th>\n      <td>0.0</td>\n      <td>0</td>\n      <td>3001</td>\n      <td>11920.00000</td>\n      <td>28653.000</td>\n      <td>501.756667</td>\n      <td>2020</td>\n      <td>Maine</td>\n      <td>1.526793e+09</td>\n      <td>4.017900e+10</td>\n      <td>...</td>\n      <td>0</td>\n      <td>0</td>\n      <td>0</td>\n      <td>0</td>\n      <td>1</td>\n      <td>0</td>\n      <td>0</td>\n      <td>0</td>\n      <td>1</td>\n      <td>-1152</td>\n    </tr>\n    <tr>\n      <th>4</th>\n      <td>0.0</td>\n      <td>0</td>\n      <td>4001</td>\n      <td>26449.08415</td>\n      <td>105232.008</td>\n      <td>274.763333</td>\n      <td>2018</td>\n      <td>Maine</td>\n      <td>1.526793e+09</td>\n      <td>4.017900e+10</td>\n      <td>...</td>\n      <td>0</td>\n      <td>0</td>\n      <td>0</td>\n      <td>3</td>\n      <td>2</td>\n      <td>0</td>\n      <td>0</td>\n      <td>0</td>\n      <td>5</td>\n      <td>-4091</td>\n    </tr>\n  </tbody>\n</table>\n<p>5 rows × 24 columns</p>\n</div>",
      "text/plain": "   spmheat  spmsnap  spmfamunit    spmthresh   spmtotres       spmwt  year  \\\n0      0.0        0        1001  14700.00000   86459.000  517.633333  2020   \n1      0.0        0        2001  11004.31484   47514.000  438.673333  2018   \n2      0.0        0        2001  14700.00000   55275.000  330.163333  2020   \n3      0.0        0        3001  11920.00000   28653.000  501.756667  2020   \n4      0.0        0        4001  26449.08415  105232.008  274.763333  2018   \n\n  statefip  state_tax_revenue  state_taxable_income  ...  incssi  incunemp  \\\n0    Maine       1.526793e+09          4.017900e+10  ...       0         0   \n1    Maine       1.526793e+09          4.017900e+10  ...       0         0   \n2    Maine       1.526793e+09          4.017900e+10  ...       0         0   \n3    Maine       1.526793e+09          4.017900e+10  ...       0         0   \n4    Maine       1.526793e+09          4.017900e+10  ...       0         0   \n\n   eitcred  child  adult  non_citizen  non_citizen_child  non_citizen_adult  \\\n0        0      0      2            0                  0                  0   \n1        0      0      1            0                  0                  0   \n2        0      0      2            0                  0                  0   \n3        0      0      1            0                  0                  0   \n4        0      3      2            0                  0                  0   \n\n   numper  stataxac  \n0       2     -4624  \n1       1         0  \n2       2         0  \n3       1     -1152  \n4       5     -4091  \n\n[5 rows x 24 columns]"
     },
     "execution_count": 3,
     "metadata": {},
     "output_type": "execute_result"
    }
   ],
   "source": [
    "# Create dataframe with aggregated spm unit data\r\n",
    "PERSON_COLUMNS = [\r\n",
    "    \"adjginc\",\r\n",
    "    \"fica\",\r\n",
    "    \"fedtaxac\",\r\n",
    "    \"ctc\",\r\n",
    "    \"incssi\",\r\n",
    "    \"incunemp\",\r\n",
    "    \"eitcred\",\r\n",
    "    \"child\",\r\n",
    "    \"adult\",\r\n",
    "    \"non_citizen\",\r\n",
    "    \"non_citizen_child\",\r\n",
    "    \"non_citizen_adult\",\r\n",
    "    \"person\",\r\n",
    "    \"stataxac\",\r\n",
    "]\r\n",
    "SPMU_COLUMNS = [\r\n",
    "    \"spmheat\",\r\n",
    "    \"spmsnap\",\r\n",
    "    \"spmfamunit\",\r\n",
    "    \"spmthresh\",\r\n",
    "    \"spmtotres\",\r\n",
    "    \"spmwt\",\r\n",
    "    \"year\",\r\n",
    "    \"statefip\",\r\n",
    "    \"state_tax_revenue\",\r\n",
    "    \"state_taxable_income\",\r\n",
    "]\r\n",
    "\r\n",
    "spmu = person.groupby(SPMU_COLUMNS, observed=False)[PERSON_COLUMNS].sum().reset_index()\r\n",
    "spmu[[\"fica\", \"fedtaxac\", \"stataxac\"]] *= -1\r\n",
    "spmu.rename(columns={\"person\": \"numper\"}, inplace=True)\r\n",
    "\r\n",
    "spmu.spmwt /= 3\r\n",
    "\r\n",
    "spmu.head()"
   ]
  },
  {
   "cell_type": "code",
   "execution_count": 5,
   "metadata": {},
   "outputs": [
    {
     "data": {
      "text/html": "<div>\n<style scoped>\n    .dataframe tbody tr th:only-of-type {\n        vertical-align: middle;\n    }\n\n    .dataframe tbody tr th {\n        vertical-align: top;\n    }\n\n    .dataframe thead th {\n        text-align: right;\n    }\n</style>\n<table border=\"1\" class=\"dataframe\">\n  <thead>\n    <tr style=\"text-align: right;\">\n      <th></th>\n      <th>0</th>\n      <th>1</th>\n      <th>2</th>\n      <th>3</th>\n      <th>4</th>\n    </tr>\n  </thead>\n  <tbody>\n    <tr>\n      <th>spmheat</th>\n      <td>0.0</td>\n      <td>0.0</td>\n      <td>0.0</td>\n      <td>0.0</td>\n      <td>0.0</td>\n    </tr>\n    <tr>\n      <th>spmsnap</th>\n      <td>0</td>\n      <td>0</td>\n      <td>0</td>\n      <td>0</td>\n      <td>0</td>\n    </tr>\n    <tr>\n      <th>spmfamunit</th>\n      <td>1001</td>\n      <td>2001</td>\n      <td>2001</td>\n      <td>3001</td>\n      <td>4001</td>\n    </tr>\n    <tr>\n      <th>spmthresh</th>\n      <td>14700.0</td>\n      <td>11004.31484</td>\n      <td>14700.0</td>\n      <td>11920.0</td>\n      <td>26449.08415</td>\n    </tr>\n    <tr>\n      <th>spmtotres</th>\n      <td>86459.0</td>\n      <td>47514.0</td>\n      <td>55275.0</td>\n      <td>28653.0</td>\n      <td>105232.008</td>\n    </tr>\n    <tr>\n      <th>spmwt</th>\n      <td>517.633333</td>\n      <td>438.673333</td>\n      <td>330.163333</td>\n      <td>501.756667</td>\n      <td>274.763333</td>\n    </tr>\n    <tr>\n      <th>year</th>\n      <td>2020</td>\n      <td>2018</td>\n      <td>2020</td>\n      <td>2020</td>\n      <td>2018</td>\n    </tr>\n    <tr>\n      <th>statefip</th>\n      <td>Maine</td>\n      <td>Maine</td>\n      <td>Maine</td>\n      <td>Maine</td>\n      <td>Maine</td>\n    </tr>\n    <tr>\n      <th>state_tax_revenue</th>\n      <td>1526793245.48</td>\n      <td>1526793245.48</td>\n      <td>1526793245.48</td>\n      <td>1526793245.48</td>\n      <td>1526793245.48</td>\n    </tr>\n    <tr>\n      <th>state_taxable_income</th>\n      <td>40179001414.286758</td>\n      <td>40179001414.286758</td>\n      <td>40179001414.286758</td>\n      <td>40179001414.286758</td>\n      <td>40179001414.286758</td>\n    </tr>\n    <tr>\n      <th>adjginc</th>\n      <td>124644</td>\n      <td>9402</td>\n      <td>40289</td>\n      <td>40002</td>\n      <td>121785</td>\n    </tr>\n    <tr>\n      <th>fica</th>\n      <td>-8301</td>\n      <td>0</td>\n      <td>-2601</td>\n      <td>-3060</td>\n      <td>-4376</td>\n    </tr>\n    <tr>\n      <th>fedtaxac</th>\n      <td>-13485</td>\n      <td>0</td>\n      <td>-1459</td>\n      <td>-2772</td>\n      <td>-11046</td>\n    </tr>\n    <tr>\n      <th>ctc</th>\n      <td>0</td>\n      <td>0</td>\n      <td>0</td>\n      <td>0</td>\n      <td>2400</td>\n    </tr>\n    <tr>\n      <th>incssi</th>\n      <td>0</td>\n      <td>0</td>\n      <td>0</td>\n      <td>0</td>\n      <td>0</td>\n    </tr>\n    <tr>\n      <th>incunemp</th>\n      <td>0</td>\n      <td>0</td>\n      <td>0</td>\n      <td>0</td>\n      <td>0</td>\n    </tr>\n    <tr>\n      <th>eitcred</th>\n      <td>0</td>\n      <td>0</td>\n      <td>0</td>\n      <td>0</td>\n      <td>0</td>\n    </tr>\n    <tr>\n      <th>child</th>\n      <td>0</td>\n      <td>0</td>\n      <td>0</td>\n      <td>0</td>\n      <td>3</td>\n    </tr>\n    <tr>\n      <th>adult</th>\n      <td>2</td>\n      <td>1</td>\n      <td>2</td>\n      <td>1</td>\n      <td>2</td>\n    </tr>\n    <tr>\n      <th>non_citizen</th>\n      <td>0</td>\n      <td>0</td>\n      <td>0</td>\n      <td>0</td>\n      <td>0</td>\n    </tr>\n    <tr>\n      <th>non_citizen_child</th>\n      <td>0</td>\n      <td>0</td>\n      <td>0</td>\n      <td>0</td>\n      <td>0</td>\n    </tr>\n    <tr>\n      <th>non_citizen_adult</th>\n      <td>0</td>\n      <td>0</td>\n      <td>0</td>\n      <td>0</td>\n      <td>0</td>\n    </tr>\n    <tr>\n      <th>numper</th>\n      <td>2</td>\n      <td>1</td>\n      <td>2</td>\n      <td>1</td>\n      <td>5</td>\n    </tr>\n    <tr>\n      <th>stataxac</th>\n      <td>-4624</td>\n      <td>0</td>\n      <td>0</td>\n      <td>-1152</td>\n      <td>-4091</td>\n    </tr>\n  </tbody>\n</table>\n</div>",
      "text/plain": "                                       0                   1  \\\nspmheat                              0.0                 0.0   \nspmsnap                                0                   0   \nspmfamunit                          1001                2001   \nspmthresh                        14700.0         11004.31484   \nspmtotres                        86459.0             47514.0   \nspmwt                         517.633333          438.673333   \nyear                                2020                2018   \nstatefip                           Maine               Maine   \nstate_tax_revenue          1526793245.48       1526793245.48   \nstate_taxable_income  40179001414.286758  40179001414.286758   \nadjginc                           124644                9402   \nfica                               -8301                   0   \nfedtaxac                          -13485                   0   \nctc                                    0                   0   \nincssi                                 0                   0   \nincunemp                               0                   0   \neitcred                                0                   0   \nchild                                  0                   0   \nadult                                  2                   1   \nnon_citizen                            0                   0   \nnon_citizen_child                      0                   0   \nnon_citizen_adult                      0                   0   \nnumper                                 2                   1   \nstataxac                           -4624                   0   \n\n                                       2                   3  \\\nspmheat                              0.0                 0.0   \nspmsnap                                0                   0   \nspmfamunit                          2001                3001   \nspmthresh                        14700.0             11920.0   \nspmtotres                        55275.0             28653.0   \nspmwt                         330.163333          501.756667   \nyear                                2020                2020   \nstatefip                           Maine               Maine   \nstate_tax_revenue          1526793245.48       1526793245.48   \nstate_taxable_income  40179001414.286758  40179001414.286758   \nadjginc                            40289               40002   \nfica                               -2601               -3060   \nfedtaxac                           -1459               -2772   \nctc                                    0                   0   \nincssi                                 0                   0   \nincunemp                               0                   0   \neitcred                                0                   0   \nchild                                  0                   0   \nadult                                  2                   1   \nnon_citizen                            0                   0   \nnon_citizen_child                      0                   0   \nnon_citizen_adult                      0                   0   \nnumper                                 2                   1   \nstataxac                               0               -1152   \n\n                                       4  \nspmheat                              0.0  \nspmsnap                                0  \nspmfamunit                          4001  \nspmthresh                    26449.08415  \nspmtotres                     105232.008  \nspmwt                         274.763333  \nyear                                2018  \nstatefip                           Maine  \nstate_tax_revenue          1526793245.48  \nstate_taxable_income  40179001414.286758  \nadjginc                           121785  \nfica                               -4376  \nfedtaxac                          -11046  \nctc                                 2400  \nincssi                                 0  \nincunemp                               0  \neitcred                                0  \nchild                                  3  \nadult                                  2  \nnon_citizen                            0  \nnon_citizen_child                      0  \nnon_citizen_adult                      0  \nnumper                                 5  \nstataxac                           -4091  "
     },
     "execution_count": 5,
     "metadata": {},
     "output_type": "execute_result"
    }
   ],
   "source": [
    "spmu.head().T"
   ]
  },
  {
   "cell_type": "markdown",
   "metadata": {},
   "source": [
    "# calculate US stuff first"
   ]
  },
  {
   "cell_type": "code",
   "execution_count": 6,
   "metadata": {},
   "outputs": [
    {
     "data": {
      "text/html": "<div>\n<style scoped>\n    .dataframe tbody tr th:only-of-type {\n        vertical-align: middle;\n    }\n\n    .dataframe tbody tr th {\n        vertical-align: top;\n    }\n\n    .dataframe thead th {\n        text-align: right;\n    }\n</style>\n<table border=\"1\" class=\"dataframe\">\n  <thead>\n    <tr style=\"text-align: right;\">\n      <th></th>\n      <th>0</th>\n      <th>1</th>\n      <th>2</th>\n      <th>3</th>\n      <th>4</th>\n    </tr>\n  </thead>\n  <tbody>\n    <tr>\n      <th>year</th>\n      <td>2018</td>\n      <td>2018</td>\n      <td>2018</td>\n      <td>2018</td>\n      <td>2018</td>\n    </tr>\n    <tr>\n      <th>statefip</th>\n      <td>Maine</td>\n      <td>Maine</td>\n      <td>Maine</td>\n      <td>Maine</td>\n      <td>Maine</td>\n    </tr>\n    <tr>\n      <th>asecwt</th>\n      <td>438.673333</td>\n      <td>274.763333</td>\n      <td>274.763333</td>\n      <td>243.89</td>\n      <td>368.823333</td>\n    </tr>\n    <tr>\n      <th>age</th>\n      <td>73</td>\n      <td>48</td>\n      <td>55</td>\n      <td>12</td>\n      <td>6</td>\n    </tr>\n    <tr>\n      <th>race</th>\n      <td>100</td>\n      <td>100</td>\n      <td>100</td>\n      <td>100</td>\n      <td>200</td>\n    </tr>\n    <tr>\n      <th>citizen</th>\n      <td>1</td>\n      <td>1</td>\n      <td>1</td>\n      <td>1</td>\n      <td>1</td>\n    </tr>\n    <tr>\n      <th>hispan</th>\n      <td>0</td>\n      <td>0</td>\n      <td>0</td>\n      <td>0</td>\n      <td>0</td>\n    </tr>\n    <tr>\n      <th>diffany</th>\n      <td>2</td>\n      <td>1</td>\n      <td>1</td>\n      <td>0</td>\n      <td>0</td>\n    </tr>\n    <tr>\n      <th>incss</th>\n      <td>6000</td>\n      <td>0</td>\n      <td>0</td>\n      <td>0</td>\n      <td>0</td>\n    </tr>\n    <tr>\n      <th>incssi</th>\n      <td>0</td>\n      <td>0</td>\n      <td>0</td>\n      <td>0</td>\n      <td>0</td>\n    </tr>\n    <tr>\n      <th>incunemp</th>\n      <td>0</td>\n      <td>0</td>\n      <td>0</td>\n      <td>0</td>\n      <td>0</td>\n    </tr>\n    <tr>\n      <th>ctccrd</th>\n      <td>0</td>\n      <td>2400</td>\n      <td>0</td>\n      <td>0</td>\n      <td>0</td>\n    </tr>\n    <tr>\n      <th>actccrd</th>\n      <td>0</td>\n      <td>0</td>\n      <td>0</td>\n      <td>0</td>\n      <td>0</td>\n    </tr>\n    <tr>\n      <th>adjginc</th>\n      <td>9402</td>\n      <td>121785</td>\n      <td>0</td>\n      <td>0</td>\n      <td>0</td>\n    </tr>\n    <tr>\n      <th>eitcred</th>\n      <td>0</td>\n      <td>0</td>\n      <td>0</td>\n      <td>0</td>\n      <td>0</td>\n    </tr>\n    <tr>\n      <th>fedtaxac</th>\n      <td>0</td>\n      <td>11046</td>\n      <td>0</td>\n      <td>0</td>\n      <td>0</td>\n    </tr>\n    <tr>\n      <th>fica</th>\n      <td>0</td>\n      <td>92</td>\n      <td>4284</td>\n      <td>0</td>\n      <td>0</td>\n    </tr>\n    <tr>\n      <th>stataxac</th>\n      <td>0</td>\n      <td>4091</td>\n      <td>0</td>\n      <td>0</td>\n      <td>0</td>\n    </tr>\n    <tr>\n      <th>taxinc</th>\n      <td>0</td>\n      <td>88835</td>\n      <td>0</td>\n      <td>0</td>\n      <td>0</td>\n    </tr>\n    <tr>\n      <th>spmwt</th>\n      <td>1316.02</td>\n      <td>824.29</td>\n      <td>824.29</td>\n      <td>824.29</td>\n      <td>824.29</td>\n    </tr>\n    <tr>\n      <th>spmheat</th>\n      <td>0.0</td>\n      <td>0.0</td>\n      <td>0.0</td>\n      <td>0.0</td>\n      <td>0.0</td>\n    </tr>\n    <tr>\n      <th>spmsnap</th>\n      <td>0</td>\n      <td>0</td>\n      <td>0</td>\n      <td>0</td>\n      <td>0</td>\n    </tr>\n    <tr>\n      <th>spmtotres</th>\n      <td>47514.0</td>\n      <td>105232.008</td>\n      <td>105232.008</td>\n      <td>105232.008</td>\n      <td>105232.008</td>\n    </tr>\n    <tr>\n      <th>spmnpers</th>\n      <td>1</td>\n      <td>5</td>\n      <td>5</td>\n      <td>5</td>\n      <td>5</td>\n    </tr>\n    <tr>\n      <th>spmthresh</th>\n      <td>11004.31484</td>\n      <td>26449.08415</td>\n      <td>26449.08415</td>\n      <td>26449.08415</td>\n      <td>26449.08415</td>\n    </tr>\n    <tr>\n      <th>spmfamunit</th>\n      <td>2001</td>\n      <td>4001</td>\n      <td>4001</td>\n      <td>4001</td>\n      <td>4001</td>\n    </tr>\n    <tr>\n      <th>adult</th>\n      <td>True</td>\n      <td>True</td>\n      <td>True</td>\n      <td>False</td>\n      <td>False</td>\n    </tr>\n    <tr>\n      <th>child</th>\n      <td>False</td>\n      <td>False</td>\n      <td>False</td>\n      <td>True</td>\n      <td>True</td>\n    </tr>\n    <tr>\n      <th>black</th>\n      <td>False</td>\n      <td>False</td>\n      <td>False</td>\n      <td>False</td>\n      <td>True</td>\n    </tr>\n    <tr>\n      <th>white_non_hispanic</th>\n      <td>True</td>\n      <td>True</td>\n      <td>True</td>\n      <td>True</td>\n      <td>False</td>\n    </tr>\n    <tr>\n      <th>hispanic</th>\n      <td>True</td>\n      <td>True</td>\n      <td>True</td>\n      <td>True</td>\n      <td>True</td>\n    </tr>\n    <tr>\n      <th>pwd</th>\n      <td>True</td>\n      <td>False</td>\n      <td>False</td>\n      <td>False</td>\n      <td>False</td>\n    </tr>\n    <tr>\n      <th>non_citizen</th>\n      <td>False</td>\n      <td>False</td>\n      <td>False</td>\n      <td>False</td>\n      <td>False</td>\n    </tr>\n    <tr>\n      <th>non_citizen_child</th>\n      <td>False</td>\n      <td>False</td>\n      <td>False</td>\n      <td>False</td>\n      <td>False</td>\n    </tr>\n    <tr>\n      <th>non_citizen_adult</th>\n      <td>False</td>\n      <td>False</td>\n      <td>False</td>\n      <td>False</td>\n      <td>False</td>\n    </tr>\n    <tr>\n      <th>ctc</th>\n      <td>0</td>\n      <td>2400</td>\n      <td>0</td>\n      <td>0</td>\n      <td>0</td>\n    </tr>\n    <tr>\n      <th>person</th>\n      <td>1</td>\n      <td>1</td>\n      <td>1</td>\n      <td>1</td>\n      <td>1</td>\n    </tr>\n    <tr>\n      <th>numper</th>\n      <td>1</td>\n      <td>5</td>\n      <td>5</td>\n      <td>5</td>\n      <td>5</td>\n    </tr>\n    <tr>\n      <th>weighted_state_tax</th>\n      <td>0.0</td>\n      <td>1124056.796667</td>\n      <td>0.0</td>\n      <td>0.0</td>\n      <td>0.0</td>\n    </tr>\n    <tr>\n      <th>weighted_agi</th>\n      <td>4124406.68</td>\n      <td>33462052.55</td>\n      <td>0.0</td>\n      <td>0.0</td>\n      <td>0.0</td>\n    </tr>\n    <tr>\n      <th>state_tax_revenue</th>\n      <td>1526793245.48</td>\n      <td>1526793245.48</td>\n      <td>1526793245.48</td>\n      <td>1526793245.48</td>\n      <td>1526793245.48</td>\n    </tr>\n    <tr>\n      <th>state_taxable_income</th>\n      <td>40179001414.286758</td>\n      <td>40179001414.286758</td>\n      <td>40179001414.286758</td>\n      <td>40179001414.286758</td>\n      <td>40179001414.286758</td>\n    </tr>\n  </tbody>\n</table>\n</div>",
      "text/plain": "                                       0                   1  \\\nyear                                2018                2018   \nstatefip                           Maine               Maine   \nasecwt                        438.673333          274.763333   \nage                                   73                  48   \nrace                                 100                 100   \ncitizen                                1                   1   \nhispan                                 0                   0   \ndiffany                                2                   1   \nincss                               6000                   0   \nincssi                                 0                   0   \nincunemp                               0                   0   \nctccrd                                 0                2400   \nactccrd                                0                   0   \nadjginc                             9402              121785   \neitcred                                0                   0   \nfedtaxac                               0               11046   \nfica                                   0                  92   \nstataxac                               0                4091   \ntaxinc                                 0               88835   \nspmwt                            1316.02              824.29   \nspmheat                              0.0                 0.0   \nspmsnap                                0                   0   \nspmtotres                        47514.0          105232.008   \nspmnpers                               1                   5   \nspmthresh                    11004.31484         26449.08415   \nspmfamunit                          2001                4001   \nadult                               True                True   \nchild                              False               False   \nblack                              False               False   \nwhite_non_hispanic                  True                True   \nhispanic                            True                True   \npwd                                 True               False   \nnon_citizen                        False               False   \nnon_citizen_child                  False               False   \nnon_citizen_adult                  False               False   \nctc                                    0                2400   \nperson                                 1                   1   \nnumper                                 1                   5   \nweighted_state_tax                   0.0      1124056.796667   \nweighted_agi                  4124406.68         33462052.55   \nstate_tax_revenue          1526793245.48       1526793245.48   \nstate_taxable_income  40179001414.286758  40179001414.286758   \n\n                                       2                   3  \\\nyear                                2018                2018   \nstatefip                           Maine               Maine   \nasecwt                        274.763333              243.89   \nage                                   55                  12   \nrace                                 100                 100   \ncitizen                                1                   1   \nhispan                                 0                   0   \ndiffany                                1                   0   \nincss                                  0                   0   \nincssi                                 0                   0   \nincunemp                               0                   0   \nctccrd                                 0                   0   \nactccrd                                0                   0   \nadjginc                                0                   0   \neitcred                                0                   0   \nfedtaxac                               0                   0   \nfica                                4284                   0   \nstataxac                               0                   0   \ntaxinc                                 0                   0   \nspmwt                             824.29              824.29   \nspmheat                              0.0                 0.0   \nspmsnap                                0                   0   \nspmtotres                     105232.008          105232.008   \nspmnpers                               5                   5   \nspmthresh                    26449.08415         26449.08415   \nspmfamunit                          4001                4001   \nadult                               True               False   \nchild                              False                True   \nblack                              False               False   \nwhite_non_hispanic                  True                True   \nhispanic                            True                True   \npwd                                False               False   \nnon_citizen                        False               False   \nnon_citizen_child                  False               False   \nnon_citizen_adult                  False               False   \nctc                                    0                   0   \nperson                                 1                   1   \nnumper                                 5                   5   \nweighted_state_tax                   0.0                 0.0   \nweighted_agi                         0.0                 0.0   \nstate_tax_revenue          1526793245.48       1526793245.48   \nstate_taxable_income  40179001414.286758  40179001414.286758   \n\n                                       4  \nyear                                2018  \nstatefip                           Maine  \nasecwt                        368.823333  \nage                                    6  \nrace                                 200  \ncitizen                                1  \nhispan                                 0  \ndiffany                                0  \nincss                                  0  \nincssi                                 0  \nincunemp                               0  \nctccrd                                 0  \nactccrd                                0  \nadjginc                                0  \neitcred                                0  \nfedtaxac                               0  \nfica                                   0  \nstataxac                               0  \ntaxinc                                 0  \nspmwt                             824.29  \nspmheat                              0.0  \nspmsnap                                0  \nspmtotres                     105232.008  \nspmnpers                               5  \nspmthresh                    26449.08415  \nspmfamunit                          4001  \nadult                              False  \nchild                               True  \nblack                               True  \nwhite_non_hispanic                 False  \nhispanic                            True  \npwd                                False  \nnon_citizen                        False  \nnon_citizen_child                  False  \nnon_citizen_adult                  False  \nctc                                    0  \nperson                                 1  \nnumper                                 5  \nweighted_state_tax                   0.0  \nweighted_agi                         0.0  \nstate_tax_revenue          1526793245.48  \nstate_taxable_income  40179001414.286758  "
     },
     "execution_count": 6,
     "metadata": {},
     "output_type": "execute_result"
    }
   ],
   "source": [
    "person.head().T"
   ]
  },
  {
   "cell_type": "code",
   "execution_count": 10,
   "metadata": {},
   "outputs": [],
   "source": [
    "population = person.asecwt.sum()\r\n",
    "adult_pop = (person.asecwt*person.adult).sum()\r\n",
    "child_pop = (person.asecwt*person.child).sum()\r\n",
    "black_pop = (person.asecwt*person.black).sum() \r\n",
    "white_non_hispanic_pop = (person.asecwt*person.white_non_hispanic).sum() \r\n",
    "hispanic_pop = (person.asecwt*person.hispanic).sum() \r\n",
    "pwd_pop = (person.asecwt*person.pwd).sum() \r\n",
    "non_citizen_pop = (person.asecwt*person.non_citizen).sum() \r\n",
    "non_citizen_adult_pop = (person.asecwt*person.non_citizen_adult).sum() \r\n",
    "non_citizen_child_pop = (person.asecwt*person.non_citizen_child).sum() \r\n",
    "\r\n",
    "\r\n"
   ]
  }
 ],
 "metadata": {
  "kernelspec": {
   "display_name": "Python 3.9.2 64-bit ('calc': conda)",
   "name": "python392jvsc74a57bd0f939b1518d7238981022797afc1e0483f517a57eb91d86ba7dfe863f8ecb4fdf"
  },
  "language_info": {
   "codemirror_mode": {
    "name": "ipython",
    "version": 3
   },
   "file_extension": ".py",
   "mimetype": "text/x-python",
   "name": "python",
   "nbconvert_exporter": "python",
   "pygments_lexer": "ipython3",
   "version": "3.9.2"
  }
 },
 "nbformat": 4,
 "nbformat_minor": 4
}